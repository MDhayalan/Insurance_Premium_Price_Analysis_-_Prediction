{
 "cells": [
  {
   "cell_type": "markdown",
   "id": "5bff72ce",
   "metadata": {},
   "source": [
    "# Insurance Premium Prediction Analysis"
   ]
  },
  {
   "cell_type": "markdown",
   "id": "4d29b41a",
   "metadata": {},
   "source": [
    "## Problem description"
   ]
  },
  {
   "cell_type": "markdown",
   "id": "66a2120a",
   "metadata": {},
   "source": [
    "- To do the EDA to find the important factors affecting the premium price.\n",
    "- Based on the user input, need to predict the premium price. \n"
   ]
  },
  {
   "cell_type": "markdown",
   "id": "760641fb",
   "metadata": {},
   "source": [
    "## Importing Python Libraries"
   ]
  },
  {
   "cell_type": "code",
   "execution_count": 2,
   "id": "8e45e944",
   "metadata": {},
   "outputs": [],
   "source": [
    "import numpy as np\n",
    "import pandas as pd\n",
    "import matplotlib.pyplot as plt\n",
    "import seaborn as sns\n",
    "import plotly.express as px\n",
    "import statsmodels.api as sm\n",
    "from scipy.stats import stats, shapiro, boxcox, mannwhitneyu, chi2_contingency\n",
    "from sklearn.model_selection import train_test_split, KFold, cross_val_score\n",
    "from sklearn.preprocessing import StandardScaler, LabelEncoder\n",
    "from sklearn.linear_model import LinearRegression, Ridge, Lasso\n",
    "from sklearn.ensemble import RandomForestRegressor\n",
    "from sklearn.metrics import mean_squared_error, mean_absolute_error, r2_score\n",
    "import xgboost as xgb\n",
    "import lightgbm as lgb\n",
    "import warnings\n",
    "warnings.filterwarnings('ignore')"
   ]
  },
  {
   "cell_type": "markdown",
   "id": "e1d239cf",
   "metadata": {},
   "source": [
    "## Loading the Dataset"
   ]
  },
  {
   "cell_type": "code",
   "execution_count": 3,
   "id": "7d6eb392",
   "metadata": {},
   "outputs": [],
   "source": [
    "df = pd.read_csv(\"insurance.csv\")"
   ]
  },
  {
   "cell_type": "markdown",
   "id": "94d1ff7f",
   "metadata": {},
   "source": [
    "## Preliminary Analysis"
   ]
  },
  {
   "cell_type": "code",
   "execution_count": 4,
   "id": "f965edd6",
   "metadata": {},
   "outputs": [
    {
     "data": {
      "text/plain": [
       "(986, 11)"
      ]
     },
     "execution_count": 4,
     "metadata": {},
     "output_type": "execute_result"
    }
   ],
   "source": [
    "df.shape"
   ]
  },
  {
   "cell_type": "code",
   "execution_count": 5,
   "id": "4174b0c5",
   "metadata": {},
   "outputs": [
    {
     "data": {
      "text/html": [
       "<div>\n",
       "<style scoped>\n",
       "    .dataframe tbody tr th:only-of-type {\n",
       "        vertical-align: middle;\n",
       "    }\n",
       "\n",
       "    .dataframe tbody tr th {\n",
       "        vertical-align: top;\n",
       "    }\n",
       "\n",
       "    .dataframe thead th {\n",
       "        text-align: right;\n",
       "    }\n",
       "</style>\n",
       "<table border=\"1\" class=\"dataframe\">\n",
       "  <thead>\n",
       "    <tr style=\"text-align: right;\">\n",
       "      <th></th>\n",
       "      <th>Age</th>\n",
       "      <th>Diabetes</th>\n",
       "      <th>BloodPressureProblems</th>\n",
       "      <th>AnyTransplants</th>\n",
       "      <th>AnyChronicDiseases</th>\n",
       "      <th>Height</th>\n",
       "      <th>Weight</th>\n",
       "      <th>KnownAllergies</th>\n",
       "      <th>HistoryOfCancerInFamily</th>\n",
       "      <th>NumberOfMajorSurgeries</th>\n",
       "      <th>PremiumPrice</th>\n",
       "    </tr>\n",
       "  </thead>\n",
       "  <tbody>\n",
       "    <tr>\n",
       "      <th>0</th>\n",
       "      <td>45</td>\n",
       "      <td>0</td>\n",
       "      <td>0</td>\n",
       "      <td>0</td>\n",
       "      <td>0</td>\n",
       "      <td>155</td>\n",
       "      <td>57</td>\n",
       "      <td>0</td>\n",
       "      <td>0</td>\n",
       "      <td>0</td>\n",
       "      <td>25000</td>\n",
       "    </tr>\n",
       "    <tr>\n",
       "      <th>1</th>\n",
       "      <td>60</td>\n",
       "      <td>1</td>\n",
       "      <td>0</td>\n",
       "      <td>0</td>\n",
       "      <td>0</td>\n",
       "      <td>180</td>\n",
       "      <td>73</td>\n",
       "      <td>0</td>\n",
       "      <td>0</td>\n",
       "      <td>0</td>\n",
       "      <td>29000</td>\n",
       "    </tr>\n",
       "    <tr>\n",
       "      <th>2</th>\n",
       "      <td>36</td>\n",
       "      <td>1</td>\n",
       "      <td>1</td>\n",
       "      <td>0</td>\n",
       "      <td>0</td>\n",
       "      <td>158</td>\n",
       "      <td>59</td>\n",
       "      <td>0</td>\n",
       "      <td>0</td>\n",
       "      <td>1</td>\n",
       "      <td>23000</td>\n",
       "    </tr>\n",
       "    <tr>\n",
       "      <th>3</th>\n",
       "      <td>52</td>\n",
       "      <td>1</td>\n",
       "      <td>1</td>\n",
       "      <td>0</td>\n",
       "      <td>1</td>\n",
       "      <td>183</td>\n",
       "      <td>93</td>\n",
       "      <td>0</td>\n",
       "      <td>0</td>\n",
       "      <td>2</td>\n",
       "      <td>28000</td>\n",
       "    </tr>\n",
       "    <tr>\n",
       "      <th>4</th>\n",
       "      <td>38</td>\n",
       "      <td>0</td>\n",
       "      <td>0</td>\n",
       "      <td>0</td>\n",
       "      <td>1</td>\n",
       "      <td>166</td>\n",
       "      <td>88</td>\n",
       "      <td>0</td>\n",
       "      <td>0</td>\n",
       "      <td>1</td>\n",
       "      <td>23000</td>\n",
       "    </tr>\n",
       "  </tbody>\n",
       "</table>\n",
       "</div>"
      ],
      "text/plain": [
       "   Age  Diabetes  BloodPressureProblems  AnyTransplants  AnyChronicDiseases  \\\n",
       "0   45         0                      0               0                   0   \n",
       "1   60         1                      0               0                   0   \n",
       "2   36         1                      1               0                   0   \n",
       "3   52         1                      1               0                   1   \n",
       "4   38         0                      0               0                   1   \n",
       "\n",
       "   Height  Weight  KnownAllergies  HistoryOfCancerInFamily  \\\n",
       "0     155      57               0                        0   \n",
       "1     180      73               0                        0   \n",
       "2     158      59               0                        0   \n",
       "3     183      93               0                        0   \n",
       "4     166      88               0                        0   \n",
       "\n",
       "   NumberOfMajorSurgeries  PremiumPrice  \n",
       "0                       0         25000  \n",
       "1                       0         29000  \n",
       "2                       1         23000  \n",
       "3                       2         28000  \n",
       "4                       1         23000  "
      ]
     },
     "execution_count": 5,
     "metadata": {},
     "output_type": "execute_result"
    }
   ],
   "source": [
    "df.head()"
   ]
  },
  {
   "cell_type": "code",
   "execution_count": 6,
   "id": "10a3b29b",
   "metadata": {},
   "outputs": [
    {
     "name": "stdout",
     "output_type": "stream",
     "text": [
      "<class 'pandas.core.frame.DataFrame'>\n",
      "RangeIndex: 986 entries, 0 to 985\n",
      "Data columns (total 11 columns):\n",
      " #   Column                   Non-Null Count  Dtype\n",
      "---  ------                   --------------  -----\n",
      " 0   Age                      986 non-null    int64\n",
      " 1   Diabetes                 986 non-null    int64\n",
      " 2   BloodPressureProblems    986 non-null    int64\n",
      " 3   AnyTransplants           986 non-null    int64\n",
      " 4   AnyChronicDiseases       986 non-null    int64\n",
      " 5   Height                   986 non-null    int64\n",
      " 6   Weight                   986 non-null    int64\n",
      " 7   KnownAllergies           986 non-null    int64\n",
      " 8   HistoryOfCancerInFamily  986 non-null    int64\n",
      " 9   NumberOfMajorSurgeries   986 non-null    int64\n",
      " 10  PremiumPrice             986 non-null    int64\n",
      "dtypes: int64(11)\n",
      "memory usage: 84.9 KB\n"
     ]
    }
   ],
   "source": [
    "df.info()"
   ]
  },
  {
   "cell_type": "code",
   "execution_count": 7,
   "id": "6bcbf399",
   "metadata": {},
   "outputs": [
    {
     "data": {
      "text/html": [
       "<div>\n",
       "<style scoped>\n",
       "    .dataframe tbody tr th:only-of-type {\n",
       "        vertical-align: middle;\n",
       "    }\n",
       "\n",
       "    .dataframe tbody tr th {\n",
       "        vertical-align: top;\n",
       "    }\n",
       "\n",
       "    .dataframe thead th {\n",
       "        text-align: right;\n",
       "    }\n",
       "</style>\n",
       "<table border=\"1\" class=\"dataframe\">\n",
       "  <thead>\n",
       "    <tr style=\"text-align: right;\">\n",
       "      <th></th>\n",
       "      <th>Age</th>\n",
       "      <th>Diabetes</th>\n",
       "      <th>BloodPressureProblems</th>\n",
       "      <th>AnyTransplants</th>\n",
       "      <th>AnyChronicDiseases</th>\n",
       "      <th>Height</th>\n",
       "      <th>Weight</th>\n",
       "      <th>KnownAllergies</th>\n",
       "      <th>HistoryOfCancerInFamily</th>\n",
       "      <th>NumberOfMajorSurgeries</th>\n",
       "      <th>PremiumPrice</th>\n",
       "    </tr>\n",
       "  </thead>\n",
       "  <tbody>\n",
       "    <tr>\n",
       "      <th>count</th>\n",
       "      <td>986.000000</td>\n",
       "      <td>986.000000</td>\n",
       "      <td>986.000000</td>\n",
       "      <td>986.000000</td>\n",
       "      <td>986.000000</td>\n",
       "      <td>986.000000</td>\n",
       "      <td>986.000000</td>\n",
       "      <td>986.000000</td>\n",
       "      <td>986.000000</td>\n",
       "      <td>986.000000</td>\n",
       "      <td>986.000000</td>\n",
       "    </tr>\n",
       "    <tr>\n",
       "      <th>mean</th>\n",
       "      <td>41.745436</td>\n",
       "      <td>0.419878</td>\n",
       "      <td>0.468560</td>\n",
       "      <td>0.055781</td>\n",
       "      <td>0.180527</td>\n",
       "      <td>168.182556</td>\n",
       "      <td>76.950304</td>\n",
       "      <td>0.215010</td>\n",
       "      <td>0.117647</td>\n",
       "      <td>0.667343</td>\n",
       "      <td>24336.713996</td>\n",
       "    </tr>\n",
       "    <tr>\n",
       "      <th>std</th>\n",
       "      <td>13.963371</td>\n",
       "      <td>0.493789</td>\n",
       "      <td>0.499264</td>\n",
       "      <td>0.229615</td>\n",
       "      <td>0.384821</td>\n",
       "      <td>10.098155</td>\n",
       "      <td>14.265096</td>\n",
       "      <td>0.411038</td>\n",
       "      <td>0.322353</td>\n",
       "      <td>0.749205</td>\n",
       "      <td>6248.184382</td>\n",
       "    </tr>\n",
       "    <tr>\n",
       "      <th>min</th>\n",
       "      <td>18.000000</td>\n",
       "      <td>0.000000</td>\n",
       "      <td>0.000000</td>\n",
       "      <td>0.000000</td>\n",
       "      <td>0.000000</td>\n",
       "      <td>145.000000</td>\n",
       "      <td>51.000000</td>\n",
       "      <td>0.000000</td>\n",
       "      <td>0.000000</td>\n",
       "      <td>0.000000</td>\n",
       "      <td>15000.000000</td>\n",
       "    </tr>\n",
       "    <tr>\n",
       "      <th>25%</th>\n",
       "      <td>30.000000</td>\n",
       "      <td>0.000000</td>\n",
       "      <td>0.000000</td>\n",
       "      <td>0.000000</td>\n",
       "      <td>0.000000</td>\n",
       "      <td>161.000000</td>\n",
       "      <td>67.000000</td>\n",
       "      <td>0.000000</td>\n",
       "      <td>0.000000</td>\n",
       "      <td>0.000000</td>\n",
       "      <td>21000.000000</td>\n",
       "    </tr>\n",
       "    <tr>\n",
       "      <th>50%</th>\n",
       "      <td>42.000000</td>\n",
       "      <td>0.000000</td>\n",
       "      <td>0.000000</td>\n",
       "      <td>0.000000</td>\n",
       "      <td>0.000000</td>\n",
       "      <td>168.000000</td>\n",
       "      <td>75.000000</td>\n",
       "      <td>0.000000</td>\n",
       "      <td>0.000000</td>\n",
       "      <td>1.000000</td>\n",
       "      <td>23000.000000</td>\n",
       "    </tr>\n",
       "    <tr>\n",
       "      <th>75%</th>\n",
       "      <td>53.000000</td>\n",
       "      <td>1.000000</td>\n",
       "      <td>1.000000</td>\n",
       "      <td>0.000000</td>\n",
       "      <td>0.000000</td>\n",
       "      <td>176.000000</td>\n",
       "      <td>87.000000</td>\n",
       "      <td>0.000000</td>\n",
       "      <td>0.000000</td>\n",
       "      <td>1.000000</td>\n",
       "      <td>28000.000000</td>\n",
       "    </tr>\n",
       "    <tr>\n",
       "      <th>max</th>\n",
       "      <td>66.000000</td>\n",
       "      <td>1.000000</td>\n",
       "      <td>1.000000</td>\n",
       "      <td>1.000000</td>\n",
       "      <td>1.000000</td>\n",
       "      <td>188.000000</td>\n",
       "      <td>132.000000</td>\n",
       "      <td>1.000000</td>\n",
       "      <td>1.000000</td>\n",
       "      <td>3.000000</td>\n",
       "      <td>40000.000000</td>\n",
       "    </tr>\n",
       "  </tbody>\n",
       "</table>\n",
       "</div>"
      ],
      "text/plain": [
       "              Age    Diabetes  BloodPressureProblems  AnyTransplants  \\\n",
       "count  986.000000  986.000000             986.000000      986.000000   \n",
       "mean    41.745436    0.419878               0.468560        0.055781   \n",
       "std     13.963371    0.493789               0.499264        0.229615   \n",
       "min     18.000000    0.000000               0.000000        0.000000   \n",
       "25%     30.000000    0.000000               0.000000        0.000000   \n",
       "50%     42.000000    0.000000               0.000000        0.000000   \n",
       "75%     53.000000    1.000000               1.000000        0.000000   \n",
       "max     66.000000    1.000000               1.000000        1.000000   \n",
       "\n",
       "       AnyChronicDiseases      Height      Weight  KnownAllergies  \\\n",
       "count          986.000000  986.000000  986.000000      986.000000   \n",
       "mean             0.180527  168.182556   76.950304        0.215010   \n",
       "std              0.384821   10.098155   14.265096        0.411038   \n",
       "min              0.000000  145.000000   51.000000        0.000000   \n",
       "25%              0.000000  161.000000   67.000000        0.000000   \n",
       "50%              0.000000  168.000000   75.000000        0.000000   \n",
       "75%              0.000000  176.000000   87.000000        0.000000   \n",
       "max              1.000000  188.000000  132.000000        1.000000   \n",
       "\n",
       "       HistoryOfCancerInFamily  NumberOfMajorSurgeries  PremiumPrice  \n",
       "count               986.000000              986.000000    986.000000  \n",
       "mean                  0.117647                0.667343  24336.713996  \n",
       "std                   0.322353                0.749205   6248.184382  \n",
       "min                   0.000000                0.000000  15000.000000  \n",
       "25%                   0.000000                0.000000  21000.000000  \n",
       "50%                   0.000000                1.000000  23000.000000  \n",
       "75%                   0.000000                1.000000  28000.000000  \n",
       "max                   1.000000                3.000000  40000.000000  "
      ]
     },
     "execution_count": 7,
     "metadata": {},
     "output_type": "execute_result"
    }
   ],
   "source": [
    "df.describe()"
   ]
  },
  {
   "cell_type": "code",
   "execution_count": 8,
   "id": "2f108ee1",
   "metadata": {},
   "outputs": [
    {
     "data": {
      "text/plain": [
       "Age                        0\n",
       "Diabetes                   0\n",
       "BloodPressureProblems      0\n",
       "AnyTransplants             0\n",
       "AnyChronicDiseases         0\n",
       "Height                     0\n",
       "Weight                     0\n",
       "KnownAllergies             0\n",
       "HistoryOfCancerInFamily    0\n",
       "NumberOfMajorSurgeries     0\n",
       "PremiumPrice               0\n",
       "dtype: int64"
      ]
     },
     "execution_count": 8,
     "metadata": {},
     "output_type": "execute_result"
    }
   ],
   "source": [
    "df.isnull().sum()"
   ]
  },
  {
   "cell_type": "markdown",
   "id": "bec53dcc",
   "metadata": {},
   "source": [
    "* It is clear that there are no missing values in the dataset."
   ]
  },
  {
   "cell_type": "markdown",
   "id": "50d9cec4",
   "metadata": {},
   "source": [
    "## Outlier Detection"
   ]
  },
  {
   "cell_type": "code",
   "execution_count": 9,
   "id": "8a0f0b0b",
   "metadata": {},
   "outputs": [
    {
     "name": "stdout",
     "output_type": "stream",
     "text": [
      "Age: 0 outliers\n",
      "Diabetes: 0 outliers\n",
      "BloodPressureProblems: 0 outliers\n",
      "AnyTransplants: 55 outliers\n",
      "AnyChronicDiseases: 178 outliers\n",
      "Height: 0 outliers\n",
      "Weight: 16 outliers\n",
      "KnownAllergies: 212 outliers\n",
      "HistoryOfCancerInFamily: 116 outliers\n",
      "NumberOfMajorSurgeries: 16 outliers\n",
      "PremiumPrice: 6 outliers\n"
     ]
    }
   ],
   "source": [
    "columns = df.select_dtypes(include='number')\n",
    "for col in columns:\n",
    "    q1, q3 = df[col].quantile([0.25, 0.75])\n",
    "    iqr = q3 - q1\n",
    "    lower, upper = q1 - 1.5 * iqr, q3 + 1.5 * iqr\n",
    "    count = ((df[col] < lower) | (df[col] > upper)).sum()\n",
    "    print(f\"{col}: {count} outliers\")"
   ]
  },
  {
   "cell_type": "code",
   "execution_count": 10,
   "id": "c8c4c42a",
   "metadata": {},
   "outputs": [
    {
     "name": "stdout",
     "output_type": "stream",
     "text": [
      "Outliers in Age:\n",
      "Empty DataFrame\n",
      "Columns: [Age, Diabetes, BloodPressureProblems, AnyTransplants, AnyChronicDiseases, Height, Weight, KnownAllergies, HistoryOfCancerInFamily, NumberOfMajorSurgeries, PremiumPrice]\n",
      "Index: []\n",
      "----------------------------------------------------------------------------------------------------\n",
      "Outliers in Diabetes:\n",
      "Empty DataFrame\n",
      "Columns: [Age, Diabetes, BloodPressureProblems, AnyTransplants, AnyChronicDiseases, Height, Weight, KnownAllergies, HistoryOfCancerInFamily, NumberOfMajorSurgeries, PremiumPrice]\n",
      "Index: []\n",
      "----------------------------------------------------------------------------------------------------\n",
      "Outliers in BloodPressureProblems:\n",
      "Empty DataFrame\n",
      "Columns: [Age, Diabetes, BloodPressureProblems, AnyTransplants, AnyChronicDiseases, Height, Weight, KnownAllergies, HistoryOfCancerInFamily, NumberOfMajorSurgeries, PremiumPrice]\n",
      "Index: []\n",
      "----------------------------------------------------------------------------------------------------\n",
      "Outliers in AnyTransplants:\n",
      "     Age  Diabetes  BloodPressureProblems  AnyTransplants  AnyChronicDiseases  \\\n",
      "14    18         0                      0               1                   0   \n",
      "26    22         0                      0               1                   0   \n",
      "39    24         1                      1               1                   0   \n",
      "73    25         1                      1               1                   1   \n",
      "79    30         0                      0               1                   1   \n",
      "86    46         0                      1               1                   0   \n",
      "101   45         1                      0               1                   0   \n",
      "125   31         1                      0               1                   0   \n",
      "139   48         0                      1               1                   1   \n",
      "147   59         0                      1               1                   0   \n",
      "169   42         1                      0               1                   0   \n",
      "173   47         1                      0               1                   0   \n",
      "187   25         1                      1               1                   0   \n",
      "218   62         0                      1               1                   0   \n",
      "289   64         0                      1               1                   0   \n",
      "294   40         0                      0               1                   0   \n",
      "314   59         1                      1               1                   0   \n",
      "318   55         1                      0               1                   0   \n",
      "369   36         0                      1               1                   1   \n",
      "395   28         1                      1               1                   1   \n",
      "396   33         0                      1               1                   1   \n",
      "438   24         1                      0               1                   0   \n",
      "439   65         0                      1               1                   0   \n",
      "453   58         0                      1               1                   0   \n",
      "459   58         0                      0               1                   0   \n",
      "464   24         1                      1               1                   0   \n",
      "504   52         1                      0               1                   0   \n",
      "528   51         0                      0               1                   0   \n",
      "571   43         0                      1               1                   1   \n",
      "621   32         0                      1               1                   0   \n",
      "624   34         0                      0               1                   0   \n",
      "666   50         0                      1               1                   0   \n",
      "670   36         0                      0               1                   1   \n",
      "683   59         0                      0               1                   1   \n",
      "708   56         1                      0               1                   0   \n",
      "715   32         0                      0               1                   1   \n",
      "740   27         0                      0               1                   1   \n",
      "746   24         0                      0               1                   0   \n",
      "788   30         0                      0               1                   0   \n",
      "801   24         1                      0               1                   0   \n",
      "804   44         0                      1               1                   0   \n",
      "817   65         1                      0               1                   0   \n",
      "841   56         1                      0               1                   0   \n",
      "863   25         0                      0               1                   0   \n",
      "865   66         0                      1               1                   0   \n",
      "906   55         1                      0               1                   0   \n",
      "915   54         0                      1               1                   1   \n",
      "922   33         0                      0               1                   0   \n",
      "927   31         0                      0               1                   0   \n",
      "932   42         0                      0               1                   0   \n",
      "938   31         0                      0               1                   1   \n",
      "951   25         0                      0               1                   0   \n",
      "952   44         1                      0               1                   0   \n",
      "978   40         0                      1               1                   0   \n",
      "980   40         0                      1               1                   0   \n",
      "\n",
      "     Height  Weight  KnownAllergies  HistoryOfCancerInFamily  \\\n",
      "14      150      76               0                        0   \n",
      "26      151      97               0                        0   \n",
      "39      168      91               1                        0   \n",
      "73      179      68               0                        0   \n",
      "79      166      87               0                        0   \n",
      "86      152      94               0                        1   \n",
      "101     152      91               0                        0   \n",
      "125     187      95               1                        0   \n",
      "139     176      63               0                        0   \n",
      "147     149      68               0                        0   \n",
      "169     170      80               0                        0   \n",
      "173     168      83               0                        0   \n",
      "187     157     109               0                        0   \n",
      "218     164     121               1                        0   \n",
      "289     176      71               0                        1   \n",
      "294     164      87               0                        0   \n",
      "314     158      78               0                        0   \n",
      "318     159      85               0                        0   \n",
      "369     164      58               0                        0   \n",
      "395     156      58               0                        0   \n",
      "396     159      68               0                        0   \n",
      "438     173      57               0                        0   \n",
      "439     179      58               0                        0   \n",
      "453     163      51               1                        0   \n",
      "459     179      62               0                        0   \n",
      "464     166      74               1                        0   \n",
      "504     183      86               0                        0   \n",
      "528     181      94               1                        0   \n",
      "571     177      89               0                        0   \n",
      "621     181      84               0                        0   \n",
      "624     184      89               1                        0   \n",
      "666     176      54               1                        0   \n",
      "670     166      79               0                        0   \n",
      "683     179      62               0                        0   \n",
      "708     185     100               0                        0   \n",
      "715     171      57               0                        1   \n",
      "740     168      83               0                        0   \n",
      "746     176      83               0                        0   \n",
      "788     158      81               0                        1   \n",
      "801     162      78               0                        0   \n",
      "804     151      85               1                        0   \n",
      "817     171      94               0                        0   \n",
      "841     149      65               0                        0   \n",
      "863     175      74               0                        0   \n",
      "865     154      66               1                        0   \n",
      "906     170      70               0                        0   \n",
      "915     156      73               0                        0   \n",
      "922     162      70               0                        0   \n",
      "927     154      73               0                        1   \n",
      "932     156      75               1                        0   \n",
      "938     174      66               0                        0   \n",
      "951     161      69               1                        0   \n",
      "952     174      66               0                        0   \n",
      "978     168      70               0                        0   \n",
      "980     171      74               0                        0   \n",
      "\n",
      "     NumberOfMajorSurgeries  PremiumPrice  \n",
      "14                        1         15000  \n",
      "26                        0         15000  \n",
      "39                        0         15000  \n",
      "73                        0         38000  \n",
      "79                        0         38000  \n",
      "86                        1         38000  \n",
      "101                       0         38000  \n",
      "125                       0         38000  \n",
      "139                       0         38000  \n",
      "147                       0         38000  \n",
      "169                       1         38000  \n",
      "173                       1         38000  \n",
      "187                       0         15000  \n",
      "218                       1         38000  \n",
      "289                       1         38000  \n",
      "294                       0         38000  \n",
      "314                       1         38000  \n",
      "318                       0         38000  \n",
      "369                       0         38000  \n",
      "395                       1         21000  \n",
      "396                       1         38000  \n",
      "438                       0         15000  \n",
      "439                       1         35000  \n",
      "453                       2         28000  \n",
      "459                       0         38000  \n",
      "464                       0         15000  \n",
      "504                       0         38000  \n",
      "528                       1         38000  \n",
      "571                       1         38000  \n",
      "621                       0         38000  \n",
      "624                       1         38000  \n",
      "666                       2         30000  \n",
      "670                       0         38000  \n",
      "683                       0         38000  \n",
      "708                       0         38000  \n",
      "715                       1         38000  \n",
      "740                       0         38000  \n",
      "746                       0         15000  \n",
      "788                       1         27000  \n",
      "801                       1         15000  \n",
      "804                       1         38000  \n",
      "817                       3         28000  \n",
      "841                       2         28000  \n",
      "863                       0         15000  \n",
      "865                       1         35000  \n",
      "906                       2         28000  \n",
      "915                       2         28000  \n",
      "922                       0         38000  \n",
      "927                       1         38000  \n",
      "932                       1         38000  \n",
      "938                       1         38000  \n",
      "951                       1         15000  \n",
      "952                       1         38000  \n",
      "978                       0         17000  \n",
      "980                       0         38000  \n",
      "----------------------------------------------------------------------------------------------------\n",
      "Outliers in AnyChronicDiseases:\n",
      "     Age  Diabetes  BloodPressureProblems  AnyTransplants  AnyChronicDiseases  \\\n",
      "3     52         1                      1               0                   1   \n",
      "4     38         0                      0               0                   1   \n",
      "16    42         0                      0               0                   1   \n",
      "28    30         0                      0               0                   1   \n",
      "29    33         1                      1               0                   1   \n",
      "..   ...       ...                    ...             ...                 ...   \n",
      "938   31         0                      0               1                   1   \n",
      "940   40         1                      1               0                   1   \n",
      "942   25         1                      1               0                   1   \n",
      "966   66         0                      1               0                   1   \n",
      "977   45         0                      1               0                   1   \n",
      "\n",
      "     Height  Weight  KnownAllergies  HistoryOfCancerInFamily  \\\n",
      "3       183      93               0                        0   \n",
      "4       166      88               0                        0   \n",
      "16      149      67               0                        0   \n",
      "28      162      73               1                        0   \n",
      "29      153      58               0                        0   \n",
      "..      ...     ...             ...                      ...   \n",
      "938     174      66               0                        0   \n",
      "940     155      66               0                        0   \n",
      "942     151      70               0                        0   \n",
      "966     176      71               1                        0   \n",
      "977     157      67               0                        0   \n",
      "\n",
      "     NumberOfMajorSurgeries  PremiumPrice  \n",
      "3                         2         28000  \n",
      "4                         1         23000  \n",
      "16                        0         30000  \n",
      "28                        0         23000  \n",
      "29                        0         21000  \n",
      "..                      ...           ...  \n",
      "938                       1         38000  \n",
      "940                       1         30000  \n",
      "942                       0         19000  \n",
      "966                       1         35000  \n",
      "977                       1         25000  \n",
      "\n",
      "[178 rows x 11 columns]\n",
      "----------------------------------------------------------------------------------------------------\n",
      "Outliers in Height:\n",
      "Empty DataFrame\n",
      "Columns: [Age, Diabetes, BloodPressureProblems, AnyTransplants, AnyChronicDiseases, Height, Weight, KnownAllergies, HistoryOfCancerInFamily, NumberOfMajorSurgeries, PremiumPrice]\n",
      "Index: []\n",
      "----------------------------------------------------------------------------------------------------\n",
      "Outliers in Weight:\n",
      "     Age  Diabetes  BloodPressureProblems  AnyTransplants  AnyChronicDiseases  \\\n",
      "154   21         0                      0               0                   0   \n",
      "158   43         0                      0               0                   0   \n",
      "183   36         0                      0               0                   0   \n",
      "186   19         0                      0               0                   0   \n",
      "192   50         1                      0               0                   0   \n",
      "195   19         0                      0               0                   0   \n",
      "196   39         0                      1               0                   0   \n",
      "203   24         0                      1               0                   0   \n",
      "204   27         0                      1               0                   0   \n",
      "207   18         0                      0               0                   0   \n",
      "217   65         0                      1               0                   0   \n",
      "218   62         0                      1               1                   0   \n",
      "221   61         0                      1               0                   1   \n",
      "225   57         1                      0               0                   0   \n",
      "227   44         0                      0               0                   0   \n",
      "228   22         1                      1               0                   0   \n",
      "\n",
      "     Height  Weight  KnownAllergies  HistoryOfCancerInFamily  \\\n",
      "154     157     118               1                        0   \n",
      "158     158     121               0                        0   \n",
      "183     156     119               0                        0   \n",
      "186     173     129               1                        0   \n",
      "192     163     127               0                        0   \n",
      "195     164     132               0                        0   \n",
      "196     174     120               0                        0   \n",
      "203     173     128               0                        0   \n",
      "204     159     120               1                        1   \n",
      "207     172     123               0                        1   \n",
      "217     177     126               0                        0   \n",
      "218     164     121               1                        0   \n",
      "221     174     118               0                        0   \n",
      "225     160     128               0                        0   \n",
      "227     182     124               0                        1   \n",
      "228     166     122               0                        0   \n",
      "\n",
      "     NumberOfMajorSurgeries  PremiumPrice  \n",
      "154                       1         15000  \n",
      "158                       0         23000  \n",
      "183                       0         23000  \n",
      "186                       0         15000  \n",
      "192                       2         28000  \n",
      "195                       0         15000  \n",
      "196                       0         23000  \n",
      "203                       1         26000  \n",
      "204                       1         39000  \n",
      "207                       1         15000  \n",
      "217                       2         24000  \n",
      "218                       1         38000  \n",
      "221                       1         35000  \n",
      "225                       0         35000  \n",
      "227                       1         31000  \n",
      "228                       0         15000  \n",
      "----------------------------------------------------------------------------------------------------\n",
      "Outliers in KnownAllergies:\n",
      "     Age  Diabetes  BloodPressureProblems  AnyTransplants  AnyChronicDiseases  \\\n",
      "5     30         0                      0               0                   0   \n",
      "7     23         0                      0               0                   0   \n",
      "8     48         1                      0               0                   0   \n",
      "12    24         0                      0               0                   0   \n",
      "15    38         0                      0               0                   0   \n",
      "..   ...       ...                    ...             ...                 ...   \n",
      "966   66         0                      1               0                   1   \n",
      "967   42         1                      1               0                   0   \n",
      "972   31         0                      1               0                   0   \n",
      "984   47         1                      1               0                   0   \n",
      "985   21         0                      0               0                   0   \n",
      "\n",
      "     Height  Weight  KnownAllergies  HistoryOfCancerInFamily  \\\n",
      "5       160      69               1                        0   \n",
      "7       181      79               1                        0   \n",
      "8       169      74               1                        0   \n",
      "12      178      57               1                        0   \n",
      "15      160      68               1                        0   \n",
      "..      ...     ...             ...                      ...   \n",
      "966     176      71               1                        0   \n",
      "967     152      67               1                        0   \n",
      "972     152      75               1                        0   \n",
      "984     158      73               1                        0   \n",
      "985     158      75               1                        0   \n",
      "\n",
      "     NumberOfMajorSurgeries  PremiumPrice  \n",
      "5                         1         23000  \n",
      "7                         0         15000  \n",
      "8                         0         23000  \n",
      "12                        1         15000  \n",
      "15                        1         23000  \n",
      "..                      ...           ...  \n",
      "966                       1         35000  \n",
      "967                       1         23000  \n",
      "972                       1         23000  \n",
      "984                       1         39000  \n",
      "985                       1         15000  \n",
      "\n",
      "[212 rows x 11 columns]\n",
      "----------------------------------------------------------------------------------------------------\n",
      "Outliers in HistoryOfCancerInFamily:\n",
      "     Age  Diabetes  BloodPressureProblems  AnyTransplants  AnyChronicDiseases  \\\n",
      "24    53         0                      1               0                   0   \n",
      "38    43         0                      0               0                   1   \n",
      "42    25         0                      1               0                   0   \n",
      "67    19         0                      0               0                   0   \n",
      "85    31         0                      0               0                   1   \n",
      "..   ...       ...                    ...             ...                 ...   \n",
      "933   54         0                      1               0                   0   \n",
      "934   54         1                      1               0                   0   \n",
      "935   38         0                      1               0                   1   \n",
      "943   53         0                      0               0                   0   \n",
      "961   59         1                      1               0                   0   \n",
      "\n",
      "     Height  Weight  KnownAllergies  HistoryOfCancerInFamily  \\\n",
      "24      151      97               0                        1   \n",
      "38      173      81               0                        1   \n",
      "42      184      55               0                        1   \n",
      "67      148      60               0                        1   \n",
      "85      150      81               1                        1   \n",
      "..      ...     ...             ...                      ...   \n",
      "933     161      69               0                        1   \n",
      "934     160      70               0                        1   \n",
      "935     170      71               0                        1   \n",
      "943     173      66               0                        1   \n",
      "961     154      66               0                        1   \n",
      "\n",
      "     NumberOfMajorSurgeries  PremiumPrice  \n",
      "24                        1         35000  \n",
      "38                        1         30000  \n",
      "42                        1         15000  \n",
      "67                        1         15000  \n",
      "85                        1         25000  \n",
      "..                      ...           ...  \n",
      "933                       1         25000  \n",
      "934                       1         31000  \n",
      "935                       1         31000  \n",
      "943                       1         25000  \n",
      "961                       1         25000  \n",
      "\n",
      "[116 rows x 11 columns]\n",
      "----------------------------------------------------------------------------------------------------\n",
      "Outliers in NumberOfMajorSurgeries:\n",
      "     Age  Diabetes  BloodPressureProblems  AnyTransplants  AnyChronicDiseases  \\\n",
      "34    64         1                      0               0                   0   \n",
      "91    63         1                      1               0                   0   \n",
      "109   64         1                      0               0                   0   \n",
      "274   64         1                      0               0                   0   \n",
      "282   64         1                      0               0                   0   \n",
      "309   64         1                      0               0                   0   \n",
      "401   65         1                      1               0                   0   \n",
      "458   61         1                      0               0                   0   \n",
      "463   65         1                      0               0                   0   \n",
      "605   62         0                      0               0                   0   \n",
      "817   65         1                      0               1                   0   \n",
      "818   65         1                      0               0                   0   \n",
      "860   61         1                      0               0                   0   \n",
      "953   62         1                      1               0                   0   \n",
      "954   63         1                      1               0                   0   \n",
      "982   64         1                      1               0                   0   \n",
      "\n",
      "     Height  Weight  KnownAllergies  HistoryOfCancerInFamily  \\\n",
      "34      172      85               0                        0   \n",
      "91      175      95               0                        0   \n",
      "109     187      53               0                        0   \n",
      "274     163      88               0                        0   \n",
      "282     175      81               0                        0   \n",
      "309     177      94               0                        0   \n",
      "401     167      52               0                        0   \n",
      "458     178      71               0                        0   \n",
      "463     184      78               0                        0   \n",
      "605     177      97               0                        0   \n",
      "817     171      94               0                        0   \n",
      "818     165      99               0                        0   \n",
      "860     161      66               0                        0   \n",
      "953     157      66               0                        0   \n",
      "954     158      73               0                        0   \n",
      "982     153      70               0                        0   \n",
      "\n",
      "     NumberOfMajorSurgeries  PremiumPrice  \n",
      "34                        3         28000  \n",
      "91                        3         28000  \n",
      "109                       3         28000  \n",
      "274                       3         28000  \n",
      "282                       3         28000  \n",
      "309                       3         28000  \n",
      "401                       3         28000  \n",
      "458                       3         28000  \n",
      "463                       3         28000  \n",
      "605                       3         28000  \n",
      "817                       3         28000  \n",
      "818                       3         28000  \n",
      "860                       3         28000  \n",
      "953                       3         28000  \n",
      "954                       3         28000  \n",
      "982                       3         28000  \n",
      "----------------------------------------------------------------------------------------------------\n",
      "Outliers in PremiumPrice:\n",
      "     Age  Diabetes  BloodPressureProblems  AnyTransplants  AnyChronicDiseases  \\\n",
      "204   27         0                      1               0                   0   \n",
      "295   64         1                      1               0                   1   \n",
      "926   24         0                      1               0                   0   \n",
      "928   19         0                      0               0                   0   \n",
      "976   21         0                      1               0                   0   \n",
      "984   47         1                      1               0                   0   \n",
      "\n",
      "     Height  Weight  KnownAllergies  HistoryOfCancerInFamily  \\\n",
      "204     159     120               1                        1   \n",
      "295     163      91               0                        0   \n",
      "926     159      67               0                        0   \n",
      "928     171      67               0                        0   \n",
      "976     155      74               0                        0   \n",
      "984     158      73               1                        0   \n",
      "\n",
      "     NumberOfMajorSurgeries  PremiumPrice  \n",
      "204                       1         39000  \n",
      "295                       2         40000  \n",
      "926                       0         39000  \n",
      "928                       1         39000  \n",
      "976                       0         39000  \n",
      "984                       1         39000  \n",
      "----------------------------------------------------------------------------------------------------\n"
     ]
    }
   ],
   "source": [
    "for col in columns:\n",
    "    q1, q3 = df[col].quantile([0.25, 0.75])\n",
    "    iqr = q3 - q1\n",
    "    lower, upper = q1 - 1.5 * iqr, q3 + 1.5 * iqr\n",
    "    outliers = df[(df[col] < lower) | (df[col] > upper)]\n",
    "    print(f\"Outliers in {col}:\\n{outliers}\\n{'-'*100}\")"
   ]
  },
  {
   "cell_type": "code",
   "execution_count": 11,
   "id": "72fdaff8",
   "metadata": {},
   "outputs": [
    {
     "name": "stdout",
     "output_type": "stream",
     "text": [
      "____________________________________________________________________________________________________\n",
      "AnyTransplants\n",
      "0    931\n",
      "1     55\n",
      "Name: count, dtype: int64\n",
      "____________________________________________________________________________________________________\n",
      "AnyChronicDiseases\n",
      "0    808\n",
      "1    178\n",
      "Name: count, dtype: int64\n",
      "____________________________________________________________________________________________________\n",
      "Weight\n",
      "73     43\n",
      "75     41\n",
      "74     38\n",
      "70     34\n",
      "67     31\n",
      "       ..\n",
      "126     1\n",
      "124     1\n",
      "105     1\n",
      "102     1\n",
      "122     1\n",
      "Name: count, Length: 74, dtype: int64\n",
      "____________________________________________________________________________________________________\n",
      "KnownAllergies\n",
      "0    774\n",
      "1    212\n",
      "Name: count, dtype: int64\n",
      "____________________________________________________________________________________________________\n",
      "HistoryOfCancerInFamily\n",
      "0    870\n",
      "1    116\n",
      "Name: count, dtype: int64\n",
      "____________________________________________________________________________________________________\n",
      "NumberOfMajorSurgeries\n",
      "0    479\n",
      "1    372\n",
      "2    119\n",
      "3     16\n",
      "Name: count, dtype: int64\n",
      "____________________________________________________________________________________________________\n",
      "PremiumPrice\n",
      "23000    249\n",
      "15000    202\n",
      "28000    132\n",
      "25000    103\n",
      "29000     72\n",
      "30000     47\n",
      "35000     41\n",
      "38000     34\n",
      "31000     31\n",
      "21000     26\n",
      "19000     15\n",
      "26000      7\n",
      "39000      5\n",
      "32000      4\n",
      "24000      4\n",
      "16000      3\n",
      "36000      2\n",
      "18000      2\n",
      "34000      2\n",
      "22000      1\n",
      "20000      1\n",
      "40000      1\n",
      "27000      1\n",
      "17000      1\n",
      "Name: count, dtype: int64\n"
     ]
    }
   ],
   "source": [
    "out_cols = ['AnyTransplants', 'AnyChronicDiseases', 'Weight', 'KnownAllergies', 'HistoryOfCancerInFamily', 'NumberOfMajorSurgeries', 'PremiumPrice']\n",
    "for cols in out_cols:\n",
    "    print('_'*100)\n",
    "    print(df[cols].value_counts())"
   ]
  },
  {
   "cell_type": "markdown",
   "id": "f12918e8",
   "metadata": {},
   "source": [
    "* From the above analysis, these outliers should to be removed."
   ]
  },
  {
   "cell_type": "markdown",
   "id": "3c7c782f",
   "metadata": {},
   "source": [
    "## Visual Analysis"
   ]
  },
  {
   "cell_type": "markdown",
   "id": "f5c9baf8",
   "metadata": {},
   "source": [
    "### Univariate Analysis"
   ]
  },
  {
   "cell_type": "code",
   "execution_count": 12,
   "id": "daf821ce",
   "metadata": {},
   "outputs": [
    {
     "data": {
      "text/plain": [
       "BMI_Category\n",
       "Overweight     326\n",
       "Normal         319\n",
       "Obese          302\n",
       "Underweight     39\n",
       "Name: count, dtype: int64"
      ]
     },
     "execution_count": 12,
     "metadata": {},
     "output_type": "execute_result"
    }
   ],
   "source": [
    "# Creating new feature BMI for the better analysis\n",
    "df['BMI'] = round(df['Weight'] / ((df['Height'])/100)**2, 2)\n",
    "\n",
    "# Creating BMI categories bin based on standard classifications\n",
    "df['BMI_Category'] = pd.cut(df['BMI'], \n",
    "                           bins=[0, 18.5, 25, 30, float('inf')], \n",
    "                           labels=['Underweight', 'Normal', 'Overweight', 'Obese'])\n",
    "                           \n",
    "df['BMI_Category'].value_counts()"
   ]
  },
  {
   "cell_type": "code",
   "execution_count": 13,
   "id": "fe266d9a",
   "metadata": {},
   "outputs": [
    {
     "data": {
      "image/png": "[encoded data removed]",
      "text/plain": [
       "<Figure size 1200x1000 with 1 Axes>"
      ]
     },
     "metadata": {},
     "output_type": "display_data"
    },
    {
     "data": {
      "image/png": "[encoded data removed]",
      "text/plain": [
       "<Figure size 1200x1000 with 1 Axes>"
      ]
     },
     "metadata": {},
     "output_type": "display_data"
    },
    {
     "data": {
      "image/png": "[encoded data removed]",
      "text/plain": [
       "<Figure size 1200x1000 with 1 Axes>"
      ]
     },
     "metadata": {},
     "output_type": "display_data"
    }
   ],
   "source": [
    "clmns = ['Age', 'PremiumPrice', 'BMI']\n",
    "\n",
    "for cols in clmns:\n",
    "    plt.figure(figsize=(12, 10))\n",
    "    sns.histplot(data=df, x=cols, kde=True, bins=30, color='blue')\n",
    "    plt.title(f\"{cols} Distribution\")\n",
    "    plt.show()"
   ]
  },
  {
   "cell_type": "markdown",
   "id": "34c97110",
   "metadata": {},
   "source": [
    "* From the above graphs - Age and Premium Price are not normally distributed. \n",
    "* BMI seems normally distributed but slightly right skewed.\n",
    "* We will use statistical test to check and confirm the normality."
   ]
  },
  {
   "cell_type": "markdown",
   "id": "7ab0af8e",
   "metadata": {},
   "source": [
    "### Bivariate Analysis"
   ]
  },
  {
   "cell_type": "code",
   "execution_count": 14,
   "id": "ebea3b77",
   "metadata": {},
   "outputs": [
    {
     "data": {
      "application/vnd.plotly.v1+json": {
       "config": {
        "plotlyServerURL": "https://plot.ly"
       },
       "data": [
        {
         "hovertemplate": "BMI_Category=Normal<br>Age=%{x}<br>PremiumPrice=%{y}<extra></extra>",
         "legendgroup": "Normal",
         "marker": {
          "color": "#636efa",
          "symbol": "circle"
         },
         "mode": "markers",
         "name": "Normal",
         "orientation": "v",
         "showlegend": true,
         "type": "scatter",
         "x": {
          "bdata": "LTwkIRc8QhQfISwaLBlAOik8MS5AGhsZNTEsLi4hLjYfNCE8IztCIDYnG0IwOzQjMi4dLBgqJj8kHSAUNx00L0EWNhg3MS4sHCMwQCsaGRkmIDQqHCY/Ky0vKyIvFj8zISs0JD5APj4rJi02QCM6HCAgQUAjPSwSLR0WFD0xGxcVOiUdGDBAJxI7FCdAOiATFj06OBhBMDEjOjkSIBs4KkA4Oh4hOxtAIjMjPi4aNjE9NCUqHDY7KTtAJBs6PEIxMh86MTobLSkwMxsoKSwzFD8WPx47FSo/J0ImNSsVGzs2QjszLi8bMSsdLzsgNjQSMC0XOUIaEzglNUAsLis7Hjs1KTEgPCQULCEWJB0bLyosODIpFBI9GT4ZJxwjMzMlFjQvGyYzJzcZHj9CLx0TFiYwHyM1LBcjQi0aHC8oEg==",
          "dtype": "i1"
         },
         "xaxis": "x",
         "y": {
          "bdata": "qGEAAEhxAADYWQAACFIAAJg6AABgbQAAqGEAAJg6AAAIUgAACFIAANhZAACYOgAA2FkAAAB9AACoYQAAqGEAANhZAABIcQAAYG0AANhZAABgbQAAmDoAAJg6AABwlAAAYG0AAGBtAADYWQAA2FkAAKhhAAAIUgAAqGEAAGBtAADYWQAAqGEAANhZAACoYQAA2FkAAKhhAACoYQAACFIAAGBtAAAYeQAAmDoAAGBtAABwlAAAYG0AAEhxAADYWQAAqGEAAKhhAACYOgAA2FkAAJg6AADYWQAA2FkAAKhhAADYWQAACFIAAAhSAACYOgAAYG0AAJg6AABIcQAAqGEAAKhhAACYOgAAqGEAAJg6AACoYQAASHEAAKhhAAAwdQAACFIAANhZAACoYQAAcJQAANhZAACYOgAAmDoAAJg6AADYWQAA2FkAAKhhAADYWQAAOEoAANhZAABgbQAAUEYAAKhhAACoYQAA2FkAANhZAAAwdQAAmDoAAKhhAABgbQAACFIAADB1AABgbQAAcJQAABh5AABIcQAAYG0AAGBtAAAwdQAA2FkAAKhhAACoYQAAqGEAANhZAABIcQAACFIAAAhSAAAIUgAAYG0AAGBtAADYWQAAYG0AANhZAACYOgAA2FkAAJg6AACYOgAAmDoAAGBtAACoYQAAmDoAAJg6AACYOgAAqGEAABh5AACYOgAAmDoAAKhhAACoYQAA2FkAAJg6AACAPgAAgD4AABh5AABgbQAAYG0AANhZAACYOgAAmDoAAGBtAABwlAAAqGEAAJg6AABgbQAAMHUAADB1AADYWQAAqGEAAKhhAACYOgAACFIAAJg6AACoYQAA2FkAAKhhAACoYQAAqGEAAAhSAAAIUgAAqGEAAJg6AABgbQAA2FkAAKhhAADYWQAAYG0AAKhhAAA4SgAASHEAAGBtAABIcQAAYG0AANhZAADYWQAAmDoAAEhxAABIcQAA2FkAAEhxAABIcQAA2FkAAJg6AABgbQAAYG0AAGBtAABgbQAASHEAANhZAABIcQAASHEAAEhxAACYOgAAGHkAANhZAACoYQAAYG0AAJg6AADYWQAAMHUAANhZAACoYQAAmDoAAEhxAACYOgAAYG0AAAhSAACoYQAAmDoAANhZAAAYeQAA2FkAAKhhAADYWQAAqGEAANhZAACYOgAAmDoAAEhxAAAYeQAAuIgAAHCUAACoYQAA2FkAADB1AACYOgAAYG0AANhZAACYOgAAqGEAAKhhAABwlAAAqGEAAKhhAACYOgAAqGEAAKhhAACYOgAAYG0AAGBtAAA4SgAAmDoAAEhxAADYWQAAYG0AAGBtAADYWQAAqGEAANhZAABgbQAACFIAAKhhAAAwdQAA2FkAAKhhAAAIUgAAYG0AANhZAACYOgAAGHkAAAhSAACYOgAA2FkAAJg6AAA4SgAAMHUAANhZAADYWQAAYG0AADB1AADYWQAAmDoAAJg6AACoYQAAmDoAAKhhAACYOgAAGHkAAJg6AADYWQAAqGEAAKhhAADYWQAAmDoAAKhhAACoYQAAmDoAANhZAACoYQAA2FkAAGBtAACYOgAA2FkAAKhhAABgbQAA2FkAAJg6AABYmAAAmDoAABh5AACoYQAAcJQAANhZAACoYQAAcJQAAJg6AADYWQAAuIgAAKhhAACYOgAAmDoAAKhhAABoQgAAmDoAAA==",
          "dtype": "i4"
         },
         "yaxis": "y"
        },
        {
         "hovertemplate": "BMI_Category=Overweight<br>Age=%{x}<br>PremiumPrice=%{y}<extra></extra>",
         "legendgroup": "Overweight",
         "marker": {
          "color": "#EF553B",
          "symbol": "circle"
         },
         "mode": "markers",
         "name": "Overweight",
         "orientation": "v",
         "showlegend": true,
         "type": "scatter",
         "x": {
          "bdata": "NB4wJi4mORUjHhxAOisUQjQ/JDcXHxNCGyMiHxwZNz8mHys7JTM2ISE4OT4UEyI1EhwqHy8hQi0UICkdGTg1Ej4VMSUUITAkHj4kMC4SQEIyMEIxLSgaK0FAFxkYMDMeEy8ZQS0xIiU2MCMlNikdKCFCIjskIR8kJRgsMhYTPBsYLBovKTEtLTJANCQzQBUjPycrEjYzHzEuQRk+Pz0vEhw7PyUdKhYlIDMnKzYTIispEisqKS8sMxYcLBotPTsVKjsYICoiLRwjFSwtMyscQjEkKB8rFj1BLDE1PB0uOCEpOT4yNzMlJjwbNRkbIRMYGCoUIBMrGSgbGCEhMDIoQT4bNCgVHTI4PBIjNhVBHD0sNSFCEiowNRYgLT4tNyUiOR4+EzYrIT4YKT02NhMrKCs3LTw0GT4/EjsgGyoSLiwtGChAOC8=",
          "dtype": "i1"
         },
         "xaxis": "x",
         "y": {
          "bdata": "YG0AANhZAADYWQAA2FkAALiIAADYWQAAqGEAAJg6AADYWQAA2FkAAJg6AABgbQAAqGEAADB1AACYOgAAYG0AAEhxAABgbQAA2FkAAKhhAACYOgAA2FkAAJg6AABgbQAAmDoAABh5AADYWQAA2FkAADhKAAA4SgAAYG0AAEhxAADYWQAAcJQAADB1AABgbQAA2FkAAEhxAABgbQAACFIAAAhSAABgbQAASHEAAKhhAACYOgAAmDoAANhZAABIcQAAmDoAAJg6AABwlAAAqGEAAHCUAADYWQAAYG0AANhZAACYOgAA2FkAADB1AAA4SgAAmDoAAGBtAABgbQAAmDoAAGBtAACYOgAAYG0AANhZAACYOgAA2FkAANhZAADYWQAA2FkAAGBtAADYWQAA2FkAANhZAACQZQAAYG0AALiIAABgbQAA2FkAALiIAABIcQAA2FkAABh5AACYOgAA2FkAAGBtAABgbQAAmDoAAMBdAACYOgAA2FkAAGBtAADYWQAAmDoAADB1AACYOgAAYG0AADB1AACoYQAA2FkAANhZAABgbQAA2FkAANhZAADYWQAASHEAANhZAAA4SgAA2FkAAHCUAABgbQAAqGEAAGBtAADYWQAA2FkAANhZAADYWQAA2FkAAJg6AAAwdQAAIE4AAJg6AABQRgAAYG0AAIA+AACYOgAA2FkAAJg6AADYWQAA2FkAAGBtAADYWQAA2FkAAGBtAABgbQAAcJQAANhZAABIcQAASHEAAJg6AADYWQAASHEAANhZAADYWQAAmDoAAGBtAABwlAAA2FkAAEhxAADYWQAAYG0AAJg6AABgbQAASHEAAEhxAAAYeQAAmDoAADhKAABIcQAASHEAAJBlAACYOgAA0IQAAJg6AADYWQAA2FkAADB1AADYWQAAcJQAAEhxAACYOgAA2FkAANhZAADYWQAAmDoAADB1AAAwdQAAMHUAANhZAAAwdQAASHEAAJg6AACYOgAA2FkAADhKAADYWQAASHEAAEhxAACYOgAAGHkAAGBtAACYOgAAcJQAANhZAABwlAAA2FkAADhKAADYWQAAmDoAANhZAADYWQAASHEAANhZAACYOgAASHEAAEhxAABwlAAA2FkAANhZAADYWQAAmDoAALiIAABgbQAA2FkAAGBtAABIcQAAMHUAAJg6AAAwdQAAcJQAANhZAADYWQAAuIgAAGBtAABgbQAAYG0AAEhxAADYWQAA2FkAAGBtAACYOgAAYG0AAJg6AABwlAAA2FkAAJg6AACYOgAAmDoAADB1AACYOgAA2FkAAJg6AADYWQAAMHUAADB1AACYOgAAmDoAAAhSAAAIUgAA2FkAAKhhAAAYeQAAYG0AAGBtAACYOgAAGHkAANhZAACYOgAAmDoAAGBtAABgbQAAYG0AAJg6AADYWQAAYG0AAJg6AAC4iAAAmDoAAGBtAADYWQAAMHUAANhZAAC4iAAAmDoAANhZAACoYQAAYG0AAJg6AADYWQAAqGEAAKhhAADYWQAAYG0AANhZAADYWQAAYG0AAKhhAAAwdQAAmDoAAGBtAADYWQAAcJQAAKhhAABYmAAA2FkAAKhhAACoYQAAGHkAAJg6AADYWQAAMHUAANhZAABIcQAA2FkAAKhhAABgbQAAmDoAAGBtAABgbQAAmDoAAKhhAADYWQAAmDoAANhZAACYOgAA2FkAANhZAACoYQAAmDoAAHCUAABgbQAASHEAAFiYAAA=",
          "dtype": "i4"
         },
         "yaxis": "y"
        },
        {
         "hovertemplate": "BMI_Category=Obese<br>Age=%{x}<br>PremiumPrice=%{y}<extra></extra>",
         "legendgroup": "Obese",
         "marker": {
          "color": "#00cc96",
          "symbol": "circle"
         },
         "mode": "markers",
         "name": "Obese",
         "orientation": "v",
         "showlegend": true,
         "type": "scatter",
         "x": {
          "bdata": "JhIqJjEjNRY8FhoaMhg2FB4rFzE3PxckHh8uFD80NRUqGC07FzcdLxchOyYXIig7NS8qFT4rOiAwHjcjJR4kHi4TGSojHjAyISsTJzAoHhgbPB8SIDE8LjQWQkE+IzI9MSU5PCwWIyI2MS8TGSA1PDkYKEA0HShAIDQjKDgkKDs1NyEiPR09OR83MjAiMCoTKi8qLhkdKz0TNj4tOTctJTITLyoUMiMVHCYuGUBCOhI9N0IzHisbHR8fGxs3Lj4bPBoyOSskGCkpJCgePzNCGBRCKxY4MiY4J0EyODI/FUEeGxcSOy9BKiopGD84Gx4vOiAhEh0iOSw+MBkjPkFBEiQgNEEfGhkVMBgWMCUdNxwzFx8sLis6KhITIjMoFTUVKR8qGR0eFS4bQjEfFRU=",
          "dtype": "i1"
         },
         "xaxis": "x",
         "y": {
          "bdata": "2FkAAJg6AAAwdQAA2FkAAGBtAAAAfQAAuIgAAJg6AABgbQAAmDoAADhKAACYOgAAYG0AAJg6AAC4iAAAmDoAANhZAAAAfQAAwF0AAGBtAAAwdQAAqGEAAJg6AADYWQAAcJQAAKhhAABwlAAAmDoAAGBtAAAYeQAAYG0AAJg6AADYWQAAmDoAAHCUAAAYeQAAmDoAAEhxAACYOgAA2FkAAJg6AADYWQAASHEAANhZAACYOgAA2FkAABh5AABwlAAAYG0AALiIAADYWQAAmDoAALiIAADYWQAAuIgAANhZAAAwdQAA2FkAALiIAADYWQAA2FkAANhZAADYWQAA2FkAADB1AACYOgAAmDoAANhZAADYWQAA2FkAALiIAABgbQAA2FkAABh5AACYOgAA2FkAALiIAADYWQAAkGUAAJBlAABYmAAAuIgAANhZAACYOgAA2FkAALiIAADAXQAA8FUAAGBtAACYOgAAYG0AAMBdAABwlAAAkGUAAGBtAAC4iAAAuIgAANhZAAC4iAAAYG0AABh5AACYOgAA2FkAAKhhAAAwdQAAuIgAANhZAACYOgAAmDoAANhZAAC4iAAAYG0AALiIAACYOgAAMHUAAGBtAABIcQAAmDoAAHCUAABAnAAAqGEAAGBtAADYWQAAGHkAALiIAADYWQAA2FkAAHCUAABIcQAAcJQAANhZAADYWQAAkGUAAJg6AAAYeQAAYG0AANCEAABgbQAAYG0AALiIAADYWQAA2FkAANhZAACYOgAA2FkAANhZAAAYeQAA2FkAAJg6AACYOgAA2FkAAGBtAACYOgAASHEAABh5AADYWQAAYG0AAEhxAADYWQAA2FkAAGBtAACYOgAAoIwAABh5AACYOgAASHEAANhZAACYOgAAoIwAANhZAADYWQAAOEoAAEhxAABgbQAAYG0AAJBlAABgbQAASHEAALiIAABIcQAA2FkAANhZAACoYQAAmDoAANhZAADYWQAAmDoAAJg6AABIcQAA2FkAAGBtAACYOgAASHEAAJg6AAAYeQAASHEAADB1AAAYeQAAmDoAADB1AAAwdQAA2FkAAAB9AADYWQAAuIgAALiIAAC4iAAAmDoAAJg6AAC4iAAAMHUAAJg6AABIcQAAuIgAANhZAAC4iAAA2FkAAEhxAAC4iAAAYG0AAGBtAABIcQAAmDoAALiIAADYWQAAmDoAAJg6AACYOgAASHEAALiIAABgbQAAMHUAANhZAADYWQAAmDoAADB1AABIcQAAmDoAAHhpAAC4iAAASHEAANhZAADYWQAAmDoAADhKAADYWQAAYG0AAHCUAABIcQAAuIgAAJg6AADYWQAAuIgAAGBtAABgbQAAmDoAANhZAACoYQAAYG0AAEhxAADYWQAACFIAAJg6AACYOgAA2FkAAJg6AACYOgAAGHkAANhZAACYOgAASHEAAJg6AABIcQAAmDoAANhZAAAwdQAAMHUAANhZAABIcQAA2FkAAJg6AACYOgAA2FkAAEhxAADYWQAAmDoAAEhxAACYOgAAGHkAAHCUAABwlAAAOEoAAJg6AADYWQAAmDoAAKhhAACYOgAAYG0AAKhhAADYWQAAWJgAAJg6AAA=",
          "dtype": "i4"
         },
         "yaxis": "y"
        },
        {
         "hovertemplate": "BMI_Category=Underweight<br>Age=%{x}<br>PremiumPrice=%{y}<extra></extra>",
         "legendgroup": "Underweight",
         "marker": {
          "color": "#ab63fa",
          "symbol": "circle"
         },
         "mode": "markers",
         "name": "Underweight",
         "orientation": "v",
         "showlegend": true,
         "type": "scatter",
         "x": {
          "bdata": "GBk9KCA/FUAjExwZFDQpKywmJyI7JUETHSouLTotHiwyIiMwOy0i",
          "dtype": "i1"
         },
         "xaxis": "x",
         "y": {
          "bdata": "mDoAAJg6AABgbQAA2FkAAAhSAACoYQAAmDoAAGBtAADYWQAAmDoAAJg6AACYOgAAmDoAAKhhAAAwdQAA2FkAADB1AADYWQAA2FkAANhZAACoYQAA2FkAALiIAACYOgAAmDoAANhZAACoYQAAqGEAAKhhAACoYQAACFIAANhZAAAwdQAA2FkAANhZAACoYQAAqGEAAKhhAADYWQAA",
          "dtype": "i4"
         },
         "yaxis": "y"
        }
       ],
       "layout": {
        "legend": {
         "title": {
          "text": "BMI_Category"
         },
         "tracegroupgap": 0
        },
        "template": {
         "data": {
          "bar": [
           {
            "error_x": {
             "color": "#2a3f5f"
            },
            "error_y": {
             "color": "#2a3f5f"
            },
            "marker": {
             "line": {
              "color": "#E5ECF6",
              "width": 0.5
             },
             "pattern": {
              "fillmode": "overlay",
              "size": 10,
              "solidity": 0.2
             }
            },
            "type": "bar"
           }
          ],
          "barpolar": [
           {
            "marker": {
             "line": {
              "color": "#E5ECF6",
              "width": 0.5
             },
             "pattern": {
              "fillmode": "overlay",
              "size": 10,
              "solidity": 0.2
             }
            },
            "type": "barpolar"
           }
          ],
          "carpet": [
           {
            "aaxis": {
             "endlinecolor": "#2a3f5f",
             "gridcolor": "white",
             "linecolor": "white",
             "minorgridcolor": "white",
             "startlinecolor": "#2a3f5f"
            },
            "baxis": {
             "endlinecolor": "#2a3f5f",
             "gridcolor": "white",
             "linecolor": "white",
             "minorgridcolor": "white",
             "startlinecolor": "#2a3f5f"
            },
            "type": "carpet"
           }
          ],
          "choropleth": [
           {
            "colorbar": {
             "outlinewidth": 0,
             "ticks": ""
            },
            "type": "choropleth"
           }
          ],
          "contour": [
           {
            "colorbar": {
             "outlinewidth": 0,
             "ticks": ""
            },
            "colorscale": [
             [
              0,
              "#0d0887"
             ],
             [
              0.1111111111111111,
              "#46039f"
             ],
             [
              0.2222222222222222,
              "#7201a8"
             ],
             [
              0.3333333333333333,
              "#9c179e"
             ],
             [
              0.4444444444444444,
              "#bd3786"
             ],
             [
              0.5555555555555556,
              "#d8576b"
             ],
             [
              0.6666666666666666,
              "#ed7953"
             ],
             [
              0.7777777777777778,
              "#fb9f3a"
             ],
             [
              0.8888888888888888,
              "#fdca26"
             ],
             [
              1,
              "#f0f921"
             ]
            ],
            "type": "contour"
           }
          ],
          "contourcarpet": [
           {
            "colorbar": {
             "outlinewidth": 0,
             "ticks": ""
            },
            "type": "contourcarpet"
           }
          ],
          "heatmap": [
           {
            "colorbar": {
             "outlinewidth": 0,
             "ticks": ""
            },
            "colorscale": [
             [
              0,
              "#0d0887"
             ],
             [
              0.1111111111111111,
              "#46039f"
             ],
             [
              0.2222222222222222,
              "#7201a8"
             ],
             [
              0.3333333333333333,
              "#9c179e"
             ],
             [
              0.4444444444444444,
              "#bd3786"
             ],
             [
              0.5555555555555556,
              "#d8576b"
             ],
             [
              0.6666666666666666,
              "#ed7953"
             ],
             [
              0.7777777777777778,
              "#fb9f3a"
             ],
             [
              0.8888888888888888,
              "#fdca26"
             ],
             [
              1,
              "#f0f921"
             ]
            ],
            "type": "heatmap"
           }
          ],
          "histogram": [
           {
            "marker": {
             "pattern": {
              "fillmode": "overlay",
              "size": 10,
              "solidity": 0.2
             }
            },
            "type": "histogram"
           }
          ],
          "histogram2d": [
           {
            "colorbar": {
             "outlinewidth": 0,
             "ticks": ""
            },
            "colorscale": [
             [
              0,
              "#0d0887"
             ],
             [
              0.1111111111111111,
              "#46039f"
             ],
             [
              0.2222222222222222,
              "#7201a8"
             ],
             [
              0.3333333333333333,
              "#9c179e"
             ],
             [
              0.4444444444444444,
              "#bd3786"
             ],
             [
              0.5555555555555556,
              "#d8576b"
             ],
             [
              0.6666666666666666,
              "#ed7953"
             ],
             [
              0.7777777777777778,
              "#fb9f3a"
             ],
             [
              0.8888888888888888,
              "#fdca26"
             ],
             [
              1,
              "#f0f921"
             ]
            ],
            "type": "histogram2d"
           }
          ],
          "histogram2dcontour": [
           {
            "colorbar": {
             "outlinewidth": 0,
             "ticks": ""
            },
            "colorscale": [
             [
              0,
              "#0d0887"
             ],
             [
              0.1111111111111111,
              "#46039f"
             ],
             [
              0.2222222222222222,
              "#7201a8"
             ],
             [
              0.3333333333333333,
              "#9c179e"
             ],
             [
              0.4444444444444444,
              "#bd3786"
             ],
             [
              0.5555555555555556,
              "#d8576b"
             ],
             [
              0.6666666666666666,
              "#ed7953"
             ],
             [
              0.7777777777777778,
              "#fb9f3a"
             ],
             [
              0.8888888888888888,
              "#fdca26"
             ],
             [
              1,
              "#f0f921"
             ]
            ],
            "type": "histogram2dcontour"
           }
          ],
          "mesh3d": [
           {
            "colorbar": {
             "outlinewidth": 0,
             "ticks": ""
            },
            "type": "mesh3d"
           }
          ],
          "parcoords": [
           {
            "line": {
             "colorbar": {
              "outlinewidth": 0,
              "ticks": ""
             }
            },
            "type": "parcoords"
           }
          ],
          "pie": [
           {
            "automargin": true,
            "type": "pie"
           }
          ],
          "scatter": [
           {
            "fillpattern": {
             "fillmode": "overlay",
             "size": 10,
             "solidity": 0.2
            },
            "type": "scatter"
           }
          ],
          "scatter3d": [
           {
            "line": {
             "colorbar": {
              "outlinewidth": 0,
              "ticks": ""
             }
            },
            "marker": {
             "colorbar": {
              "outlinewidth": 0,
              "ticks": ""
             }
            },
            "type": "scatter3d"
           }
          ],
          "scattercarpet": [
           {
            "marker": {
             "colorbar": {
              "outlinewidth": 0,
              "ticks": ""
             }
            },
            "type": "scattercarpet"
           }
          ],
          "scattergeo": [
           {
            "marker": {
             "colorbar": {
              "outlinewidth": 0,
              "ticks": ""
             }
            },
            "type": "scattergeo"
           }
          ],
          "scattergl": [
           {
            "marker": {
             "colorbar": {
              "outlinewidth": 0,
              "ticks": ""
             }
            },
            "type": "scattergl"
           }
          ],
          "scattermap": [
           {
            "marker": {
             "colorbar": {
              "outlinewidth": 0,
              "ticks": ""
             }
            },
            "type": "scattermap"
           }
          ],
          "scattermapbox": [
           {
            "marker": {
             "colorbar": {
              "outlinewidth": 0,
              "ticks": ""
             }
            },
            "type": "scattermapbox"
           }
          ],
          "scatterpolar": [
           {
            "marker": {
             "colorbar": {
              "outlinewidth": 0,
              "ticks": ""
             }
            },
            "type": "scatterpolar"
           }
          ],
          "scatterpolargl": [
           {
            "marker": {
             "colorbar": {
              "outlinewidth": 0,
              "ticks": ""
             }
            },
            "type": "scatterpolargl"
           }
          ],
          "scatterternary": [
           {
            "marker": {
             "colorbar": {
              "outlinewidth": 0,
              "ticks": ""
             }
            },
            "type": "scatterternary"
           }
          ],
          "surface": [
           {
            "colorbar": {
             "outlinewidth": 0,
             "ticks": ""
            },
            "colorscale": [
             [
              0,
              "#0d0887"
             ],
             [
              0.1111111111111111,
              "#46039f"
             ],
             [
              0.2222222222222222,
              "#7201a8"
             ],
             [
              0.3333333333333333,
              "#9c179e"
             ],
             [
              0.4444444444444444,
              "#bd3786"
             ],
             [
              0.5555555555555556,
              "#d8576b"
             ],
             [
              0.6666666666666666,
              "#ed7953"
             ],
             [
              0.7777777777777778,
              "#fb9f3a"
             ],
             [
              0.8888888888888888,
              "#fdca26"
             ],
             [
              1,
              "#f0f921"
             ]
            ],
            "type": "surface"
           }
          ],
          "table": [
           {
            "cells": {
             "fill": {
              "color": "#EBF0F8"
             },
             "line": {
              "color": "white"
             }
            },
            "header": {
             "fill": {
              "color": "#C8D4E3"
             },
             "line": {
              "color": "white"
             }
            },
            "type": "table"
           }
          ]
         },
         "layout": {
          "annotationdefaults": {
           "arrowcolor": "#2a3f5f",
           "arrowhead": 0,
           "arrowwidth": 1
          },
          "autotypenumbers": "strict",
          "coloraxis": {
           "colorbar": {
            "outlinewidth": 0,
            "ticks": ""
           }
          },
          "colorscale": {
           "diverging": [
            [
             0,
             "#8e0152"
            ],
            [
             0.1,
             "#c51b7d"
            ],
            [
             0.2,
             "#de77ae"
            ],
            [
             0.3,
             "#f1b6da"
            ],
            [
             0.4,
             "#fde0ef"
            ],
            [
             0.5,
             "#f7f7f7"
            ],
            [
             0.6,
             "#e6f5d0"
            ],
            [
             0.7,
             "#b8e186"
            ],
            [
             0.8,
             "#7fbc41"
            ],
            [
             0.9,
             "#4d9221"
            ],
            [
             1,
             "#276419"
            ]
           ],
           "sequential": [
            [
             0,
             "#0d0887"
            ],
            [
             0.1111111111111111,
             "#46039f"
            ],
            [
             0.2222222222222222,
             "#7201a8"
            ],
            [
             0.3333333333333333,
             "#9c179e"
            ],
            [
             0.4444444444444444,
             "#bd3786"
            ],
            [
             0.5555555555555556,
             "#d8576b"
            ],
            [
             0.6666666666666666,
             "#ed7953"
            ],
            [
             0.7777777777777778,
             "#fb9f3a"
            ],
            [
             0.8888888888888888,
             "#fdca26"
            ],
            [
             1,
             "#f0f921"
            ]
           ],
           "sequentialminus": [
            [
             0,
             "#0d0887"
            ],
            [
             0.1111111111111111,
             "#46039f"
            ],
            [
             0.2222222222222222,
             "#7201a8"
            ],
            [
             0.3333333333333333,
             "#9c179e"
            ],
            [
             0.4444444444444444,
             "#bd3786"
            ],
            [
             0.5555555555555556,
             "#d8576b"
            ],
            [
             0.6666666666666666,
             "#ed7953"
            ],
            [
             0.7777777777777778,
             "#fb9f3a"
            ],
            [
             0.8888888888888888,
             "#fdca26"
            ],
            [
             1,
             "#f0f921"
            ]
           ]
          },
          "colorway": [
           "#636efa",
           "#EF553B",
           "#00cc96",
           "#ab63fa",
           "#FFA15A",
           "#19d3f3",
           "#FF6692",
           "#B6E880",
           "#FF97FF",
           "#FECB52"
          ],
          "font": {
           "color": "#2a3f5f"
          },
          "geo": {
           "bgcolor": "white",
           "lakecolor": "white",
           "landcolor": "#E5ECF6",
           "showlakes": true,
           "showland": true,
           "subunitcolor": "white"
          },
          "hoverlabel": {
           "align": "left"
          },
          "hovermode": "closest",
          "mapbox": {
           "style": "light"
          },
          "paper_bgcolor": "white",
          "plot_bgcolor": "#E5ECF6",
          "polar": {
           "angularaxis": {
            "gridcolor": "white",
            "linecolor": "white",
            "ticks": ""
           },
           "bgcolor": "#E5ECF6",
           "radialaxis": {
            "gridcolor": "white",
            "linecolor": "white",
            "ticks": ""
           }
          },
          "scene": {
           "xaxis": {
            "backgroundcolor": "#E5ECF6",
            "gridcolor": "white",
            "gridwidth": 2,
            "linecolor": "white",
            "showbackground": true,
            "ticks": "",
            "zerolinecolor": "white"
           },
           "yaxis": {
            "backgroundcolor": "#E5ECF6",
            "gridcolor": "white",
            "gridwidth": 2,
            "linecolor": "white",
            "showbackground": true,
            "ticks": "",
            "zerolinecolor": "white"
           },
           "zaxis": {
            "backgroundcolor": "#E5ECF6",
            "gridcolor": "white",
            "gridwidth": 2,
            "linecolor": "white",
            "showbackground": true,
            "ticks": "",
            "zerolinecolor": "white"
           }
          },
          "shapedefaults": {
           "line": {
            "color": "#2a3f5f"
           }
          },
          "ternary": {
           "aaxis": {
            "gridcolor": "white",
            "linecolor": "white",
            "ticks": ""
           },
           "baxis": {
            "gridcolor": "white",
            "linecolor": "white",
            "ticks": ""
           },
           "bgcolor": "#E5ECF6",
           "caxis": {
            "gridcolor": "white",
            "linecolor": "white",
            "ticks": ""
           }
          },
          "title": {
           "x": 0.05
          },
          "xaxis": {
           "automargin": true,
           "gridcolor": "white",
           "linecolor": "white",
           "ticks": "",
           "title": {
            "standoff": 15
           },
           "zerolinecolor": "white",
           "zerolinewidth": 2
          },
          "yaxis": {
           "automargin": true,
           "gridcolor": "white",
           "linecolor": "white",
           "ticks": "",
           "title": {
            "standoff": 15
           },
           "zerolinecolor": "white",
           "zerolinewidth": 2
          }
         }
        },
        "title": {
         "text": "Premium Price by Age and BMI",
         "x": 0.5
        },
        "xaxis": {
         "anchor": "y",
         "domain": [
          0,
          1
         ],
         "title": {
          "text": "Age"
         }
        },
        "yaxis": {
         "anchor": "x",
         "domain": [
          0,
          1
         ],
         "title": {
          "text": "PremiumPrice"
         }
        }
       }
      }
     },
     "metadata": {},
     "output_type": "display_data"
    }
   ],
   "source": [
    "fig = px.scatter(df, x='Age', y='PremiumPrice',  \n",
    "                 title='Premium Price by Age and BMI',\n",
    "                 color='BMI_Category', color_continuous_scale='Viridis')\n",
    "fig.update_layout(title_x=0.5)\n",
    "fig.show()"
   ]
  },
  {
   "cell_type": "markdown",
   "id": "5d415500",
   "metadata": {},
   "source": [
    "💡 Older - Obese and overweight people are got higher premium price.\n",
    "\n",
    "💡 Younger - Normal and underweight people are got lower premium price."
   ]
  },
  {
   "cell_type": "code",
   "execution_count": 15,
   "id": "a66929c6",
   "metadata": {},
   "outputs": [
    {
     "data": {
      "application/vnd.plotly.v1+json": {
       "config": {
        "plotlyServerURL": "https://plot.ly"
       },
       "data": [
        {
         "hovertemplate": "Diabetes=0<br>Age=%{x}<br>PremiumPrice=%{y}<extra></extra>",
         "legendgroup": "0",
         "marker": {
          "color": "red",
          "symbol": "circle"
         },
         "mode": "markers",
         "name": "0",
         "orientation": "v",
         "showlegend": true,
         "type": "scatter",
         "x": {
          "bdata": "LSYeIRcmPBguEiYqFSMjNR8WPB4WGhwaMjorFBk0LEAUHj8rPBckFx9AEyggGzcXHiwfLiEuNBUiHyoYFRc8Hxw3HSMZOyA2PyYXISsnHCIlMCghIzs4LyoVFCsTHSASLDA3KiMmHiQTKh4wIRMnHhgbPBIgKR0uNBZBPiM9MSU8LDUgEiMiPjEUMR00LxMZICUUFjkhGTcoMS4UHC5CMjA0QDEdLSgoICMZGSgaKzgXJCggNRwhIhgwJjM9Hjk/HxMwIj8hEyopLSIlKy4wNCMkPhk+KzYTJi0dPjYoIyEgKyAiLCYSLSIdJBYUPTEXJRgsHSVBMEAnEzs8GzInOiATFjoYMDEvOS4SIBsqQDg6LS0eIR4iMyM+LRokNjEzFT8rLxQyIyUqMx8cMSYuQRk+Py87EhxAJRIdFiAzJz0bN0I8KzYTMx4SMisbKx0fKh8pHy8sGzczMRo+Gy08PRobMisVKiAiHCQpKSkbKDMUMxYeOxUrJz8sHCYrFTIxJB87Fj1BNiJCOzMsLzUjFCsbFjsdHS8hJjs5IDYlEiYwPBcnODIZGxM4IRglKj8VHiA1QCwrFxMZOzs1KiktIj84PBsbHjogIRIdIiwhFiQsGyEwGSM+IS8wKjIoEiA0Gx8aKBUVMiwwMhIpIxYUEj02FTdBLDUZQhkSKhc1LDMlFi40Kz4tLxsSNyUzIh4+GRMzKBU2Lx0hFRgfExY9KjYmHys1KzctHRkSQhdCEi0aHxwsFS0oGCgSOBU=",
          "dtype": "i1"
         },
         "xaxis": "x",
         "y": {
          "bdata": "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",
          "dtype": "i4"
         },
         "yaxis": "y"
        },
        {
         "hovertemplate": "Diabetes=1<br>Age=%{x}<br>PremiumPrice=%{y}<extra></extra>",
         "legendgroup": "1",
         "marker": {
          "color": "green",
          "symbol": "circle"
         },
         "mode": "markers",
         "name": "1",
         "orientation": "v",
         "showlegend": true,
         "type": "scatter",
         "x": {
          "bdata": "PCQ0MEImOTEUIUAsGEIaGTY9OikxLjcaMT8ZNUIkMT8bLi4UIz82NTQtOyFAIy83Qh87EzsmFxtCMzYhOzQ1Mjk+Pi46IjUcKh4fLxghQiUeLhkjMistMBQoIB8xPEIyGTkWOD8kHTYVLzdBNTwwNiQYGB4+LCRAMDQSI0BCMCtANBomQUAZOzQ3Kj0dKzcyLS8vKxkiLxYzMCpBLzEqNkAdJT0pPis2LUA6ORxCQTdAIy0nOyQ9ISwfJRs7FToyJRgWEhRAEz0dOEEYKiwaIzopMS04OjsbQC4yQDRAIxMnPSoSNBU2HC4ZNjtAPSlCOjs/KiQlOkIiKykxGzoWHCwuOjk7OxgtKi0YMDMjKRUsJC0sPz8oHio/QjVCGygrM0IYMS4wQjg8MSsuMjgpPjI3NDM4LTlBMhtCNRoTGBRBLhsrEh47KCkxL0EqIBgvJBQ5GB0+QUFBPiRBNBkdODg8GDAlHRw9IRw+JxwjMzAzHxYgLToqJhMiOSc3Hj9CKzU+KSk2EzAoIxk8HjQsPj8VLhs7IDEbIyouL0Av",
          "dtype": "i1"
         },
         "xaxis": "x",
         "y": {
          "bdata": "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",
          "dtype": "i4"
         },
         "yaxis": "y"
        }
       ],
       "layout": {
        "legend": {
         "title": {
          "text": "Diabetes"
         },
         "tracegroupgap": 0
        },
        "template": {
         "data": {
          "bar": [
           {
            "error_x": {
             "color": "#2a3f5f"
            },
            "error_y": {
             "color": "#2a3f5f"
            },
            "marker": {
             "line": {
              "color": "#E5ECF6",
              "width": 0.5
             },
             "pattern": {
              "fillmode": "overlay",
              "size": 10,
              "solidity": 0.2
             }
            },
            "type": "bar"
           }
          ],
          "barpolar": [
           {
            "marker": {
             "line": {
              "color": "#E5ECF6",
              "width": 0.5
             },
             "pattern": {
              "fillmode": "overlay",
              "size": 10,
              "solidity": 0.2
             }
            },
            "type": "barpolar"
           }
          ],
          "carpet": [
           {
            "aaxis": {
             "endlinecolor": "#2a3f5f",
             "gridcolor": "white",
             "linecolor": "white",
             "minorgridcolor": "white",
             "startlinecolor": "#2a3f5f"
            },
            "baxis": {
             "endlinecolor": "#2a3f5f",
             "gridcolor": "white",
             "linecolor": "white",
             "minorgridcolor": "white",
             "startlinecolor": "#2a3f5f"
            },
            "type": "carpet"
           }
          ],
          "choropleth": [
           {
            "colorbar": {
             "outlinewidth": 0,
             "ticks": ""
            },
            "type": "choropleth"
           }
          ],
          "contour": [
           {
            "colorbar": {
             "outlinewidth": 0,
             "ticks": ""
            },
            "colorscale": [
             [
              0,
              "#0d0887"
             ],
             [
              0.1111111111111111,
              "#46039f"
             ],
             [
              0.2222222222222222,
              "#7201a8"
             ],
             [
              0.3333333333333333,
              "#9c179e"
             ],
             [
              0.4444444444444444,
              "#bd3786"
             ],
             [
              0.5555555555555556,
              "#d8576b"
             ],
             [
              0.6666666666666666,
              "#ed7953"
             ],
             [
              0.7777777777777778,
              "#fb9f3a"
             ],
             [
              0.8888888888888888,
              "#fdca26"
             ],
             [
              1,
              "#f0f921"
             ]
            ],
            "type": "contour"
           }
          ],
          "contourcarpet": [
           {
            "colorbar": {
             "outlinewidth": 0,
             "ticks": ""
            },
            "type": "contourcarpet"
           }
          ],
          "heatmap": [
           {
            "colorbar": {
             "outlinewidth": 0,
             "ticks": ""
            },
            "colorscale": [
             [
              0,
              "#0d0887"
             ],
             [
              0.1111111111111111,
              "#46039f"
             ],
             [
              0.2222222222222222,
              "#7201a8"
             ],
             [
              0.3333333333333333,
              "#9c179e"
             ],
             [
              0.4444444444444444,
              "#bd3786"
             ],
             [
              0.5555555555555556,
              "#d8576b"
             ],
             [
              0.6666666666666666,
              "#ed7953"
             ],
             [
              0.7777777777777778,
              "#fb9f3a"
             ],
             [
              0.8888888888888888,
              "#fdca26"
             ],
             [
              1,
              "#f0f921"
             ]
            ],
            "type": "heatmap"
           }
          ],
          "histogram": [
           {
            "marker": {
             "pattern": {
              "fillmode": "overlay",
              "size": 10,
              "solidity": 0.2
             }
            },
            "type": "histogram"
           }
          ],
          "histogram2d": [
           {
            "colorbar": {
             "outlinewidth": 0,
             "ticks": ""
            },
            "colorscale": [
             [
              0,
              "#0d0887"
             ],
             [
              0.1111111111111111,
              "#46039f"
             ],
             [
              0.2222222222222222,
              "#7201a8"
             ],
             [
              0.3333333333333333,
              "#9c179e"
             ],
             [
              0.4444444444444444,
              "#bd3786"
             ],
             [
              0.5555555555555556,
              "#d8576b"
             ],
             [
              0.6666666666666666,
              "#ed7953"
             ],
             [
              0.7777777777777778,
              "#fb9f3a"
             ],
             [
              0.8888888888888888,
              "#fdca26"
             ],
             [
              1,
              "#f0f921"
             ]
            ],
            "type": "histogram2d"
           }
          ],
          "histogram2dcontour": [
           {
            "colorbar": {
             "outlinewidth": 0,
             "ticks": ""
            },
            "colorscale": [
             [
              0,
              "#0d0887"
             ],
             [
              0.1111111111111111,
              "#46039f"
             ],
             [
              0.2222222222222222,
              "#7201a8"
             ],
             [
              0.3333333333333333,
              "#9c179e"
             ],
             [
              0.4444444444444444,
              "#bd3786"
             ],
             [
              0.5555555555555556,
              "#d8576b"
             ],
             [
              0.6666666666666666,
              "#ed7953"
             ],
             [
              0.7777777777777778,
              "#fb9f3a"
             ],
             [
              0.8888888888888888,
              "#fdca26"
             ],
             [
              1,
              "#f0f921"
             ]
            ],
            "type": "histogram2dcontour"
           }
          ],
          "mesh3d": [
           {
            "colorbar": {
             "outlinewidth": 0,
             "ticks": ""
            },
            "type": "mesh3d"
           }
          ],
          "parcoords": [
           {
            "line": {
             "colorbar": {
              "outlinewidth": 0,
              "ticks": ""
             }
            },
            "type": "parcoords"
           }
          ],
          "pie": [
           {
            "automargin": true,
            "type": "pie"
           }
          ],
          "scatter": [
           {
            "fillpattern": {
             "fillmode": "overlay",
             "size": 10,
             "solidity": 0.2
            },
            "type": "scatter"
           }
          ],
          "scatter3d": [
           {
            "line": {
             "colorbar": {
              "outlinewidth": 0,
              "ticks": ""
             }
            },
            "marker": {
             "colorbar": {
              "outlinewidth": 0,
              "ticks": ""
             }
            },
            "type": "scatter3d"
           }
          ],
          "scattercarpet": [
           {
            "marker": {
             "colorbar": {
              "outlinewidth": 0,
              "ticks": ""
             }
            },
            "type": "scattercarpet"
           }
          ],
          "scattergeo": [
           {
            "marker": {
             "colorbar": {
              "outlinewidth": 0,
              "ticks": ""
             }
            },
            "type": "scattergeo"
           }
          ],
          "scattergl": [
           {
            "marker": {
             "colorbar": {
              "outlinewidth": 0,
              "ticks": ""
             }
            },
            "type": "scattergl"
           }
          ],
          "scattermap": [
           {
            "marker": {
             "colorbar": {
              "outlinewidth": 0,
              "ticks": ""
             }
            },
            "type": "scattermap"
           }
          ],
          "scattermapbox": [
           {
            "marker": {
             "colorbar": {
              "outlinewidth": 0,
              "ticks": ""
             }
            },
            "type": "scattermapbox"
           }
          ],
          "scatterpolar": [
           {
            "marker": {
             "colorbar": {
              "outlinewidth": 0,
              "ticks": ""
             }
            },
            "type": "scatterpolar"
           }
          ],
          "scatterpolargl": [
           {
            "marker": {
             "colorbar": {
              "outlinewidth": 0,
              "ticks": ""
             }
            },
            "type": "scatterpolargl"
           }
          ],
          "scatterternary": [
           {
            "marker": {
             "colorbar": {
              "outlinewidth": 0,
              "ticks": ""
             }
            },
            "type": "scatterternary"
           }
          ],
          "surface": [
           {
            "colorbar": {
             "outlinewidth": 0,
             "ticks": ""
            },
            "colorscale": [
             [
              0,
              "#0d0887"
             ],
             [
              0.1111111111111111,
              "#46039f"
             ],
             [
              0.2222222222222222,
              "#7201a8"
             ],
             [
              0.3333333333333333,
              "#9c179e"
             ],
             [
              0.4444444444444444,
              "#bd3786"
             ],
             [
              0.5555555555555556,
              "#d8576b"
             ],
             [
              0.6666666666666666,
              "#ed7953"
             ],
             [
              0.7777777777777778,
              "#fb9f3a"
             ],
             [
              0.8888888888888888,
              "#fdca26"
             ],
             [
              1,
              "#f0f921"
             ]
            ],
            "type": "surface"
           }
          ],
          "table": [
           {
            "cells": {
             "fill": {
              "color": "#EBF0F8"
             },
             "line": {
              "color": "white"
             }
            },
            "header": {
             "fill": {
              "color": "#C8D4E3"
             },
             "line": {
              "color": "white"
             }
            },
            "type": "table"
           }
          ]
         },
         "layout": {
          "annotationdefaults": {
           "arrowcolor": "#2a3f5f",
           "arrowhead": 0,
           "arrowwidth": 1
          },
          "autotypenumbers": "strict",
          "coloraxis": {
           "colorbar": {
            "outlinewidth": 0,
            "ticks": ""
           }
          },
          "colorscale": {
           "diverging": [
            [
             0,
             "#8e0152"
            ],
            [
             0.1,
             "#c51b7d"
            ],
            [
             0.2,
             "#de77ae"
            ],
            [
             0.3,
             "#f1b6da"
            ],
            [
             0.4,
             "#fde0ef"
            ],
            [
             0.5,
             "#f7f7f7"
            ],
            [
             0.6,
             "#e6f5d0"
            ],
            [
             0.7,
             "#b8e186"
            ],
            [
             0.8,
             "#7fbc41"
            ],
            [
             0.9,
             "#4d9221"
            ],
            [
             1,
             "#276419"
            ]
           ],
           "sequential": [
            [
             0,
             "#0d0887"
            ],
            [
             0.1111111111111111,
             "#46039f"
            ],
            [
             0.2222222222222222,
             "#7201a8"
            ],
            [
             0.3333333333333333,
             "#9c179e"
            ],
            [
             0.4444444444444444,
             "#bd3786"
            ],
            [
             0.5555555555555556,
             "#d8576b"
            ],
            [
             0.6666666666666666,
             "#ed7953"
            ],
            [
             0.7777777777777778,
             "#fb9f3a"
            ],
            [
             0.8888888888888888,
             "#fdca26"
            ],
            [
             1,
             "#f0f921"
            ]
           ],
           "sequentialminus": [
            [
             0,
             "#0d0887"
            ],
            [
             0.1111111111111111,
             "#46039f"
            ],
            [
             0.2222222222222222,
             "#7201a8"
            ],
            [
             0.3333333333333333,
             "#9c179e"
            ],
            [
             0.4444444444444444,
             "#bd3786"
            ],
            [
             0.5555555555555556,
             "#d8576b"
            ],
            [
             0.6666666666666666,
             "#ed7953"
            ],
            [
             0.7777777777777778,
             "#fb9f3a"
            ],
            [
             0.8888888888888888,
             "#fdca26"
            ],
            [
             1,
             "#f0f921"
            ]
           ]
          },
          "colorway": [
           "#636efa",
           "#EF553B",
           "#00cc96",
           "#ab63fa",
           "#FFA15A",
           "#19d3f3",
           "#FF6692",
           "#B6E880",
           "#FF97FF",
           "#FECB52"
          ],
          "font": {
           "color": "#2a3f5f"
          },
          "geo": {
           "bgcolor": "white",
           "lakecolor": "white",
           "landcolor": "#E5ECF6",
           "showlakes": true,
           "showland": true,
           "subunitcolor": "white"
          },
          "hoverlabel": {
           "align": "left"
          },
          "hovermode": "closest",
          "mapbox": {
           "style": "light"
          },
          "paper_bgcolor": "white",
          "plot_bgcolor": "#E5ECF6",
          "polar": {
           "angularaxis": {
            "gridcolor": "white",
            "linecolor": "white",
            "ticks": ""
           },
           "bgcolor": "#E5ECF6",
           "radialaxis": {
            "gridcolor": "white",
            "linecolor": "white",
            "ticks": ""
           }
          },
          "scene": {
           "xaxis": {
            "backgroundcolor": "#E5ECF6",
            "gridcolor": "white",
            "gridwidth": 2,
            "linecolor": "white",
            "showbackground": true,
            "ticks": "",
            "zerolinecolor": "white"
           },
           "yaxis": {
            "backgroundcolor": "#E5ECF6",
            "gridcolor": "white",
            "gridwidth": 2,
            "linecolor": "white",
            "showbackground": true,
            "ticks": "",
            "zerolinecolor": "white"
           },
           "zaxis": {
            "backgroundcolor": "#E5ECF6",
            "gridcolor": "white",
            "gridwidth": 2,
            "linecolor": "white",
            "showbackground": true,
            "ticks": "",
            "zerolinecolor": "white"
           }
          },
          "shapedefaults": {
           "line": {
            "color": "#2a3f5f"
           }
          },
          "ternary": {
           "aaxis": {
            "gridcolor": "white",
            "linecolor": "white",
            "ticks": ""
           },
           "baxis": {
            "gridcolor": "white",
            "linecolor": "white",
            "ticks": ""
           },
           "bgcolor": "#E5ECF6",
           "caxis": {
            "gridcolor": "white",
            "linecolor": "white",
            "ticks": ""
           }
          },
          "title": {
           "x": 0.05
          },
          "xaxis": {
           "automargin": true,
           "gridcolor": "white",
           "linecolor": "white",
           "ticks": "",
           "title": {
            "standoff": 15
           },
           "zerolinecolor": "white",
           "zerolinewidth": 2
          },
          "yaxis": {
           "automargin": true,
           "gridcolor": "white",
           "linecolor": "white",
           "ticks": "",
           "title": {
            "standoff": 15
           },
           "zerolinecolor": "white",
           "zerolinewidth": 2
          }
         }
        },
        "title": {
         "text": "Premium Price by Age and Diabetes",
         "x": 0.5
        },
        "xaxis": {
         "anchor": "y",
         "domain": [
          0,
          1
         ],
         "title": {
          "text": "Age"
         }
        },
        "yaxis": {
         "anchor": "x",
         "domain": [
          0,
          1
         ],
         "title": {
          "text": "PremiumPrice"
         }
        }
       }
      }
     },
     "metadata": {},
     "output_type": "display_data"
    },
    {
     "data": {
      "application/vnd.plotly.v1+json": {
       "config": {
        "plotlyServerURL": "https://plot.ly"
       },
       "data": [
        {
         "hovertemplate": "BloodPressureProblems=0<br>Age=%{x}<br>PremiumPrice=%{y}<extra></extra>",
         "legendgroup": "0",
         "marker": {
          "color": "red",
          "symbol": "circle"
         },
         "mode": "markers",
         "name": "0",
         "orientation": "v",
         "showlegend": true,
         "type": "scatter",
         "x": {
          "bdata": "LTwmHiEXMCZCGBImKiY5MRQjHxYeFhwaQDIsKzQaNhQrOjEfEyggPzUXHiw/Li4fIS40FR80KhgtFyE8HxxAHSMZN0ImFyEfKzsTFyIbMyg2NCMvKhU+FCsuEzUdIBIcLCovGDcqQiYeJC4TKiMwMiErEzAePBIxKR08LhYjJTksJDUgEiI2FRQ3HRNBIDU8JRQ5ITAZJBgYMSRAFBwuNEA0MR0rKCAaGis4QBcZKCA1NxwhGB0mHjkTLysiFiIwKhNBLy0xIiU2NB0lPTYTJi0gKywjJiQ9Hy0iJR0kFhQxGxgsMiUdJRgWJxMbMhQnIBMTFj06HUEwKiwjORIgLRs4Kjo4LR4bIy0aMjQkNjEzQBUrLz0UNCUqMxwcMS4ZNjtALzscJR0zJxs3OjYTMxIyKxsrKh8pLzobHCwuPhs8GhsyOystKiItHCQYKSkwKRsjKBUsLSwUFh4oKyc/QiwcNSsVJCgfKxY9QiI7GCwvNSMUQisbFjg8Mh04ISkmPiA0JRImMBcnMhsyGxMhExglKhQ/FSAsEys7KTEvKiIgGBseJBQgEh0iLCEYJB0bPiEwIz4hLzAqQUEyGx8aKBkVHSwwODISKRgWFDASHRU3HD0sGRknHCojMBcsLhY0Oi0bEiYlEyI3PhMoFSsdNSEVKR8TKhMfKyM1KzcdGSwVEhcxGxIaHC8YEhU=",
          "dtype": "i1"
         },
         "xaxis": "x",
         "y": {
          "bdata": "qGEAAEhxAADYWQAA2FkAAAhSAACYOgAA2FkAANhZAACoYQAAmDoAAJg6AADYWQAAMHUAANhZAACoYQAAYG0AAJg6AAAAfQAACFIAAJg6AADYWQAAmDoAAJg6AACYOgAAYG0AAGBtAADYWQAAMHUAAEhxAACYOgAAuIgAAJg6AAAAfQAAqGEAAGBtAADYWQAAmDoAANhZAAAIUgAAqGEAAGBtAACYOgAAcJQAANhZAACoYQAA2FkAAKhhAACoYQAACFIAAKhhAAAYeQAAmDoAANhZAACoYQAA2FkAAJg6AABwlAAAmDoAANhZAACoYQAA2FkAADhKAABgbQAAmDoAANhZAAA4SgAAYG0AAKhhAADYWQAAmDoAANhZAABwlAAAMHUAAEhxAACYOgAAmDoAANhZAACYOgAASHEAABh5AABgbQAASHEAANhZAAC4iAAA2FkAAJg6AAC4iAAAmDoAANhZAACoYQAAmDoAAEhxAACYOgAA2FkAAJg6AACYOgAA2FkAAHCUAABwlAAAmDoAALiIAADYWQAAYG0AANhZAADYWQAA2FkAADB1AACYOgAA2FkAANhZAAC4iAAAYG0AANhZAAAYeQAAmDoAALiIAACQZQAAuIgAAJg6AAC4iAAAMHUAADhKAADAXQAA8FUAAJg6AACQZQAA2FkAALiIAAAYeQAA2FkAAGBtAAAIUgAAmDoAAKhhAAAwdQAAmDoAAJg6AABgbQAAmDoAAJg6AACoYQAA2FkAALiIAABgbQAA2FkAAJg6AAC4iAAA2FkAANhZAACYOgAA2FkAAJg6AACYOgAASHEAANhZAABgbQAAmDoAAAhSAADYWQAASHEAAGBtAACoYQAASHEAAJg6AADYWQAAcJQAAKhhAACYOgAAmDoAANhZAAC4iAAAYG0AAJg6AADAXQAA2FkAANhZAABIcQAAcJQAADhKAADYWQAAmDoAAJg6AADYWQAA2FkAAGBtAACYOgAAMHUAANhZAADYWQAAmDoAANhZAADYWQAA2FkAAJg6AABgbQAA2FkAADB1AACoYQAA2FkAANhZAABgbQAAYG0AAJg6AADYWQAAYG0AAEhxAACYOgAA2FkAANhZAAAIUgAA2FkAADB1AADYWQAA2FkAANhZAABgbQAA2FkAANhZAADYWQAA2FkAAJg6AADYWQAAmDoAAJg6AACoYQAAmDoAAJg6AAAwdQAAIE4AABh5AACYOgAA2FkAAJg6AACYOgAA2FkAAFBGAACAPgAAYG0AAIA+AAAYeQAA2FkAAJg6AACYOgAAmDoAAGBtAABwlAAAmDoAAGBtAAAwdQAA2FkAANhZAADYWQAAqGEAAJg6AAAIUgAAqGEAAJg6AACoYQAA2FkAAKhhAACoYQAAqGEAAAhSAACYOgAA2FkAANhZAAA4SgAAYG0AAHCUAADYWQAASHEAAGBtAABIcQAASHEAAJg6AADYWQAAoIwAAEhxAACYOgAAYG0AANhZAADYWQAAcJQAAJg6AACgjAAASHEAANhZAACYOgAASHEAAEhxAABIcQAAGHkAAEhxAAA4SgAAkGUAAJg6AAAwdQAA2FkAAJg6AABIcQAAYG0AAEhxAACYOgAASHEAAJg6AABIcQAA2FkAAKhhAAAwdQAAMHUAANhZAAAwdQAA2FkAAEhxAACYOgAAmDoAANhZAADYWQAAYG0AAJg6AABIcQAAmDoAAJg6AAAYeQAASHEAADB1AAAYeQAA2FkAAHCUAADYWQAAOEoAABh5AACYOgAAMHUAANhZAACoYQAAMHUAAJg6AADYWQAA2FkAAJg6AADYWQAA2FkAANhZAACYOgAAmDoAAAhSAAAAfQAA2FkAANhZAAC4iAAAqGEAANhZAACYOgAAqGEAANhZAACYOgAAcJQAANhZAADYWQAA2FkAAJg6AAC4iAAAuIgAANhZAABwlAAAmDoAANhZAAAwdQAASHEAANhZAACYOgAAuIgAADB1AACYOgAAmDoAAEhxAAAwdQAAuIgAAJg6AABwlAAA2FkAANhZAADYWQAAYG0AAHCUAACoYQAA2FkAAJg6AADYWQAAqGEAAJg6AADYWQAAuIgAAJg6AABgbQAAcJQAAJg6AADYWQAAmDoAAJg6AADYWQAAMHUAAJg6AABIcQAAmDoAANhZAADYWQAAmDoAANhZAABIcQAA2FkAAKhhAAC4iAAAMHUAANhZAAAIUgAAmDoAAJg6AAB4aQAA2FkAAJg6AADYWQAAmDoAADhKAADYWQAAGHkAAAhSAACYOgAA2FkAAJg6AAA4SgAASHEAAAhSAAC4iAAA2FkAALiIAAAIUgAAMHUAANhZAADYWQAAYG0AAGBtAACoYQAAmDoAANhZAAAIUgAA2FkAAJg6AACYOgAAmDoAANhZAADYWQAAYG0AADB1AACYOgAA2FkAAJg6AACYOgAAmDoAABh5AACYOgAAmDoAAJg6AABIcQAAmDoAAGBtAADYWQAAmDoAAJg6AAAYeQAAmDoAANhZAADYWQAAqGEAAJg6AAAwdQAAMHUAAJg6AACoYQAASHEAANhZAACYOgAAmDoAANhZAADYWQAAmDoAANhZAABgbQAAMHUAAJg6AADYWQAAmDoAANhZAACYOgAASHEAAHCUAACYOgAAGHkAAHCUAABYmAAAcJQAAJg6AABwlAAA2FkAANhZAACoYQAA2FkAAEhxAACYOgAAmDoAAHCUAACYOgAAmDoAAJg6AACoYQAAmDoAAJg6AACYOgAAmDoAAKhhAACYOgAAmDoAAJg6AAA=",
          "dtype": "i4"
         },
         "yaxis": "y"
        },
        {
         "hovertemplate": "BloodPressureProblems=1<br>Age=%{x}<br>PremiumPrice=%{y}<extra></extra>",
         "legendgroup": "1",
         "marker": {
          "color": "green",
          "symbol": "circle"
         },
         "mode": "markers",
         "name": "1",
         "orientation": "v",
         "showlegend": true,
         "type": "scatter",
         "x": {
          "bdata": "JDQ8LhUjNTwhGjoYFEIZLBlAHj89KTwXLiQ3F0AaMRs3GUIkMRsuFCM/NjUiOxU3Iy87IDY/Jxw7JiVCMCEhOzs1Mjg5PjoiMB4fIyElHhkeJy0UKCAYGx8gNEJBPjI9MRk8Fjg/HSM+MTEvNC8ZFjY3HiguPiwwEiNCMjBCMEAtQCg0IxkZKCZBJDs0KiI9MDM9PysfNzItLzAZLz8zISopKisuMCMkPkAZPispPistNh0+NkAoIzo5HCFCIEEiN0AtJzshLBI9OxcVOiVBMEASOzxAOjgYGBoxOi8uKTFAOi0hOx5AIjM+LkAjEz8nKhIyIxU2Hy4mQRk+Pz0pEkI6O0A/EioWJCUgPUI8K0IiKx4pMR0fHxssNzMWMRotPTo5FSo7GCAzKSQzPzM/OxUeKj8mMkIbMTszQTZCMzEuMDsxHSsuLzs5NjI3Mzg8LTlBOEI1Ghk4GEEeNUAuGysXEhk7Hjs1KEEqKS0/ODwbLzohORYsGShBEj4kIDRBNBUyODwjPSU2QTUhQhw+EjMzNR8zJRYgLSsqPi83MyI5Jx4ZMx42P0IvPhgWKT02NiYwKBktPB40Pj8uG0I7ICNCKi0uHywVLSgoQDgv",
          "dtype": "i1"
         },
         "xaxis": "x",
         "y": {
          "bdata": "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",
          "dtype": "i4"
         },
         "yaxis": "y"
        }
       ],
       "layout": {
        "legend": {
         "title": {
          "text": "BloodPressureProblems"
         },
         "tracegroupgap": 0
        },
        "template": {
         "data": {
          "bar": [
           {
            "error_x": {
             "color": "#2a3f5f"
            },
            "error_y": {
             "color": "#2a3f5f"
            },
            "marker": {
             "line": {
              "color": "#E5ECF6",
              "width": 0.5
             },
             "pattern": {
              "fillmode": "overlay",
              "size": 10,
              "solidity": 0.2
             }
            },
            "type": "bar"
           }
          ],
          "barpolar": [
           {
            "marker": {
             "line": {
              "color": "#E5ECF6",
              "width": 0.5
             },
             "pattern": {
              "fillmode": "overlay",
              "size": 10,
              "solidity": 0.2
             }
            },
            "type": "barpolar"
           }
          ],
          "carpet": [
           {
            "aaxis": {
             "endlinecolor": "#2a3f5f",
             "gridcolor": "white",
             "linecolor": "white",
             "minorgridcolor": "white",
             "startlinecolor": "#2a3f5f"
            },
            "baxis": {
             "endlinecolor": "#2a3f5f",
             "gridcolor": "white",
             "linecolor": "white",
             "minorgridcolor": "white",
             "startlinecolor": "#2a3f5f"
            },
            "type": "carpet"
           }
          ],
          "choropleth": [
           {
            "colorbar": {
             "outlinewidth": 0,
             "ticks": ""
            },
            "type": "choropleth"
           }
          ],
          "contour": [
           {
            "colorbar": {
             "outlinewidth": 0,
             "ticks": ""
            },
            "colorscale": [
             [
              0,
              "#0d0887"
             ],
             [
              0.1111111111111111,
              "#46039f"
             ],
             [
              0.2222222222222222,
              "#7201a8"
             ],
             [
              0.3333333333333333,
              "#9c179e"
             ],
             [
              0.4444444444444444,
              "#bd3786"
             ],
             [
              0.5555555555555556,
              "#d8576b"
             ],
             [
              0.6666666666666666,
              "#ed7953"
             ],
             [
              0.7777777777777778,
              "#fb9f3a"
             ],
             [
              0.8888888888888888,
              "#fdca26"
             ],
             [
              1,
              "#f0f921"
             ]
            ],
            "type": "contour"
           }
          ],
          "contourcarpet": [
           {
            "colorbar": {
             "outlinewidth": 0,
             "ticks": ""
            },
            "type": "contourcarpet"
           }
          ],
          "heatmap": [
           {
            "colorbar": {
             "outlinewidth": 0,
             "ticks": ""
            },
            "colorscale": [
             [
              0,
              "#0d0887"
             ],
             [
              0.1111111111111111,
              "#46039f"
             ],
             [
              0.2222222222222222,
              "#7201a8"
             ],
             [
              0.3333333333333333,
              "#9c179e"
             ],
             [
              0.4444444444444444,
              "#bd3786"
             ],
             [
              0.5555555555555556,
              "#d8576b"
             ],
             [
              0.6666666666666666,
              "#ed7953"
             ],
             [
              0.7777777777777778,
              "#fb9f3a"
             ],
             [
              0.8888888888888888,
              "#fdca26"
             ],
             [
              1,
              "#f0f921"
             ]
            ],
            "type": "heatmap"
           }
          ],
          "histogram": [
           {
            "marker": {
             "pattern": {
              "fillmode": "overlay",
              "size": 10,
              "solidity": 0.2
             }
            },
            "type": "histogram"
           }
          ],
          "histogram2d": [
           {
            "colorbar": {
             "outlinewidth": 0,
             "ticks": ""
            },
            "colorscale": [
             [
              0,
              "#0d0887"
             ],
             [
              0.1111111111111111,
              "#46039f"
             ],
             [
              0.2222222222222222,
              "#7201a8"
             ],
             [
              0.3333333333333333,
              "#9c179e"
             ],
             [
              0.4444444444444444,
              "#bd3786"
             ],
             [
              0.5555555555555556,
              "#d8576b"
             ],
             [
              0.6666666666666666,
              "#ed7953"
             ],
             [
              0.7777777777777778,
              "#fb9f3a"
             ],
             [
              0.8888888888888888,
              "#fdca26"
             ],
             [
              1,
              "#f0f921"
             ]
            ],
            "type": "histogram2d"
           }
          ],
          "histogram2dcontour": [
           {
            "colorbar": {
             "outlinewidth": 0,
             "ticks": ""
            },
            "colorscale": [
             [
              0,
              "#0d0887"
             ],
             [
              0.1111111111111111,
              "#46039f"
             ],
             [
              0.2222222222222222,
              "#7201a8"
             ],
             [
              0.3333333333333333,
              "#9c179e"
             ],
             [
              0.4444444444444444,
              "#bd3786"
             ],
             [
              0.5555555555555556,
              "#d8576b"
             ],
             [
              0.6666666666666666,
              "#ed7953"
             ],
             [
              0.7777777777777778,
              "#fb9f3a"
             ],
             [
              0.8888888888888888,
              "#fdca26"
             ],
             [
              1,
              "#f0f921"
             ]
            ],
            "type": "histogram2dcontour"
           }
          ],
          "mesh3d": [
           {
            "colorbar": {
             "outlinewidth": 0,
             "ticks": ""
            },
            "type": "mesh3d"
           }
          ],
          "parcoords": [
           {
            "line": {
             "colorbar": {
              "outlinewidth": 0,
              "ticks": ""
             }
            },
            "type": "parcoords"
           }
          ],
          "pie": [
           {
            "automargin": true,
            "type": "pie"
           }
          ],
          "scatter": [
           {
            "fillpattern": {
             "fillmode": "overlay",
             "size": 10,
             "solidity": 0.2
            },
            "type": "scatter"
           }
          ],
          "scatter3d": [
           {
            "line": {
             "colorbar": {
              "outlinewidth": 0,
              "ticks": ""
             }
            },
            "marker": {
             "colorbar": {
              "outlinewidth": 0,
              "ticks": ""
             }
            },
            "type": "scatter3d"
           }
          ],
          "scattercarpet": [
           {
            "marker": {
             "colorbar": {
              "outlinewidth": 0,
              "ticks": ""
             }
            },
            "type": "scattercarpet"
           }
          ],
          "scattergeo": [
           {
            "marker": {
             "colorbar": {
              "outlinewidth": 0,
              "ticks": ""
             }
            },
            "type": "scattergeo"
           }
          ],
          "scattergl": [
           {
            "marker": {
             "colorbar": {
              "outlinewidth": 0,
              "ticks": ""
             }
            },
            "type": "scattergl"
           }
          ],
          "scattermap": [
           {
            "marker": {
             "colorbar": {
              "outlinewidth": 0,
              "ticks": ""
             }
            },
            "type": "scattermap"
           }
          ],
          "scattermapbox": [
           {
            "marker": {
             "colorbar": {
              "outlinewidth": 0,
              "ticks": ""
             }
            },
            "type": "scattermapbox"
           }
          ],
          "scatterpolar": [
           {
            "marker": {
             "colorbar": {
              "outlinewidth": 0,
              "ticks": ""
             }
            },
            "type": "scatterpolar"
           }
          ],
          "scatterpolargl": [
           {
            "marker": {
             "colorbar": {
              "outlinewidth": 0,
              "ticks": ""
             }
            },
            "type": "scatterpolargl"
           }
          ],
          "scatterternary": [
           {
            "marker": {
             "colorbar": {
              "outlinewidth": 0,
              "ticks": ""
             }
            },
            "type": "scatterternary"
           }
          ],
          "surface": [
           {
            "colorbar": {
             "outlinewidth": 0,
             "ticks": ""
            },
            "colorscale": [
             [
              0,
              "#0d0887"
             ],
             [
              0.1111111111111111,
              "#46039f"
             ],
             [
              0.2222222222222222,
              "#7201a8"
             ],
             [
              0.3333333333333333,
              "#9c179e"
             ],
             [
              0.4444444444444444,
              "#bd3786"
             ],
             [
              0.5555555555555556,
              "#d8576b"
             ],
             [
              0.6666666666666666,
              "#ed7953"
             ],
             [
              0.7777777777777778,
              "#fb9f3a"
             ],
             [
              0.8888888888888888,
              "#fdca26"
             ],
             [
              1,
              "#f0f921"
             ]
            ],
            "type": "surface"
           }
          ],
          "table": [
           {
            "cells": {
             "fill": {
              "color": "#EBF0F8"
             },
             "line": {
              "color": "white"
             }
            },
            "header": {
             "fill": {
              "color": "#C8D4E3"
             },
             "line": {
              "color": "white"
             }
            },
            "type": "table"
           }
          ]
         },
         "layout": {
          "annotationdefaults": {
           "arrowcolor": "#2a3f5f",
           "arrowhead": 0,
           "arrowwidth": 1
          },
          "autotypenumbers": "strict",
          "coloraxis": {
           "colorbar": {
            "outlinewidth": 0,
            "ticks": ""
           }
          },
          "colorscale": {
           "diverging": [
            [
             0,
             "#8e0152"
            ],
            [
             0.1,
             "#c51b7d"
            ],
            [
             0.2,
             "#de77ae"
            ],
            [
             0.3,
             "#f1b6da"
            ],
            [
             0.4,
             "#fde0ef"
            ],
            [
             0.5,
             "#f7f7f7"
            ],
            [
             0.6,
             "#e6f5d0"
            ],
            [
             0.7,
             "#b8e186"
            ],
            [
             0.8,
             "#7fbc41"
            ],
            [
             0.9,
             "#4d9221"
            ],
            [
             1,
             "#276419"
            ]
           ],
           "sequential": [
            [
             0,
             "#0d0887"
            ],
            [
             0.1111111111111111,
             "#46039f"
            ],
            [
             0.2222222222222222,
             "#7201a8"
            ],
            [
             0.3333333333333333,
             "#9c179e"
            ],
            [
             0.4444444444444444,
             "#bd3786"
            ],
            [
             0.5555555555555556,
             "#d8576b"
            ],
            [
             0.6666666666666666,
             "#ed7953"
            ],
            [
             0.7777777777777778,
             "#fb9f3a"
            ],
            [
             0.8888888888888888,
             "#fdca26"
            ],
            [
             1,
             "#f0f921"
            ]
           ],
           "sequentialminus": [
            [
             0,
             "#0d0887"
            ],
            [
             0.1111111111111111,
             "#46039f"
            ],
            [
             0.2222222222222222,
             "#7201a8"
            ],
            [
             0.3333333333333333,
             "#9c179e"
            ],
            [
             0.4444444444444444,
             "#bd3786"
            ],
            [
             0.5555555555555556,
             "#d8576b"
            ],
            [
             0.6666666666666666,
             "#ed7953"
            ],
            [
             0.7777777777777778,
             "#fb9f3a"
            ],
            [
             0.8888888888888888,
             "#fdca26"
            ],
            [
             1,
             "#f0f921"
            ]
           ]
          },
          "colorway": [
           "#636efa",
           "#EF553B",
           "#00cc96",
           "#ab63fa",
           "#FFA15A",
           "#19d3f3",
           "#FF6692",
           "#B6E880",
           "#FF97FF",
           "#FECB52"
          ],
          "font": {
           "color": "#2a3f5f"
          },
          "geo": {
           "bgcolor": "white",
           "lakecolor": "white",
           "landcolor": "#E5ECF6",
           "showlakes": true,
           "showland": true,
           "subunitcolor": "white"
          },
          "hoverlabel": {
           "align": "left"
          },
          "hovermode": "closest",
          "mapbox": {
           "style": "light"
          },
          "paper_bgcolor": "white",
          "plot_bgcolor": "#E5ECF6",
          "polar": {
           "angularaxis": {
            "gridcolor": "white",
            "linecolor": "white",
            "ticks": ""
           },
           "bgcolor": "#E5ECF6",
           "radialaxis": {
            "gridcolor": "white",
            "linecolor": "white",
            "ticks": ""
           }
          },
          "scene": {
           "xaxis": {
            "backgroundcolor": "#E5ECF6",
            "gridcolor": "white",
            "gridwidth": 2,
            "linecolor": "white",
            "showbackground": true,
            "ticks": "",
            "zerolinecolor": "white"
           },
           "yaxis": {
            "backgroundcolor": "#E5ECF6",
            "gridcolor": "white",
            "gridwidth": 2,
            "linecolor": "white",
            "showbackground": true,
            "ticks": "",
            "zerolinecolor": "white"
           },
           "zaxis": {
            "backgroundcolor": "#E5ECF6",
            "gridcolor": "white",
            "gridwidth": 2,
            "linecolor": "white",
            "showbackground": true,
            "ticks": "",
            "zerolinecolor": "white"
           }
          },
          "shapedefaults": {
           "line": {
            "color": "#2a3f5f"
           }
          },
          "ternary": {
           "aaxis": {
            "gridcolor": "white",
            "linecolor": "white",
            "ticks": ""
           },
           "baxis": {
            "gridcolor": "white",
            "linecolor": "white",
            "ticks": ""
           },
           "bgcolor": "#E5ECF6",
           "caxis": {
            "gridcolor": "white",
            "linecolor": "white",
            "ticks": ""
           }
          },
          "title": {
           "x": 0.05
          },
          "xaxis": {
           "automargin": true,
           "gridcolor": "white",
           "linecolor": "white",
           "ticks": "",
           "title": {
            "standoff": 15
           },
           "zerolinecolor": "white",
           "zerolinewidth": 2
          },
          "yaxis": {
           "automargin": true,
           "gridcolor": "white",
           "linecolor": "white",
           "ticks": "",
           "title": {
            "standoff": 15
           },
           "zerolinecolor": "white",
           "zerolinewidth": 2
          }
         }
        },
        "title": {
         "text": "Premium Price by Age and BloodPressureProblems",
         "x": 0.5
        },
        "xaxis": {
         "anchor": "y",
         "domain": [
          0,
          1
         ],
         "title": {
          "text": "Age"
         }
        },
        "yaxis": {
         "anchor": "x",
         "domain": [
          0,
          1
         ],
         "title": {
          "text": "PremiumPrice"
         }
        }
       }
      }
     },
     "metadata": {},
     "output_type": "display_data"
    },
    {
     "data": {
      "application/vnd.plotly.v1+json": {
       "config": {
        "plotlyServerURL": "https://plot.ly"
       },
       "data": [
        {
         "hovertemplate": "AnyTransplants=0<br>Age=%{x}<br>PremiumPrice=%{y}<extra></extra>",
         "legendgroup": "0",
         "marker": {
          "color": "red",
          "symbol": "circle"
         },
         "mode": "markers",
         "name": "0",
         "orientation": "v",
         "showlegend": true,
         "type": "scatter",
         "x": {
          "bdata": "LTwkNCYeIRcwJjxCGC4mKiY5FTEUIyM1HzweIRYaHBpAMiw6KxRCGTQaLBk2QBQePz0rOik8MRcuJDcXH0AaMRMoIBs3PzVCFyQxLD8bLi4fFCMhLj80NjUVIh80Khg7FRchPB8cQDcjHSMvGTc7QiA2PyYXISsnOxMcOyYXIhslQjMoNiEhOzQjNTI4LzkqFT4+FCsuOhMiNR0gEhwsMB4fGDcqIyFCJiUeJB4uEyojHjAyISsTJy0wFCggHhgbPB8SIDEpHTwuNBZCQSMyPTEZJTk8LBY4PyQ1HSASIyI+NjEVFDEvNx00LxMZQSA1PCUUFjkhMBk2JBgYNx4oMS4+LCRAMBQcLjQSI0BCMjBCNDAxHSstQCggNCMaGRkoGis4JkFAFxkkKCA0NSocISIYPR0wJjM9Hjk/Kx83EzItLy8rMBkiLxYiPzMwISoTKkEvKS0xKiIlKy42MDQjPkAZPh0lKz02KT4rEyYtNh0+Ni1AKCM6OSBCKyBBIjdALCMmLSc7JD0hLB8SLSIlHSQWFD0xGzsXFTolGCwyJR0lMEAWJxMSOzwbMhQnQCATExY9HTgYQTAqLBoxIzovOS4pEjEgLRs4KkA6ODotLR4hOxseQCIzIz4uLRoyQCQ2MTNAFSMTPycrLz0qFBIyNCMVJTYqHxwcMS4mLkEZGT42O0A/PS8pOxIcQjo7QD8lEh0qFiQlIDMnPRs3Qjo8NhNCMyIrHikSMTIrGysdHyofKR8vGyw6GzczFhwsMS4aPhstPD0aOhsyOTsrFSo7GC0qLRwkGCkpMCkzGyMoKRUsJC0sMxQ/MxY/Hig7FR4rKj8nP0IsHCY1KxVCGzEoHzsrMxY9QkE2IkIYMywxLi81IxQwQisbFjg7PDEdKy4yHS8hKSY7OT42Mjc0MyUSOCYwPC0XOSdBMjgbMkI1GhkTOCETGCUqFD8VQR4gNUAsLhsrFxMrEhk7Ox47NSgpMS9BKiopLSIgGD84PBsbLyQ6FCAhEh0iOSwhFiQdGz4hMBkjPiEvMCpBMihBEj4kIDQbQR80GigZFRUdMiw4MDI8EikjGBYUMBI9JTYdFTdBHD0sNSEcPhkSJxwqIzMwMxc1HywzJRYuFjQgLSs6Kj4tLxsSNyYlMxMiOSInHj4ZEzMeKBU/QisvHTUVPikYExYpPTY2JhMwKygjGTUrNy0dPB40Pj8VLhsSQhc7IDEbI0IqEi0uGh8cLywVLRgSQDgvFQ==",
          "dtype": "i1"
         },
         "xaxis": "x",
         "y": {
          "bdata": "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",
          "dtype": "i4"
         },
         "yaxis": "y"
        },
        {
         "hovertemplate": "AnyTransplants=1<br>Age=%{x}<br>PremiumPrice=%{y}<extra></extra>",
         "legendgroup": "1",
         "marker": {
          "color": "green",
          "symbol": "circle"
         },
         "mode": "markers",
         "name": "1",
         "orientation": "v",
         "showlegend": true,
         "type": "scatter",
         "x": {
          "bdata": "EhYYGR4uLR8wOyovGT5AKDs3JBwhGEE6Ohg0MysgIjIkOzggGxgeGCxBOBlCNzYhHyofGSwoKA==",
          "dtype": "i1"
         },
         "xaxis": "x",
         "y": {
          "bdata": "mDoAAJg6AACYOgAAcJQAAHCUAABwlAAAcJQAAHCUAABwlAAAcJQAAHCUAABwlAAAmDoAAHCUAABwlAAAcJQAAHCUAABwlAAAcJQAAAhSAABwlAAAmDoAALiIAABgbQAAcJQAAJg6AABwlAAAcJQAAHCUAABwlAAAcJQAADB1AABwlAAAcJQAAHCUAABwlAAAcJQAAJg6AAB4aQAAmDoAAHCUAABgbQAAYG0AAJg6AAC4iAAAYG0AAGBtAABwlAAAcJQAAHCUAABwlAAAmDoAAHCUAABoQgAAcJQAAA==",
          "dtype": "i4"
         },
         "yaxis": "y"
        }
       ],
       "layout": {
        "legend": {
         "title": {
          "text": "AnyTransplants"
         },
         "tracegroupgap": 0
        },
        "template": {
         "data": {
          "bar": [
           {
            "error_x": {
             "color": "#2a3f5f"
            },
            "error_y": {
             "color": "#2a3f5f"
            },
            "marker": {
             "line": {
              "color": "#E5ECF6",
              "width": 0.5
             },
             "pattern": {
              "fillmode": "overlay",
              "size": 10,
              "solidity": 0.2
             }
            },
            "type": "bar"
           }
          ],
          "barpolar": [
           {
            "marker": {
             "line": {
              "color": "#E5ECF6",
              "width": 0.5
             },
             "pattern": {
              "fillmode": "overlay",
              "size": 10,
              "solidity": 0.2
             }
            },
            "type": "barpolar"
           }
          ],
          "carpet": [
           {
            "aaxis": {
             "endlinecolor": "#2a3f5f",
             "gridcolor": "white",
             "linecolor": "white",
             "minorgridcolor": "white",
             "startlinecolor": "#2a3f5f"
            },
            "baxis": {
             "endlinecolor": "#2a3f5f",
             "gridcolor": "white",
             "linecolor": "white",
             "minorgridcolor": "white",
             "startlinecolor": "#2a3f5f"
            },
            "type": "carpet"
           }
          ],
          "choropleth": [
           {
            "colorbar": {
             "outlinewidth": 0,
             "ticks": ""
            },
            "type": "choropleth"
           }
          ],
          "contour": [
           {
            "colorbar": {
             "outlinewidth": 0,
             "ticks": ""
            },
            "colorscale": [
             [
              0,
              "#0d0887"
             ],
             [
              0.1111111111111111,
              "#46039f"
             ],
             [
              0.2222222222222222,
              "#7201a8"
             ],
             [
              0.3333333333333333,
              "#9c179e"
             ],
             [
              0.4444444444444444,
              "#bd3786"
             ],
             [
              0.5555555555555556,
              "#d8576b"
             ],
             [
              0.6666666666666666,
              "#ed7953"
             ],
             [
              0.7777777777777778,
              "#fb9f3a"
             ],
             [
              0.8888888888888888,
              "#fdca26"
             ],
             [
              1,
              "#f0f921"
             ]
            ],
            "type": "contour"
           }
          ],
          "contourcarpet": [
           {
            "colorbar": {
             "outlinewidth": 0,
             "ticks": ""
            },
            "type": "contourcarpet"
           }
          ],
          "heatmap": [
           {
            "colorbar": {
             "outlinewidth": 0,
             "ticks": ""
            },
            "colorscale": [
             [
              0,
              "#0d0887"
             ],
             [
              0.1111111111111111,
              "#46039f"
             ],
             [
              0.2222222222222222,
              "#7201a8"
             ],
             [
              0.3333333333333333,
              "#9c179e"
             ],
             [
              0.4444444444444444,
              "#bd3786"
             ],
             [
              0.5555555555555556,
              "#d8576b"
             ],
             [
              0.6666666666666666,
              "#ed7953"
             ],
             [
              0.7777777777777778,
              "#fb9f3a"
             ],
             [
              0.8888888888888888,
              "#fdca26"
             ],
             [
              1,
              "#f0f921"
             ]
            ],
            "type": "heatmap"
           }
          ],
          "histogram": [
           {
            "marker": {
             "pattern": {
              "fillmode": "overlay",
              "size": 10,
              "solidity": 0.2
             }
            },
            "type": "histogram"
           }
          ],
          "histogram2d": [
           {
            "colorbar": {
             "outlinewidth": 0,
             "ticks": ""
            },
            "colorscale": [
             [
              0,
              "#0d0887"
             ],
             [
              0.1111111111111111,
              "#46039f"
             ],
             [
              0.2222222222222222,
              "#7201a8"
             ],
             [
              0.3333333333333333,
              "#9c179e"
             ],
             [
              0.4444444444444444,
              "#bd3786"
             ],
             [
              0.5555555555555556,
              "#d8576b"
             ],
             [
              0.6666666666666666,
              "#ed7953"
             ],
             [
              0.7777777777777778,
              "#fb9f3a"
             ],
             [
              0.8888888888888888,
              "#fdca26"
             ],
             [
              1,
              "#f0f921"
             ]
            ],
            "type": "histogram2d"
           }
          ],
          "histogram2dcontour": [
           {
            "colorbar": {
             "outlinewidth": 0,
             "ticks": ""
            },
            "colorscale": [
             [
              0,
              "#0d0887"
             ],
             [
              0.1111111111111111,
              "#46039f"
             ],
             [
              0.2222222222222222,
              "#7201a8"
             ],
             [
              0.3333333333333333,
              "#9c179e"
             ],
             [
              0.4444444444444444,
              "#bd3786"
             ],
             [
              0.5555555555555556,
              "#d8576b"
             ],
             [
              0.6666666666666666,
              "#ed7953"
             ],
             [
              0.7777777777777778,
              "#fb9f3a"
             ],
             [
              0.8888888888888888,
              "#fdca26"
             ],
             [
              1,
              "#f0f921"
             ]
            ],
            "type": "histogram2dcontour"
           }
          ],
          "mesh3d": [
           {
            "colorbar": {
             "outlinewidth": 0,
             "ticks": ""
            },
            "type": "mesh3d"
           }
          ],
          "parcoords": [
           {
            "line": {
             "colorbar": {
              "outlinewidth": 0,
              "ticks": ""
             }
            },
            "type": "parcoords"
           }
          ],
          "pie": [
           {
            "automargin": true,
            "type": "pie"
           }
          ],
          "scatter": [
           {
            "fillpattern": {
             "fillmode": "overlay",
             "size": 10,
             "solidity": 0.2
            },
            "type": "scatter"
           }
          ],
          "scatter3d": [
           {
            "line": {
             "colorbar": {
              "outlinewidth": 0,
              "ticks": ""
             }
            },
            "marker": {
             "colorbar": {
              "outlinewidth": 0,
              "ticks": ""
             }
            },
            "type": "scatter3d"
           }
          ],
          "scattercarpet": [
           {
            "marker": {
             "colorbar": {
              "outlinewidth": 0,
              "ticks": ""
             }
            },
            "type": "scattercarpet"
           }
          ],
          "scattergeo": [
           {
            "marker": {
             "colorbar": {
              "outlinewidth": 0,
              "ticks": ""
             }
            },
            "type": "scattergeo"
           }
          ],
          "scattergl": [
           {
            "marker": {
             "colorbar": {
              "outlinewidth": 0,
              "ticks": ""
             }
            },
            "type": "scattergl"
           }
          ],
          "scattermap": [
           {
            "marker": {
             "colorbar": {
              "outlinewidth": 0,
              "ticks": ""
             }
            },
            "type": "scattermap"
           }
          ],
          "scattermapbox": [
           {
            "marker": {
             "colorbar": {
              "outlinewidth": 0,
              "ticks": ""
             }
            },
            "type": "scattermapbox"
           }
          ],
          "scatterpolar": [
           {
            "marker": {
             "colorbar": {
              "outlinewidth": 0,
              "ticks": ""
             }
            },
            "type": "scatterpolar"
           }
          ],
          "scatterpolargl": [
           {
            "marker": {
             "colorbar": {
              "outlinewidth": 0,
              "ticks": ""
             }
            },
            "type": "scatterpolargl"
           }
          ],
          "scatterternary": [
           {
            "marker": {
             "colorbar": {
              "outlinewidth": 0,
              "ticks": ""
             }
            },
            "type": "scatterternary"
           }
          ],
          "surface": [
           {
            "colorbar": {
             "outlinewidth": 0,
             "ticks": ""
            },
            "colorscale": [
             [
              0,
              "#0d0887"
             ],
             [
              0.1111111111111111,
              "#46039f"
             ],
             [
              0.2222222222222222,
              "#7201a8"
             ],
             [
              0.3333333333333333,
              "#9c179e"
             ],
             [
              0.4444444444444444,
              "#bd3786"
             ],
             [
              0.5555555555555556,
              "#d8576b"
             ],
             [
              0.6666666666666666,
              "#ed7953"
             ],
             [
              0.7777777777777778,
              "#fb9f3a"
             ],
             [
              0.8888888888888888,
              "#fdca26"
             ],
             [
              1,
              "#f0f921"
             ]
            ],
            "type": "surface"
           }
          ],
          "table": [
           {
            "cells": {
             "fill": {
              "color": "#EBF0F8"
             },
             "line": {
              "color": "white"
             }
            },
            "header": {
             "fill": {
              "color": "#C8D4E3"
             },
             "line": {
              "color": "white"
             }
            },
            "type": "table"
           }
          ]
         },
         "layout": {
          "annotationdefaults": {
           "arrowcolor": "#2a3f5f",
           "arrowhead": 0,
           "arrowwidth": 1
          },
          "autotypenumbers": "strict",
          "coloraxis": {
           "colorbar": {
            "outlinewidth": 0,
            "ticks": ""
           }
          },
          "colorscale": {
           "diverging": [
            [
             0,
             "#8e0152"
            ],
            [
             0.1,
             "#c51b7d"
            ],
            [
             0.2,
             "#de77ae"
            ],
            [
             0.3,
             "#f1b6da"
            ],
            [
             0.4,
             "#fde0ef"
            ],
            [
             0.5,
             "#f7f7f7"
            ],
            [
             0.6,
             "#e6f5d0"
            ],
            [
             0.7,
             "#b8e186"
            ],
            [
             0.8,
             "#7fbc41"
            ],
            [
             0.9,
             "#4d9221"
            ],
            [
             1,
             "#276419"
            ]
           ],
           "sequential": [
            [
             0,
             "#0d0887"
            ],
            [
             0.1111111111111111,
             "#46039f"
            ],
            [
             0.2222222222222222,
             "#7201a8"
            ],
            [
             0.3333333333333333,
             "#9c179e"
            ],
            [
             0.4444444444444444,
             "#bd3786"
            ],
            [
             0.5555555555555556,
             "#d8576b"
            ],
            [
             0.6666666666666666,
             "#ed7953"
            ],
            [
             0.7777777777777778,
             "#fb9f3a"
            ],
            [
             0.8888888888888888,
             "#fdca26"
            ],
            [
             1,
             "#f0f921"
            ]
           ],
           "sequentialminus": [
            [
             0,
             "#0d0887"
            ],
            [
             0.1111111111111111,
             "#46039f"
            ],
            [
             0.2222222222222222,
             "#7201a8"
            ],
            [
             0.3333333333333333,
             "#9c179e"
            ],
            [
             0.4444444444444444,
             "#bd3786"
            ],
            [
             0.5555555555555556,
             "#d8576b"
            ],
            [
             0.6666666666666666,
             "#ed7953"
            ],
            [
             0.7777777777777778,
             "#fb9f3a"
            ],
            [
             0.8888888888888888,
             "#fdca26"
            ],
            [
             1,
             "#f0f921"
            ]
           ]
          },
          "colorway": [
           "#636efa",
           "#EF553B",
           "#00cc96",
           "#ab63fa",
           "#FFA15A",
           "#19d3f3",
           "#FF6692",
           "#B6E880",
           "#FF97FF",
           "#FECB52"
          ],
          "font": {
           "color": "#2a3f5f"
          },
          "geo": {
           "bgcolor": "white",
           "lakecolor": "white",
           "landcolor": "#E5ECF6",
           "showlakes": true,
           "showland": true,
           "subunitcolor": "white"
          },
          "hoverlabel": {
           "align": "left"
          },
          "hovermode": "closest",
          "mapbox": {
           "style": "light"
          },
          "paper_bgcolor": "white",
          "plot_bgcolor": "#E5ECF6",
          "polar": {
           "angularaxis": {
            "gridcolor": "white",
            "linecolor": "white",
            "ticks": ""
           },
           "bgcolor": "#E5ECF6",
           "radialaxis": {
            "gridcolor": "white",
            "linecolor": "white",
            "ticks": ""
           }
          },
          "scene": {
           "xaxis": {
            "backgroundcolor": "#E5ECF6",
            "gridcolor": "white",
            "gridwidth": 2,
            "linecolor": "white",
            "showbackground": true,
            "ticks": "",
            "zerolinecolor": "white"
           },
           "yaxis": {
            "backgroundcolor": "#E5ECF6",
            "gridcolor": "white",
            "gridwidth": 2,
            "linecolor": "white",
            "showbackground": true,
            "ticks": "",
            "zerolinecolor": "white"
           },
           "zaxis": {
            "backgroundcolor": "#E5ECF6",
            "gridcolor": "white",
            "gridwidth": 2,
            "linecolor": "white",
            "showbackground": true,
            "ticks": "",
            "zerolinecolor": "white"
           }
          },
          "shapedefaults": {
           "line": {
            "color": "#2a3f5f"
           }
          },
          "ternary": {
           "aaxis": {
            "gridcolor": "white",
            "linecolor": "white",
            "ticks": ""
           },
           "baxis": {
            "gridcolor": "white",
            "linecolor": "white",
            "ticks": ""
           },
           "bgcolor": "#E5ECF6",
           "caxis": {
            "gridcolor": "white",
            "linecolor": "white",
            "ticks": ""
           }
          },
          "title": {
           "x": 0.05
          },
          "xaxis": {
           "automargin": true,
           "gridcolor": "white",
           "linecolor": "white",
           "ticks": "",
           "title": {
            "standoff": 15
           },
           "zerolinecolor": "white",
           "zerolinewidth": 2
          },
          "yaxis": {
           "automargin": true,
           "gridcolor": "white",
           "linecolor": "white",
           "ticks": "",
           "title": {
            "standoff": 15
           },
           "zerolinecolor": "white",
           "zerolinewidth": 2
          }
         }
        },
        "title": {
         "text": "Premium Price by Age and AnyTransplants",
         "x": 0.5
        },
        "xaxis": {
         "anchor": "y",
         "domain": [
          0,
          1
         ],
         "title": {
          "text": "Age"
         }
        },
        "yaxis": {
         "anchor": "x",
         "domain": [
          0,
          1
         ],
         "title": {
          "text": "PremiumPrice"
         }
        }
       }
      }
     },
     "metadata": {},
     "output_type": "display_data"
    },
    {
     "data": {
      "application/vnd.plotly.v1+json": {
       "config": {
        "plotlyServerURL": "https://plot.ly"
       },
       "data": [
        {
         "hovertemplate": "AnyChronicDiseases=0<br>Age=%{x}<br>PremiumPrice=%{y}<extra></extra>",
         "legendgroup": "0",
         "marker": {
          "color": "red",
          "symbol": "circle"
         },
         "mode": "markers",
         "name": "0",
         "orientation": "v",
         "showlegend": true,
         "type": "scatter",
         "x": {
          "bdata": "LTwkHiEXMCY8QhguEiYmORUxFCMjNR8WPBYcGkAyLBgUQhk0GiwZQBQePyspPDEXLiQ3F0AaMRMoIBs/NUIXJDEsPxsuLi4UIy4/NDUVIjQqGC07FRchPB9ANyMdIy83O0IgPyYXIR8nOxMcJhciGyVCMyg2ISE7NCM7MjgvOSoVPhQrLjoTIjUdIBIcLCoeHy8YNyojIUIkHhMZKiMeMDIhKxMnLTAUKB4YGzwfEiAxPC40FkJBPjEZJTk8LBY/JDUgEiMiMRUUMS83HTQTGSA1PBQWOSEwGTYkGBg3MT4kQDAULjQSI0BCMEI0MEAxHSstKCggNCMaGRkoGis4QUAXGSg7NDU3KiEiGD0dMDM9Hjk/HzcTLyswGSIWIj8wKhMqQS8xKiUuNjA0Iz5AGT4dJSs9Nik+EzY+Ni1AKCM6OUIrIEE3QCMmLSc7JD0hLB8SLSIlHSQWFD0xGzsXFTolGDIlHRhBMEAWJxMSOzwbMhRAOiATExY9Oh04GEEYKiwaIzovLikSMSAbOCo6Oi0eITsbHkAiMyM+Li0yQDQkNjEzQBUjEz8nKy89KhQSMjQjFSUqMx8cHDEuJi5BGT42O0A/PS8pOxJCOjtAPxIdKhYkICc9Gzc6PDYTMyIrHikSMisdHx8vGzobNzMWHCwxLj4bLTw9GjobMjk7FSo7GCAtKiItJBgpGyMoFSwkLSwzFD8zFj8eKBUrKj8nP0IsHCY1KxUyQhsxKDsrMxY9QTYiQhgzLDEuNSMUMEIbFjg7HSsyHS84ISkmOz42MjczJRI4Ji0XOSdBMjgbMkIZEzgTGBglFD8VQR5ALBsrFxMrEjs7OykxL0EqKS0iIBg4PBsbHi8kOhQhEjksIRgWJCwdPhk+ITAqQUEyKEESPiQgG0EfNCgZFRUdMiwwOBIpIxgWFDASJR0VNxw9LBkhQhw+GRInHCojMzAzFx8zFhY0IC0rOio+LS8bEjcmMxMiNx4ZEzMeKBU/QisvHTUhFT4pGB8TFikqNjYTKyM1KzctHTweNBksPj8VLhsSQhc7IDEbIyoSLS4aHxwvLBUoGCgSQDgvFQ==",
          "dtype": "i1"
         },
         "xaxis": "x",
         "y": {
          "bdata": "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",
          "dtype": "i4"
         },
         "yaxis": "y"
        },
        {
         "hovertemplate": "AnyChronicDiseases=1<br>Age=%{x}<br>PremiumPrice=%{y}<extra></extra>",
         "legendgroup": "1",
         "marker": {
          "color": "green",
          "symbol": "circle"
         },
         "mode": "markers",
         "name": "1",
         "orientation": "v",
         "showlegend": true,
         "type": "scatter",
         "x": {
          "bdata": "NCYqHiEaOis2PTofNxkeHyE2HxwZNis7MDU+MCYlHi4gKR0jMj04HT42L0ElHiguLBwyQCYkIBwmKzItLy8zISktIiskKyYtHRwhICIsLCUnMDE5LUA4LRo2GRwlJTNCK0IxGysqHyksGiscKTApMyk7HiQfQjsvKzwxLjkgNDA8NRobISogNS4ZHjUoKj8gHSIbITAjLzQaODI8PTZBNTUsJS4lIjknPjY9JjAfKBlCLQ==",
          "dtype": "i1"
         },
         "xaxis": "x",
         "y": {
          "bdata": "YG0AANhZAAAwdQAA2FkAAAhSAAA4SgAAqGEAADB1AAC4iAAAYG0AAKhhAADYWQAAMHUAAHCUAABwlAAAqGEAAAhSAABgbQAA2FkAADhKAAA4SgAAYG0AADB1AABgbQAAcJQAAGBtAAC4iAAAMHUAANhZAADYWQAA2FkAADB1AADYWQAAMHUAADhKAACQZQAAYG0AALiIAABgbQAACFIAAGBtAAAwdQAAqGEAAKhhAADYWQAA2FkAADB1AACoYQAAMHUAAAhSAABgbQAAQJwAANhZAADYWQAA2FkAADhKAADYWQAAUEYAAGBtAACoYQAAMHUAADB1AABgbQAACFIAADB1AAAwdQAA2FkAADB1AABwlAAAMHUAANhZAACoYQAAOEoAAAhSAABwlAAACFIAAKhhAAAwdQAAMHUAANhZAAAYeQAAMHUAADB1AACoYQAAqGEAAKhhAACoYQAAqGEAADhKAABgbQAAOEoAADhKAACQZQAA2FkAADB1AAC4iAAAcJQAAGBtAABgbQAAqGEAADB1AAAwdQAA2FkAADB1AAAwdQAAOEoAADB1AAA4SgAAMHUAAKhhAAAwdQAAYG0AADB1AACoYQAA2FkAAHCUAADYWQAAuIgAAHCUAAAwdQAAMHUAADB1AABgbQAAMHUAALiIAABwlAAAqGEAAKhhAABgbQAAYG0AADhKAABwlAAA2FkAADB1AADYWQAAYG0AAKhhAAAwdQAACFIAADB1AAAwdQAAMHUAADB1AADYWQAAOEoAANhZAAA4SgAACFIAALiIAADYWQAAMHUAAGBtAAAIUgAAYG0AADB1AABgbQAAqGEAAGBtAAC4iAAAMHUAAGBtAAAwdQAA2FkAADB1AADYWQAA2FkAAGBtAADYWQAAMHUAAGBtAACoYQAAGHkAAKhhAABwlAAAMHUAADhKAAC4iAAAqGEAAA==",
          "dtype": "i4"
         },
         "yaxis": "y"
        }
       ],
       "layout": {
        "legend": {
         "title": {
          "text": "AnyChronicDiseases"
         },
         "tracegroupgap": 0
        },
        "template": {
         "data": {
          "bar": [
           {
            "error_x": {
             "color": "#2a3f5f"
            },
            "error_y": {
             "color": "#2a3f5f"
            },
            "marker": {
             "line": {
              "color": "#E5ECF6",
              "width": 0.5
             },
             "pattern": {
              "fillmode": "overlay",
              "size": 10,
              "solidity": 0.2
             }
            },
            "type": "bar"
           }
          ],
          "barpolar": [
           {
            "marker": {
             "line": {
              "color": "#E5ECF6",
              "width": 0.5
             },
             "pattern": {
              "fillmode": "overlay",
              "size": 10,
              "solidity": 0.2
             }
            },
            "type": "barpolar"
           }
          ],
          "carpet": [
           {
            "aaxis": {
             "endlinecolor": "#2a3f5f",
             "gridcolor": "white",
             "linecolor": "white",
             "minorgridcolor": "white",
             "startlinecolor": "#2a3f5f"
            },
            "baxis": {
             "endlinecolor": "#2a3f5f",
             "gridcolor": "white",
             "linecolor": "white",
             "minorgridcolor": "white",
             "startlinecolor": "#2a3f5f"
            },
            "type": "carpet"
           }
          ],
          "choropleth": [
           {
            "colorbar": {
             "outlinewidth": 0,
             "ticks": ""
            },
            "type": "choropleth"
           }
          ],
          "contour": [
           {
            "colorbar": {
             "outlinewidth": 0,
             "ticks": ""
            },
            "colorscale": [
             [
              0,
              "#0d0887"
             ],
             [
              0.1111111111111111,
              "#46039f"
             ],
             [
              0.2222222222222222,
              "#7201a8"
             ],
             [
              0.3333333333333333,
              "#9c179e"
             ],
             [
              0.4444444444444444,
              "#bd3786"
             ],
             [
              0.5555555555555556,
              "#d8576b"
             ],
             [
              0.6666666666666666,
              "#ed7953"
             ],
             [
              0.7777777777777778,
              "#fb9f3a"
             ],
             [
              0.8888888888888888,
              "#fdca26"
             ],
             [
              1,
              "#f0f921"
             ]
            ],
            "type": "contour"
           }
          ],
          "contourcarpet": [
           {
            "colorbar": {
             "outlinewidth": 0,
             "ticks": ""
            },
            "type": "contourcarpet"
           }
          ],
          "heatmap": [
           {
            "colorbar": {
             "outlinewidth": 0,
             "ticks": ""
            },
            "colorscale": [
             [
              0,
              "#0d0887"
             ],
             [
              0.1111111111111111,
              "#46039f"
             ],
             [
              0.2222222222222222,
              "#7201a8"
             ],
             [
              0.3333333333333333,
              "#9c179e"
             ],
             [
              0.4444444444444444,
              "#bd3786"
             ],
             [
              0.5555555555555556,
              "#d8576b"
             ],
             [
              0.6666666666666666,
              "#ed7953"
             ],
             [
              0.7777777777777778,
              "#fb9f3a"
             ],
             [
              0.8888888888888888,
              "#fdca26"
             ],
             [
              1,
              "#f0f921"
             ]
            ],
            "type": "heatmap"
           }
          ],
          "histogram": [
           {
            "marker": {
             "pattern": {
              "fillmode": "overlay",
              "size": 10,
              "solidity": 0.2
             }
            },
            "type": "histogram"
           }
          ],
          "histogram2d": [
           {
            "colorbar": {
             "outlinewidth": 0,
             "ticks": ""
            },
            "colorscale": [
             [
              0,
              "#0d0887"
             ],
             [
              0.1111111111111111,
              "#46039f"
             ],
             [
              0.2222222222222222,
              "#7201a8"
             ],
             [
              0.3333333333333333,
              "#9c179e"
             ],
             [
              0.4444444444444444,
              "#bd3786"
             ],
             [
              0.5555555555555556,
              "#d8576b"
             ],
             [
              0.6666666666666666,
              "#ed7953"
             ],
             [
              0.7777777777777778,
              "#fb9f3a"
             ],
             [
              0.8888888888888888,
              "#fdca26"
             ],
             [
              1,
              "#f0f921"
             ]
            ],
            "type": "histogram2d"
           }
          ],
          "histogram2dcontour": [
           {
            "colorbar": {
             "outlinewidth": 0,
             "ticks": ""
            },
            "colorscale": [
             [
              0,
              "#0d0887"
             ],
             [
              0.1111111111111111,
              "#46039f"
             ],
             [
              0.2222222222222222,
              "#7201a8"
             ],
             [
              0.3333333333333333,
              "#9c179e"
             ],
             [
              0.4444444444444444,
              "#bd3786"
             ],
             [
              0.5555555555555556,
              "#d8576b"
             ],
             [
              0.6666666666666666,
              "#ed7953"
             ],
             [
              0.7777777777777778,
              "#fb9f3a"
             ],
             [
              0.8888888888888888,
              "#fdca26"
             ],
             [
              1,
              "#f0f921"
             ]
            ],
            "type": "histogram2dcontour"
           }
          ],
          "mesh3d": [
           {
            "colorbar": {
             "outlinewidth": 0,
             "ticks": ""
            },
            "type": "mesh3d"
           }
          ],
          "parcoords": [
           {
            "line": {
             "colorbar": {
              "outlinewidth": 0,
              "ticks": ""
             }
            },
            "type": "parcoords"
           }
          ],
          "pie": [
           {
            "automargin": true,
            "type": "pie"
           }
          ],
          "scatter": [
           {
            "fillpattern": {
             "fillmode": "overlay",
             "size": 10,
             "solidity": 0.2
            },
            "type": "scatter"
           }
          ],
          "scatter3d": [
           {
            "line": {
             "colorbar": {
              "outlinewidth": 0,
              "ticks": ""
             }
            },
            "marker": {
             "colorbar": {
              "outlinewidth": 0,
              "ticks": ""
             }
            },
            "type": "scatter3d"
           }
          ],
          "scattercarpet": [
           {
            "marker": {
             "colorbar": {
              "outlinewidth": 0,
              "ticks": ""
             }
            },
            "type": "scattercarpet"
           }
          ],
          "scattergeo": [
           {
            "marker": {
             "colorbar": {
              "outlinewidth": 0,
              "ticks": ""
             }
            },
            "type": "scattergeo"
           }
          ],
          "scattergl": [
           {
            "marker": {
             "colorbar": {
              "outlinewidth": 0,
              "ticks": ""
             }
            },
            "type": "scattergl"
           }
          ],
          "scattermap": [
           {
            "marker": {
             "colorbar": {
              "outlinewidth": 0,
              "ticks": ""
             }
            },
            "type": "scattermap"
           }
          ],
          "scattermapbox": [
           {
            "marker": {
             "colorbar": {
              "outlinewidth": 0,
              "ticks": ""
             }
            },
            "type": "scattermapbox"
           }
          ],
          "scatterpolar": [
           {
            "marker": {
             "colorbar": {
              "outlinewidth": 0,
              "ticks": ""
             }
            },
            "type": "scatterpolar"
           }
          ],
          "scatterpolargl": [
           {
            "marker": {
             "colorbar": {
              "outlinewidth": 0,
              "ticks": ""
             }
            },
            "type": "scatterpolargl"
           }
          ],
          "scatterternary": [
           {
            "marker": {
             "colorbar": {
              "outlinewidth": 0,
              "ticks": ""
             }
            },
            "type": "scatterternary"
           }
          ],
          "surface": [
           {
            "colorbar": {
             "outlinewidth": 0,
             "ticks": ""
            },
            "colorscale": [
             [
              0,
              "#0d0887"
             ],
             [
              0.1111111111111111,
              "#46039f"
             ],
             [
              0.2222222222222222,
              "#7201a8"
             ],
             [
              0.3333333333333333,
              "#9c179e"
             ],
             [
              0.4444444444444444,
              "#bd3786"
             ],
             [
              0.5555555555555556,
              "#d8576b"
             ],
             [
              0.6666666666666666,
              "#ed7953"
             ],
             [
              0.7777777777777778,
              "#fb9f3a"
             ],
             [
              0.8888888888888888,
              "#fdca26"
             ],
             [
              1,
              "#f0f921"
             ]
            ],
            "type": "surface"
           }
          ],
          "table": [
           {
            "cells": {
             "fill": {
              "color": "#EBF0F8"
             },
             "line": {
              "color": "white"
             }
            },
            "header": {
             "fill": {
              "color": "#C8D4E3"
             },
             "line": {
              "color": "white"
             }
            },
            "type": "table"
           }
          ]
         },
         "layout": {
          "annotationdefaults": {
           "arrowcolor": "#2a3f5f",
           "arrowhead": 0,
           "arrowwidth": 1
          },
          "autotypenumbers": "strict",
          "coloraxis": {
           "colorbar": {
            "outlinewidth": 0,
            "ticks": ""
           }
          },
          "colorscale": {
           "diverging": [
            [
             0,
             "#8e0152"
            ],
            [
             0.1,
             "#c51b7d"
            ],
            [
             0.2,
             "#de77ae"
            ],
            [
             0.3,
             "#f1b6da"
            ],
            [
             0.4,
             "#fde0ef"
            ],
            [
             0.5,
             "#f7f7f7"
            ],
            [
             0.6,
             "#e6f5d0"
            ],
            [
             0.7,
             "#b8e186"
            ],
            [
             0.8,
             "#7fbc41"
            ],
            [
             0.9,
             "#4d9221"
            ],
            [
             1,
             "#276419"
            ]
           ],
           "sequential": [
            [
             0,
             "#0d0887"
            ],
            [
             0.1111111111111111,
             "#46039f"
            ],
            [
             0.2222222222222222,
             "#7201a8"
            ],
            [
             0.3333333333333333,
             "#9c179e"
            ],
            [
             0.4444444444444444,
             "#bd3786"
            ],
            [
             0.5555555555555556,
             "#d8576b"
            ],
            [
             0.6666666666666666,
             "#ed7953"
            ],
            [
             0.7777777777777778,
             "#fb9f3a"
            ],
            [
             0.8888888888888888,
             "#fdca26"
            ],
            [
             1,
             "#f0f921"
            ]
           ],
           "sequentialminus": [
            [
             0,
             "#0d0887"
            ],
            [
             0.1111111111111111,
             "#46039f"
            ],
            [
             0.2222222222222222,
             "#7201a8"
            ],
            [
             0.3333333333333333,
             "#9c179e"
            ],
            [
             0.4444444444444444,
             "#bd3786"
            ],
            [
             0.5555555555555556,
             "#d8576b"
            ],
            [
             0.6666666666666666,
             "#ed7953"
            ],
            [
             0.7777777777777778,
             "#fb9f3a"
            ],
            [
             0.8888888888888888,
             "#fdca26"
            ],
            [
             1,
             "#f0f921"
            ]
           ]
          },
          "colorway": [
           "#636efa",
           "#EF553B",
           "#00cc96",
           "#ab63fa",
           "#FFA15A",
           "#19d3f3",
           "#FF6692",
           "#B6E880",
           "#FF97FF",
           "#FECB52"
          ],
          "font": {
           "color": "#2a3f5f"
          },
          "geo": {
           "bgcolor": "white",
           "lakecolor": "white",
           "landcolor": "#E5ECF6",
           "showlakes": true,
           "showland": true,
           "subunitcolor": "white"
          },
          "hoverlabel": {
           "align": "left"
          },
          "hovermode": "closest",
          "mapbox": {
           "style": "light"
          },
          "paper_bgcolor": "white",
          "plot_bgcolor": "#E5ECF6",
          "polar": {
           "angularaxis": {
            "gridcolor": "white",
            "linecolor": "white",
            "ticks": ""
           },
           "bgcolor": "#E5ECF6",
           "radialaxis": {
            "gridcolor": "white",
            "linecolor": "white",
            "ticks": ""
           }
          },
          "scene": {
           "xaxis": {
            "backgroundcolor": "#E5ECF6",
            "gridcolor": "white",
            "gridwidth": 2,
            "linecolor": "white",
            "showbackground": true,
            "ticks": "",
            "zerolinecolor": "white"
           },
           "yaxis": {
            "backgroundcolor": "#E5ECF6",
            "gridcolor": "white",
            "gridwidth": 2,
            "linecolor": "white",
            "showbackground": true,
            "ticks": "",
            "zerolinecolor": "white"
           },
           "zaxis": {
            "backgroundcolor": "#E5ECF6",
            "gridcolor": "white",
            "gridwidth": 2,
            "linecolor": "white",
            "showbackground": true,
            "ticks": "",
            "zerolinecolor": "white"
           }
          },
          "shapedefaults": {
           "line": {
            "color": "#2a3f5f"
           }
          },
          "ternary": {
           "aaxis": {
            "gridcolor": "white",
            "linecolor": "white",
            "ticks": ""
           },
           "baxis": {
            "gridcolor": "white",
            "linecolor": "white",
            "ticks": ""
           },
           "bgcolor": "#E5ECF6",
           "caxis": {
            "gridcolor": "white",
            "linecolor": "white",
            "ticks": ""
           }
          },
          "title": {
           "x": 0.05
          },
          "xaxis": {
           "automargin": true,
           "gridcolor": "white",
           "linecolor": "white",
           "ticks": "",
           "title": {
            "standoff": 15
           },
           "zerolinecolor": "white",
           "zerolinewidth": 2
          },
          "yaxis": {
           "automargin": true,
           "gridcolor": "white",
           "linecolor": "white",
           "ticks": "",
           "title": {
            "standoff": 15
           },
           "zerolinecolor": "white",
           "zerolinewidth": 2
          }
         }
        },
        "title": {
         "text": "Premium Price by Age and AnyChronicDiseases",
         "x": 0.5
        },
        "xaxis": {
         "anchor": "y",
         "domain": [
          0,
          1
         ],
         "title": {
          "text": "Age"
         }
        },
        "yaxis": {
         "anchor": "x",
         "domain": [
          0,
          1
         ],
         "title": {
          "text": "PremiumPrice"
         }
        }
       }
      }
     },
     "metadata": {},
     "output_type": "display_data"
    },
    {
     "data": {
      "application/vnd.plotly.v1+json": {
       "config": {
        "plotlyServerURL": "https://plot.ly"
       },
       "data": [
        {
         "hovertemplate": "KnownAllergies=0<br>Age=%{x}<br>PremiumPrice=%{y}<extra></extra>",
         "legendgroup": "0",
         "marker": {
          "color": "red",
          "symbol": "circle"
         },
         "mode": "markers",
         "name": "0",
         "orientation": "v",
         "showlegend": true,
         "type": "scatter",
         "x": {
          "bdata": "LTwkNCYhJjxCLhIqJjkVMRQjIzUfFjwhGhwaQDIsOisUQhkaGTZAFB4/PSs6KTEXLiQ3Fx9AGjETKCAbNz8ZNUIXHiw/Gy4uLhQhPzY1Ih80KhgtOxchPEAjIxk3QjY/JhchKxMcOyYXGyVCMzA2ISE7NCM7NTI4Lyo+PhQrLjoiNR0gEhwsKjAeHy8YNyElJB4uGSojHjAyKxMnLTAUIBgfEiApPC40FkJBIzI9MRk5LBYkNSMiPjYUMTcdNC8TGTUUFjkhMBk2JBgYNx4oMS4+LEAcNBIjQEIyNDBAHSstKEAoIDQaGRorJkFAFxkoOyA0NTcqHCEiGB0zOT8rHzcyLxkiLyIzMCETKkEvKS0xIiUrLjA0IyQ+QD4dJSs9Nik+KxMmLTYdLUAoIzo5HCEgQisgQSJALCMmLSc7JD0hLB8SLSIlHSQWFD0xGzsXOiUYLB0YQTBAJxMSPBsyIBM9Oh04GEEwKhojOi85LikxIC0bOCo6Oi0tHiE7Gx5AIiM+Li0aMkA0JDYxQBUjEz8nPSoUEiMVJTYqHxwcJi5BGRk+NjtAPz0vKTsSHEI6QCUdKhYlIDMnN0I6PCs2QjMiKx4pEjIrGysdHyofKR8vGyw6FiwxLho+LTwaOhs7FSo7GCAqLRwYKSkwKTMjFSwkLTMUMxY/Hh4rKj8/QiwcJisVQhskKB87KzMWPUJBNiI7LDEvNSMwQhsWPDErLh0vOCEpOz4gNjI3NDMlEjgmMDwtFzknQTI4GzJCNRobEzghGBglKj8VHiA1QC4bKxcTKxIZOzseOzUoKTEvQSoqLSA4PBsbHi8kOhQhHSIhGBYkHT4wIz4hKkFBMkESPiQgNBtBNBooGRUVHTIsODA4MjwSKSMYFBI9JTYdFTdBHD0sNRkcPhkSHCojMzAzFzUfMyUWFjQgLToqLRsSNyYzEyIiJzcePhkzKBU2P0IrNSEVPikYHxMWPTY2JjAfKygjGTUrNx08HjQsPj8VLhsSQhc7MRsjEi0uGhwvLBUtKBgoEkA4",
          "dtype": "i1"
         },
         "xaxis": "x",
         "y": {
          "bdata": "qGEAAEhxAADYWQAAYG0AANhZAAAIUgAA2FkAAGBtAACoYQAAuIgAAJg6AAAwdQAA2FkAAKhhAACYOgAAYG0AAJg6AAAAfQAA2FkAALiIAAAIUgAAmDoAAGBtAAAIUgAAOEoAAJg6AACYOgAAYG0AAGBtAADYWQAAqGEAADB1AACYOgAAYG0AAJg6AACYOgAAAH0AALiIAACoYQAAmDoAANhZAABgbQAAYG0AAAB9AACoYQAA2FkAAGBtAADAXQAA2FkAANhZAACoYQAAmDoAANhZAABgbQAAmDoAAGBtAACYOgAA2FkAAAhSAACYOgAAMHUAAKhhAABwlAAAYG0AAGBtAACYOgAAcJQAANhZAACoYQAAmDoAANhZAACoYQAAcJQAAJg6AAAIUgAAYG0AAGBtAABgbQAA2FkAANhZAACoYQAA2FkAAJg6AABwlAAAGHkAAJg6AADYWQAAqGEAAGBtAADYWQAA2FkAADhKAABgbQAAqGEAAGBtAABIcQAA2FkAAJg6AADYWQAAMHUAAJg6AACYOgAAYG0AANhZAACYOgAAmDoAANhZAABgbQAASHEAAHCUAABgbQAACFIAAAhSAABgbQAASHEAANhZAABwlAAAYG0AAKhhAABgbQAAuIgAANhZAAC4iAAAqGEAAJg6AADYWQAAqGEAALiIAADYWQAASHEAAJg6AADYWQAAmDoAAJg6AADYWQAAcJQAADB1AADYWQAAqGEAAHCUAACYOgAAuIgAANhZAADYWQAA2FkAANhZAAAwdQAAmDoAANhZAADYWQAA2FkAALiIAABgbQAAGHkAAJg6AADYWQAA2FkAALiIAACYOgAA2FkAAJBlAADYWQAAmDoAANhZAAAwdQAAwF0AAPBVAABgbQAAmDoAAGBtAADAXQAAkGUAAGBtAAC4iAAAuIgAAJg6AAC4iAAAGHkAAJg6AADYWQAAYG0AANhZAACoYQAAYG0AADB1AACYOgAAYG0AAGBtAACYOgAASHEAAKhhAACYOgAAmDoAALiIAACYOgAAmDoAALiIAADYWQAA2FkAAJg6AACoYQAA2FkAAJg6AACYOgAAqGEAANhZAAAwdQAASHEAAKhhAABgbQAAMHUAAGBtAAAIUgAASHEAAJBlAADYWQAAYG0AALiIAABgbQAAqGEAAKhhAABwlAAAmDoAANhZAADYWQAAcJQAAECcAAAYeQAAqGEAAGBtAACYOgAAmDoAAJg6AADYWQAA2FkAAGBtAABgbQAAmDoAAMBdAADYWQAAcJQAANhZAACoYQAASHEAAHCUAADYWQAAOEoAANhZAADYWQAAmDoAAJg6AABgbQAAYG0AAGBtAABQRgAA0IQAAGBtAABgbQAAMHUAAJg6AADYWQAAMHUAANhZAABgbQAA2FkAAAhSAACYOgAA2FkAAGBtAADYWQAAMHUAADB1AACoYQAA2FkAANhZAAAwdQAA2FkAANhZAABgbQAA2FkAAHCUAAAYeQAASHEAAGBtAACYOgAA2FkAANhZAABgbQAASHEAANhZAABgbQAAMHUAAJg6AADYWQAAqGEAAEhxAAA4SgAA2FkAAKhhAADYWQAA2FkAAEhxAABgbQAACFIAAHCUAAAIUgAAYG0AANhZAAAIUgAAYG0AAKhhAABgbQAAMHUAANhZAADYWQAA2FkAANhZAABgbQAA2FkAAGBtAADYWQAA2FkAANhZAACYOgAA2FkAANhZAADYWQAAmDoAANhZAACYOgAAmDoAAGBtAACoYQAAmDoAAKhhAACYOgAAqGEAANhZAACYOgAAMHUAAJg6AACYOgAAuIgAAKhhAACoYQAA2FkAAFBGAACYOgAAYG0AAIA+AABgbQAA2FkAAJg6AABgbQAAcJQAAJg6AACoYQAAmDoAAGBtAAAwdQAA2FkAAJg6AADYWQAAqGEAANhZAACoYQAAqGEAANhZAABgbQAACFIAAKhhAACYOgAAqGEAANhZAACoYQAAqGEAANhZAACoYQAACFIAAAhSAACoYQAAmDoAAAhSAABgbQAA2FkAANhZAABgbQAAqGEAANhZAAA4SgAAYG0AAGBtAABwlAAA2FkAAEhxAABgbQAASHEAAJg6AADYWQAAmDoAAEhxAADYWQAASHEAABh5AACYOgAAmDoAANhZAACYOgAA2FkAAGBtAADYWQAA2FkAAJg6AACgjAAA2FkAANhZAABgbQAAOEoAAJg6AABgbQAASHEAAEhxAABIcQAASHEAAEhxAAAYeQAA2FkAAEhxAACYOgAAOEoAAGBtAABgbQAASHEAAJBlAACYOgAA0IQAAJg6AADYWQAA2FkAADB1AADYWQAASHEAALiIAABgbQAAYG0AAHCUAABIcQAAYG0AAEhxAADYWQAA2FkAANhZAADYWQAAmDoAAEhxAADYWQAAqGEAADB1AACYOgAA2FkAADB1AADYWQAAMHUAANhZAADYWQAAmDoAADB1AABIcQAAmDoAANhZAABIcQAA2FkAADhKAABgbQAA2FkAAEhxAACYOgAASHEAAJg6AABIcQAAmDoAABh5AABgbQAAmDoAAHCUAADYWQAA2FkAADhKAACYOgAAMHUAANhZAACoYQAAMHUAAGBtAADYWQAAmDoAANhZAADYWQAA2FkAAKhhAACYOgAASHEAAJg6AABgbQAACFIAANhZAADYWQAA2FkAABh5AAC4iAAAqGEAANhZAACYOgAA2FkAANhZAACYOgAASHEAAJg6AABwlAAA2FkAANhZAABIcQAA2FkAALiIAACYOgAAuIgAALiIAABgbQAAGHkAANhZAABwlAAA2FkAAGBtAAAwdQAASHEAANhZAACoYQAAuIgAAJg6AACYOgAAMHUAAGBtAADYWQAAMHUAAJg6AACoYQAAcJQAANhZAADYWQAAqGEAAGBtAABwlAAAqGEAAGBtAABgbQAAqGEAAEhxAADYWQAAmDoAALiIAADYWQAAqGEAAGBtAACoYQAAmDoAAGBtAADYWQAASHEAALiIAABgbQAAmDoAAGBtAABgbQAAYG0AADhKAABwlAAAmDoAAEhxAADYWQAAmDoAAJg6AADYWQAAMHUAAEhxAACYOgAA2FkAANhZAABgbQAAYG0AAKhhAACYOgAA2FkAAJg6AACYOgAA2FkAAJg6AAAwdQAASHEAAGBtAAAIUgAAqGEAADB1AAAwdQAA2FkAAKhhAAC4iAAAYG0AADB1AADYWQAAqGEAAAhSAABIcQAAYG0AAJg6AACYOgAAeGkAALiIAADYWQAASHEAAJg6AADYWQAAOEoAANhZAAAIUgAAmDoAAJg6AADYWQAAmDoAAEhxAAC4iAAA2FkAALiIAAAIUgAA2FkAAGBtAABgbQAAqGEAAGBtAACYOgAAYG0AANhZAACoYQAAYG0AAJg6AABIcQAAGHkAAAhSAADYWQAAmDoAAJg6AACYOgAAmDoAAGBtAADYWQAAYG0AANhZAABgbQAAMHUAAGBtAACYOgAA2FkAANhZAACYOgAAmDoAAJg6AACoYQAA2FkAAGBtAACYOgAAmDoAAEhxAAC4iAAAmDoAAGBtAADYWQAAMHUAAJg6AACYOgAAqGEAAJg6AACYOgAAmDoAANhZAADYWQAASHEAAKhhAACoYQAAmDoAAGBtAADYWQAAqGEAANhZAACYOgAAmDoAAKhhAADYWQAAqGEAAEhxAADYWQAA2FkAAJg6AACYOgAAYG0AANhZAACoYQAAmDoAANhZAADYWQAA2FkAAGBtAACoYQAAMHUAAJg6AABIcQAA2FkAAJg6AABgbQAAqGEAAGBtAADYWQAASHEAAHCUAACYOgAAqGEAABh5AABYmAAAcJQAAFiYAACYOgAAqGEAAKhhAAAYeQAAGHkAAKhhAABwlAAA2FkAADB1AADYWQAAOEoAAKhhAADYWQAASHEAAJg6AACoYQAA2FkAAGBtAABwlAAAYG0AAGBtAACYOgAAqGEAAJg6AACYOgAAYG0AAJg6AACoYQAAqGEAAJg6AADYWQAAmDoAAKhhAADYWQAAmDoAAJg6AACoYQAA2FkAAFiYAACoYQAAaEIAAJg6AABwlAAAmDoAAGBtAABIcQAA",
          "dtype": "i4"
         },
         "yaxis": "y"
        },
        {
         "hovertemplate": "KnownAllergies=1<br>Age=%{x}<br>PremiumPrice=%{y}<extra></extra>",
         "legendgroup": "1",
         "marker": {
          "color": "green",
          "symbol": "circle"
         },
         "mode": "markers",
         "name": "1",
         "orientation": "v",
         "showlegend": true,
         "type": "scatter",
         "x": {
          "bdata": "HhcwGCYeFhg0LDwkMR8jLjQVFR8cNx0vOyAfJzsiKDkVEyojQiYeEyEoHhs8MR0+JTw4Px0gEjEVL0EgPCUkMBQuMEIxIxkoOCQ9MCY9HhMtLyswFj8qKjYZPjY3FTIlJRY7FCdAOhMWGCwxEkA4MzMrLzI0MzEuOz8SJD0bEzEbNzMcGz0yOSstIiQbKCksPyg7FSc1MjFCGDMuFCs4Ox0yJjkZExRBLCkiGD8gEjksLBshGS8wKB8WMCFCJywuKz4vJTkTHi8dKSoTLRkgQiofLxU=",
          "dtype": "i1"
         },
         "xaxis": "x",
         "y": {
          "bdata": "2FkAAJg6AADYWQAAmDoAANhZAADYWQAAmDoAAJg6AABIcQAA2FkAAEhxAADYWQAAYG0AAKhhAAAYeQAAqGEAABh5AACYOgAAmDoAANhZAAA4SgAASHEAAJg6AADYWQAAqGEAAAhSAABwlAAAGHkAAEhxAADYWQAAGHkAAEhxAACYOgAAmDoAANhZAADYWQAAYG0AANhZAADYWQAAmDoAANhZAADYWQAAkGUAAFiYAAC4iAAAuIgAADhKAABwlAAA2FkAAGBtAABgbQAAqGEAAAhSAAAIUgAAmDoAALiIAACYOgAA2FkAAKhhAADYWQAAYG0AANhZAADYWQAA2FkAAJg6AADYWQAA2FkAALiIAABIcQAA2FkAAJg6AAAYeQAAuIgAANhZAACQZQAA2FkAANhZAAAYeQAA2FkAAJg6AACoYQAAqGEAANhZAAC4iAAAmDoAAKhhAADYWQAAGHkAAGBtAACYOgAAGHkAAKhhAABIcQAAmDoAACBOAAAYeQAA2FkAAJg6AACAPgAAgD4AABh5AABgbQAAYG0AAJg6AACYOgAAmDoAANhZAAAwdQAAmDoAAKhhAACoYQAAqGEAAEhxAADYWQAAoIwAAEhxAABgbQAAcJQAAEhxAADYWQAASHEAAEhxAACQZQAA2FkAAGBtAACYOgAAmDoAAGBtAACYOgAASHEAAEhxAACYOgAAmDoAAEhxAAAYeQAASHEAADB1AAAYeQAAcJQAABh5AACYOgAA2FkAADB1AADYWQAASHEAAAB9AACoYQAAmDoAANhZAACoYQAAMHUAAEhxAAC4iAAAmDoAAKhhAADYWQAAmDoAADB1AABIcQAAqGEAAJg6AAC4iAAA2FkAALiIAACYOgAAmDoAAJg6AAC4iAAA2FkAANhZAADYWQAAmDoAADB1AADYWQAAmDoAAGBtAAAYeQAAcJQAADhKAAAIUgAAmDoAADB1AADYWQAAGHkAANhZAACYOgAAGHkAANhZAAC4iAAAGHkAADB1AAAwdQAA2FkAAKhhAACoYQAA2FkAAGBtAACYOgAA2FkAANhZAACYOgAA2FkAAHCUAACYOgAA2FkAAJg6AADYWQAAuIgAANhZAADYWQAAWJgAAJg6AAA=",
          "dtype": "i4"
         },
         "yaxis": "y"
        }
       ],
       "layout": {
        "legend": {
         "title": {
          "text": "KnownAllergies"
         },
         "tracegroupgap": 0
        },
        "template": {
         "data": {
          "bar": [
           {
            "error_x": {
             "color": "#2a3f5f"
            },
            "error_y": {
             "color": "#2a3f5f"
            },
            "marker": {
             "line": {
              "color": "#E5ECF6",
              "width": 0.5
             },
             "pattern": {
              "fillmode": "overlay",
              "size": 10,
              "solidity": 0.2
             }
            },
            "type": "bar"
           }
          ],
          "barpolar": [
           {
            "marker": {
             "line": {
              "color": "#E5ECF6",
              "width": 0.5
             },
             "pattern": {
              "fillmode": "overlay",
              "size": 10,
              "solidity": 0.2
             }
            },
            "type": "barpolar"
           }
          ],
          "carpet": [
           {
            "aaxis": {
             "endlinecolor": "#2a3f5f",
             "gridcolor": "white",
             "linecolor": "white",
             "minorgridcolor": "white",
             "startlinecolor": "#2a3f5f"
            },
            "baxis": {
             "endlinecolor": "#2a3f5f",
             "gridcolor": "white",
             "linecolor": "white",
             "minorgridcolor": "white",
             "startlinecolor": "#2a3f5f"
            },
            "type": "carpet"
           }
          ],
          "choropleth": [
           {
            "colorbar": {
             "outlinewidth": 0,
             "ticks": ""
            },
            "type": "choropleth"
           }
          ],
          "contour": [
           {
            "colorbar": {
             "outlinewidth": 0,
             "ticks": ""
            },
            "colorscale": [
             [
              0,
              "#0d0887"
             ],
             [
              0.1111111111111111,
              "#46039f"
             ],
             [
              0.2222222222222222,
              "#7201a8"
             ],
             [
              0.3333333333333333,
              "#9c179e"
             ],
             [
              0.4444444444444444,
              "#bd3786"
             ],
             [
              0.5555555555555556,
              "#d8576b"
             ],
             [
              0.6666666666666666,
              "#ed7953"
             ],
             [
              0.7777777777777778,
              "#fb9f3a"
             ],
             [
              0.8888888888888888,
              "#fdca26"
             ],
             [
              1,
              "#f0f921"
             ]
            ],
            "type": "contour"
           }
          ],
          "contourcarpet": [
           {
            "colorbar": {
             "outlinewidth": 0,
             "ticks": ""
            },
            "type": "contourcarpet"
           }
          ],
          "heatmap": [
           {
            "colorbar": {
             "outlinewidth": 0,
             "ticks": ""
            },
            "colorscale": [
             [
              0,
              "#0d0887"
             ],
             [
              0.1111111111111111,
              "#46039f"
             ],
             [
              0.2222222222222222,
              "#7201a8"
             ],
             [
              0.3333333333333333,
              "#9c179e"
             ],
             [
              0.4444444444444444,
              "#bd3786"
             ],
             [
              0.5555555555555556,
              "#d8576b"
             ],
             [
              0.6666666666666666,
              "#ed7953"
             ],
             [
              0.7777777777777778,
              "#fb9f3a"
             ],
             [
              0.8888888888888888,
              "#fdca26"
             ],
             [
              1,
              "#f0f921"
             ]
            ],
            "type": "heatmap"
           }
          ],
          "histogram": [
           {
            "marker": {
             "pattern": {
              "fillmode": "overlay",
              "size": 10,
              "solidity": 0.2
             }
            },
            "type": "histogram"
           }
          ],
          "histogram2d": [
           {
            "colorbar": {
             "outlinewidth": 0,
             "ticks": ""
            },
            "colorscale": [
             [
              0,
              "#0d0887"
             ],
             [
              0.1111111111111111,
              "#46039f"
             ],
             [
              0.2222222222222222,
              "#7201a8"
             ],
             [
              0.3333333333333333,
              "#9c179e"
             ],
             [
              0.4444444444444444,
              "#bd3786"
             ],
             [
              0.5555555555555556,
              "#d8576b"
             ],
             [
              0.6666666666666666,
              "#ed7953"
             ],
             [
              0.7777777777777778,
              "#fb9f3a"
             ],
             [
              0.8888888888888888,
              "#fdca26"
             ],
             [
              1,
              "#f0f921"
             ]
            ],
            "type": "histogram2d"
           }
          ],
          "histogram2dcontour": [
           {
            "colorbar": {
             "outlinewidth": 0,
             "ticks": ""
            },
            "colorscale": [
             [
              0,
              "#0d0887"
             ],
             [
              0.1111111111111111,
              "#46039f"
             ],
             [
              0.2222222222222222,
              "#7201a8"
             ],
             [
              0.3333333333333333,
              "#9c179e"
             ],
             [
              0.4444444444444444,
              "#bd3786"
             ],
             [
              0.5555555555555556,
              "#d8576b"
             ],
             [
              0.6666666666666666,
              "#ed7953"
             ],
             [
              0.7777777777777778,
              "#fb9f3a"
             ],
             [
              0.8888888888888888,
              "#fdca26"
             ],
             [
              1,
              "#f0f921"
             ]
            ],
            "type": "histogram2dcontour"
           }
          ],
          "mesh3d": [
           {
            "colorbar": {
             "outlinewidth": 0,
             "ticks": ""
            },
            "type": "mesh3d"
           }
          ],
          "parcoords": [
           {
            "line": {
             "colorbar": {
              "outlinewidth": 0,
              "ticks": ""
             }
            },
            "type": "parcoords"
           }
          ],
          "pie": [
           {
            "automargin": true,
            "type": "pie"
           }
          ],
          "scatter": [
           {
            "fillpattern": {
             "fillmode": "overlay",
             "size": 10,
             "solidity": 0.2
            },
            "type": "scatter"
           }
          ],
          "scatter3d": [
           {
            "line": {
             "colorbar": {
              "outlinewidth": 0,
              "ticks": ""
             }
            },
            "marker": {
             "colorbar": {
              "outlinewidth": 0,
              "ticks": ""
             }
            },
            "type": "scatter3d"
           }
          ],
          "scattercarpet": [
           {
            "marker": {
             "colorbar": {
              "outlinewidth": 0,
              "ticks": ""
             }
            },
            "type": "scattercarpet"
           }
          ],
          "scattergeo": [
           {
            "marker": {
             "colorbar": {
              "outlinewidth": 0,
              "ticks": ""
             }
            },
            "type": "scattergeo"
           }
          ],
          "scattergl": [
           {
            "marker": {
             "colorbar": {
              "outlinewidth": 0,
              "ticks": ""
             }
            },
            "type": "scattergl"
           }
          ],
          "scattermap": [
           {
            "marker": {
             "colorbar": {
              "outlinewidth": 0,
              "ticks": ""
             }
            },
            "type": "scattermap"
           }
          ],
          "scattermapbox": [
           {
            "marker": {
             "colorbar": {
              "outlinewidth": 0,
              "ticks": ""
             }
            },
            "type": "scattermapbox"
           }
          ],
          "scatterpolar": [
           {
            "marker": {
             "colorbar": {
              "outlinewidth": 0,
              "ticks": ""
             }
            },
            "type": "scatterpolar"
           }
          ],
          "scatterpolargl": [
           {
            "marker": {
             "colorbar": {
              "outlinewidth": 0,
              "ticks": ""
             }
            },
            "type": "scatterpolargl"
           }
          ],
          "scatterternary": [
           {
            "marker": {
             "colorbar": {
              "outlinewidth": 0,
              "ticks": ""
             }
            },
            "type": "scatterternary"
           }
          ],
          "surface": [
           {
            "colorbar": {
             "outlinewidth": 0,
             "ticks": ""
            },
            "colorscale": [
             [
              0,
              "#0d0887"
             ],
             [
              0.1111111111111111,
              "#46039f"
             ],
             [
              0.2222222222222222,
              "#7201a8"
             ],
             [
              0.3333333333333333,
              "#9c179e"
             ],
             [
              0.4444444444444444,
              "#bd3786"
             ],
             [
              0.5555555555555556,
              "#d8576b"
             ],
             [
              0.6666666666666666,
              "#ed7953"
             ],
             [
              0.7777777777777778,
              "#fb9f3a"
             ],
             [
              0.8888888888888888,
              "#fdca26"
             ],
             [
              1,
              "#f0f921"
             ]
            ],
            "type": "surface"
           }
          ],
          "table": [
           {
            "cells": {
             "fill": {
              "color": "#EBF0F8"
             },
             "line": {
              "color": "white"
             }
            },
            "header": {
             "fill": {
              "color": "#C8D4E3"
             },
             "line": {
              "color": "white"
             }
            },
            "type": "table"
           }
          ]
         },
         "layout": {
          "annotationdefaults": {
           "arrowcolor": "#2a3f5f",
           "arrowhead": 0,
           "arrowwidth": 1
          },
          "autotypenumbers": "strict",
          "coloraxis": {
           "colorbar": {
            "outlinewidth": 0,
            "ticks": ""
           }
          },
          "colorscale": {
           "diverging": [
            [
             0,
             "#8e0152"
            ],
            [
             0.1,
             "#c51b7d"
            ],
            [
             0.2,
             "#de77ae"
            ],
            [
             0.3,
             "#f1b6da"
            ],
            [
             0.4,
             "#fde0ef"
            ],
            [
             0.5,
             "#f7f7f7"
            ],
            [
             0.6,
             "#e6f5d0"
            ],
            [
             0.7,
             "#b8e186"
            ],
            [
             0.8,
             "#7fbc41"
            ],
            [
             0.9,
             "#4d9221"
            ],
            [
             1,
             "#276419"
            ]
           ],
           "sequential": [
            [
             0,
             "#0d0887"
            ],
            [
             0.1111111111111111,
             "#46039f"
            ],
            [
             0.2222222222222222,
             "#7201a8"
            ],
            [
             0.3333333333333333,
             "#9c179e"
            ],
            [
             0.4444444444444444,
             "#bd3786"
            ],
            [
             0.5555555555555556,
             "#d8576b"
            ],
            [
             0.6666666666666666,
             "#ed7953"
            ],
            [
             0.7777777777777778,
             "#fb9f3a"
            ],
            [
             0.8888888888888888,
             "#fdca26"
            ],
            [
             1,
             "#f0f921"
            ]
           ],
           "sequentialminus": [
            [
             0,
             "#0d0887"
            ],
            [
             0.1111111111111111,
             "#46039f"
            ],
            [
             0.2222222222222222,
             "#7201a8"
            ],
            [
             0.3333333333333333,
             "#9c179e"
            ],
            [
             0.4444444444444444,
             "#bd3786"
            ],
            [
             0.5555555555555556,
             "#d8576b"
            ],
            [
             0.6666666666666666,
             "#ed7953"
            ],
            [
             0.7777777777777778,
             "#fb9f3a"
            ],
            [
             0.8888888888888888,
             "#fdca26"
            ],
            [
             1,
             "#f0f921"
            ]
           ]
          },
          "colorway": [
           "#636efa",
           "#EF553B",
           "#00cc96",
           "#ab63fa",
           "#FFA15A",
           "#19d3f3",
           "#FF6692",
           "#B6E880",
           "#FF97FF",
           "#FECB52"
          ],
          "font": {
           "color": "#2a3f5f"
          },
          "geo": {
           "bgcolor": "white",
           "lakecolor": "white",
           "landcolor": "#E5ECF6",
           "showlakes": true,
           "showland": true,
           "subunitcolor": "white"
          },
          "hoverlabel": {
           "align": "left"
          },
          "hovermode": "closest",
          "mapbox": {
           "style": "light"
          },
          "paper_bgcolor": "white",
          "plot_bgcolor": "#E5ECF6",
          "polar": {
           "angularaxis": {
            "gridcolor": "white",
            "linecolor": "white",
            "ticks": ""
           },
           "bgcolor": "#E5ECF6",
           "radialaxis": {
            "gridcolor": "white",
            "linecolor": "white",
            "ticks": ""
           }
          },
          "scene": {
           "xaxis": {
            "backgroundcolor": "#E5ECF6",
            "gridcolor": "white",
            "gridwidth": 2,
            "linecolor": "white",
            "showbackground": true,
            "ticks": "",
            "zerolinecolor": "white"
           },
           "yaxis": {
            "backgroundcolor": "#E5ECF6",
            "gridcolor": "white",
            "gridwidth": 2,
            "linecolor": "white",
            "showbackground": true,
            "ticks": "",
            "zerolinecolor": "white"
           },
           "zaxis": {
            "backgroundcolor": "#E5ECF6",
            "gridcolor": "white",
            "gridwidth": 2,
            "linecolor": "white",
            "showbackground": true,
            "ticks": "",
            "zerolinecolor": "white"
           }
          },
          "shapedefaults": {
           "line": {
            "color": "#2a3f5f"
           }
          },
          "ternary": {
           "aaxis": {
            "gridcolor": "white",
            "linecolor": "white",
            "ticks": ""
           },
           "baxis": {
            "gridcolor": "white",
            "linecolor": "white",
            "ticks": ""
           },
           "bgcolor": "#E5ECF6",
           "caxis": {
            "gridcolor": "white",
            "linecolor": "white",
            "ticks": ""
           }
          },
          "title": {
           "x": 0.05
          },
          "xaxis": {
           "automargin": true,
           "gridcolor": "white",
           "linecolor": "white",
           "ticks": "",
           "title": {
            "standoff": 15
           },
           "zerolinecolor": "white",
           "zerolinewidth": 2
          },
          "yaxis": {
           "automargin": true,
           "gridcolor": "white",
           "linecolor": "white",
           "ticks": "",
           "title": {
            "standoff": 15
           },
           "zerolinecolor": "white",
           "zerolinewidth": 2
          }
         }
        },
        "title": {
         "text": "Premium Price by Age and KnownAllergies",
         "x": 0.5
        },
        "xaxis": {
         "anchor": "y",
         "domain": [
          0,
          1
         ],
         "title": {
          "text": "Age"
         }
        },
        "yaxis": {
         "anchor": "x",
         "domain": [
          0,
          1
         ],
         "title": {
          "text": "PremiumPrice"
         }
        }
       }
      }
     },
     "metadata": {},
     "output_type": "display_data"
    },
    {
     "data": {
      "application/vnd.plotly.v1+json": {
       "config": {
        "plotlyServerURL": "https://plot.ly"
       },
       "data": [
        {
         "hovertemplate": "HistoryOfCancerInFamily=0<br>Age=%{x}<br>PremiumPrice=%{y}<extra></extra>",
         "legendgroup": "0",
         "marker": {
          "color": "red",
          "symbol": "circle"
         },
         "mode": "markers",
         "name": "0",
         "orientation": "v",
         "showlegend": true,
         "type": "scatter",
         "x": {
          "bdata": "LTwkNCYeIRcwJjxCGC4SJiomORUxFCMjHxY8HiEWGhwaQDIsOhgUQjQaLBk2QBQePz0rOik8MRcuJDcXH0AaMSggGzc/GTVCFyQxHiw/Gy4uIT82NRUiHzQqLRUXITwfHEA3IyMvGTc7QjY/JhchHys7EzsmFyIbJUIzMDYhITs0Izs1MjgvOSoVPj4UKy46IjUdIBIcLCowHi8YNyojIUImJR4kHi4TGSojHjAyIRMnLTAUKCAeGDwfICkdPDQWQkE+PTEZJTk8FjgkNR0gEiM+NjEUMS83HTQvExlBIDU8JRQWOSEwGTYkGBg3HigxLj4kQDAULjQSI0BCMEI0MDEdKy0oQDQjGhkaKzgmQUAXGSQoOyA0NTcqHCEiGD0dMCYzHjkrHzcTMi8vKxkiLyI/MzAhKhMqQS8pLTEiJSsuNjA0IyRAGT4dJSs9Nik+KxMmLTYdNi1AKCM6ORwhIEIrIEE3QCMmLSc7JD0hLB8tIiUkFhQxGxcVOiUYLDIlGEEwQBYnExI7G0A6IBMWPTodOBhBGDAqLCM6LzkuKS0bOCo6ODotLR4hOxseIjMjPi4tGjJANCQ2MTNAFSMTPycrLz0UEjIjFSU2KjMfHBwxLiYuQRkZPjY7QD89KTsSHEI6O0A/JRIdKhYkJSAzJz0bNzo8KzYTQjMiKx4pEjEyKysfKh8pHy8bLDobNzMWHCwxLho+Gy08PRo6OTsrFTsgKiItHBgpKTApMxsjKCkVLCQtLDMUPzMWPyg7FR4rKic/QiwcJjUrFTJCGzEkKB87KzMWPUJBIkI7MywxLjUjFDBCKxsWODs8MR0rMh0vOCEpJjs5PjYyNzQzJRImMC0XJ0EyOBsyQjUaGxM4IRgYJSoUPxUeIDVALC4bKxcTKxIZOzseOzUoKTEvQSopIiAYPzg8GxsvJDoUICESHSI5IRgWJCwdGz4hMBkjPiEvMCpBQTJBEj4kG0EfGigVFR0yLDgwODI8EikjGBQSPSU2HRU3QRw9LDUZIUIcPhkSHCojMzMXNR8sJS40IC0rOio+LS8bEjcmJRMiOSInNz4ZEzMeKBU2P0IrLx01IRU+GBMWKT0qEzAfKygjGSs3LR08HjQZLD4/FS4bEkIXIDEbI0IqEi0uGh8cLywVLSgYKBJAOC8V",
          "dtype": "i1"
         },
         "xaxis": "x",
         "y": {
          "bdata": "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",
          "dtype": "i4"
         },
         "yaxis": "y"
        },
        {
         "hovertemplate": "HistoryOfCancerInFamily=1<br>Age=%{x}<br>PremiumPrice=%{y}<extra></extra>",
         "legendgroup": "1",
         "marker": {
          "color": "green",
          "symbol": "circle"
         },
         "mode": "markers",
         "name": "1",
         "orientation": "v",
         "showlegend": true,
         "type": "scatter",
         "x": {
          "bdata": "NSsZEx8uFCMuNBg7HSAnHCgTHysbEjEuIzIsPyIVLBwyQCggGSg9Py0wFio+PiIsEh09OyUdPDIUJxMaMRIxIEBAKjQvQhsdGzIqGC0kHj82GC8uIDg8ORkTQSotHiwoIDQ0GRYwJzAzFhYzHikfNjYmNTs=",
          "dtype": "i1"
         },
         "xaxis": "x",
         "y": {
          "bdata": "uIgAADB1AACYOgAAmDoAAKhhAABwlAAAmDoAABh5AACoYQAAGHkAAJg6AAAYeQAAmDoAAAhSAAAYeQAAmDoAABh5AACYOgAAqGEAABh5AABYmAAAmDoAALiIAADwVQAAkGUAAGBtAAAYeQAAqGEAAKhhAACYOgAAMHUAAAhSAABgbQAAcJQAABh5AACoYQAAmDoAABh5AAAYeQAAYG0AAKhhAAC4iAAAmDoAABh5AAAYeQAAGHkAAKhhAAAwdQAAmDoAAJg6AABgbQAAqGEAABh5AACYOgAAYG0AAGBtAACAPgAAGHkAAJg6AACYOgAAMHUAAJg6AABgbQAACFIAAKhhAABgbQAAGHkAAGBtAAAYeQAAuIgAAKhhAACYOgAAmDoAABh5AAAYeQAAmDoAABh5AAAYeQAACFIAABh5AAAYeQAAmDoAADB1AAAwdQAAcJQAALiIAABgbQAAYG0AAJg6AACYOgAAuIgAADB1AACoYQAAeGkAABh5AAAYeQAAqGEAAGBtAAAYeQAAmDoAAJg6AAAYeQAAGHkAAKhhAACoYQAAmDoAAJg6AACoYQAAqGEAABh5AABwlAAAqGEAABh5AAAYeQAAqGEAAKhhAAA=",
          "dtype": "i4"
         },
         "yaxis": "y"
        }
       ],
       "layout": {
        "legend": {
         "title": {
          "text": "HistoryOfCancerInFamily"
         },
         "tracegroupgap": 0
        },
        "template": {
         "data": {
          "bar": [
           {
            "error_x": {
             "color": "#2a3f5f"
            },
            "error_y": {
             "color": "#2a3f5f"
            },
            "marker": {
             "line": {
              "color": "#E5ECF6",
              "width": 0.5
             },
             "pattern": {
              "fillmode": "overlay",
              "size": 10,
              "solidity": 0.2
             }
            },
            "type": "bar"
           }
          ],
          "barpolar": [
           {
            "marker": {
             "line": {
              "color": "#E5ECF6",
              "width": 0.5
             },
             "pattern": {
              "fillmode": "overlay",
              "size": 10,
              "solidity": 0.2
             }
            },
            "type": "barpolar"
           }
          ],
          "carpet": [
           {
            "aaxis": {
             "endlinecolor": "#2a3f5f",
             "gridcolor": "white",
             "linecolor": "white",
             "minorgridcolor": "white",
             "startlinecolor": "#2a3f5f"
            },
            "baxis": {
             "endlinecolor": "#2a3f5f",
             "gridcolor": "white",
             "linecolor": "white",
             "minorgridcolor": "white",
             "startlinecolor": "#2a3f5f"
            },
            "type": "carpet"
           }
          ],
          "choropleth": [
           {
            "colorbar": {
             "outlinewidth": 0,
             "ticks": ""
            },
            "type": "choropleth"
           }
          ],
          "contour": [
           {
            "colorbar": {
             "outlinewidth": 0,
             "ticks": ""
            },
            "colorscale": [
             [
              0,
              "#0d0887"
             ],
             [
              0.1111111111111111,
              "#46039f"
             ],
             [
              0.2222222222222222,
              "#7201a8"
             ],
             [
              0.3333333333333333,
              "#9c179e"
             ],
             [
              0.4444444444444444,
              "#bd3786"
             ],
             [
              0.5555555555555556,
              "#d8576b"
             ],
             [
              0.6666666666666666,
              "#ed7953"
             ],
             [
              0.7777777777777778,
              "#fb9f3a"
             ],
             [
              0.8888888888888888,
              "#fdca26"
             ],
             [
              1,
              "#f0f921"
             ]
            ],
            "type": "contour"
           }
          ],
          "contourcarpet": [
           {
            "colorbar": {
             "outlinewidth": 0,
             "ticks": ""
            },
            "type": "contourcarpet"
           }
          ],
          "heatmap": [
           {
            "colorbar": {
             "outlinewidth": 0,
             "ticks": ""
            },
            "colorscale": [
             [
              0,
              "#0d0887"
             ],
             [
              0.1111111111111111,
              "#46039f"
             ],
             [
              0.2222222222222222,
              "#7201a8"
             ],
             [
              0.3333333333333333,
              "#9c179e"
             ],
             [
              0.4444444444444444,
              "#bd3786"
             ],
             [
              0.5555555555555556,
              "#d8576b"
             ],
             [
              0.6666666666666666,
              "#ed7953"
             ],
             [
              0.7777777777777778,
              "#fb9f3a"
             ],
             [
              0.8888888888888888,
              "#fdca26"
             ],
             [
              1,
              "#f0f921"
             ]
            ],
            "type": "heatmap"
           }
          ],
          "histogram": [
           {
            "marker": {
             "pattern": {
              "fillmode": "overlay",
              "size": 10,
              "solidity": 0.2
             }
            },
            "type": "histogram"
           }
          ],
          "histogram2d": [
           {
            "colorbar": {
             "outlinewidth": 0,
             "ticks": ""
            },
            "colorscale": [
             [
              0,
              "#0d0887"
             ],
             [
              0.1111111111111111,
              "#46039f"
             ],
             [
              0.2222222222222222,
              "#7201a8"
             ],
             [
              0.3333333333333333,
              "#9c179e"
             ],
             [
              0.4444444444444444,
              "#bd3786"
             ],
             [
              0.5555555555555556,
              "#d8576b"
             ],
             [
              0.6666666666666666,
              "#ed7953"
             ],
             [
              0.7777777777777778,
              "#fb9f3a"
             ],
             [
              0.8888888888888888,
              "#fdca26"
             ],
             [
              1,
              "#f0f921"
             ]
            ],
            "type": "histogram2d"
           }
          ],
          "histogram2dcontour": [
           {
            "colorbar": {
             "outlinewidth": 0,
             "ticks": ""
            },
            "colorscale": [
             [
              0,
              "#0d0887"
             ],
             [
              0.1111111111111111,
              "#46039f"
             ],
             [
              0.2222222222222222,
              "#7201a8"
             ],
             [
              0.3333333333333333,
              "#9c179e"
             ],
             [
              0.4444444444444444,
              "#bd3786"
             ],
             [
              0.5555555555555556,
              "#d8576b"
             ],
             [
              0.6666666666666666,
              "#ed7953"
             ],
             [
              0.7777777777777778,
              "#fb9f3a"
             ],
             [
              0.8888888888888888,
              "#fdca26"
             ],
             [
              1,
              "#f0f921"
             ]
            ],
            "type": "histogram2dcontour"
           }
          ],
          "mesh3d": [
           {
            "colorbar": {
             "outlinewidth": 0,
             "ticks": ""
            },
            "type": "mesh3d"
           }
          ],
          "parcoords": [
           {
            "line": {
             "colorbar": {
              "outlinewidth": 0,
              "ticks": ""
             }
            },
            "type": "parcoords"
           }
          ],
          "pie": [
           {
            "automargin": true,
            "type": "pie"
           }
          ],
          "scatter": [
           {
            "fillpattern": {
             "fillmode": "overlay",
             "size": 10,
             "solidity": 0.2
            },
            "type": "scatter"
           }
          ],
          "scatter3d": [
           {
            "line": {
             "colorbar": {
              "outlinewidth": 0,
              "ticks": ""
             }
            },
            "marker": {
             "colorbar": {
              "outlinewidth": 0,
              "ticks": ""
             }
            },
            "type": "scatter3d"
           }
          ],
          "scattercarpet": [
           {
            "marker": {
             "colorbar": {
              "outlinewidth": 0,
              "ticks": ""
             }
            },
            "type": "scattercarpet"
           }
          ],
          "scattergeo": [
           {
            "marker": {
             "colorbar": {
              "outlinewidth": 0,
              "ticks": ""
             }
            },
            "type": "scattergeo"
           }
          ],
          "scattergl": [
           {
            "marker": {
             "colorbar": {
              "outlinewidth": 0,
              "ticks": ""
             }
            },
            "type": "scattergl"
           }
          ],
          "scattermap": [
           {
            "marker": {
             "colorbar": {
              "outlinewidth": 0,
              "ticks": ""
             }
            },
            "type": "scattermap"
           }
          ],
          "scattermapbox": [
           {
            "marker": {
             "colorbar": {
              "outlinewidth": 0,
              "ticks": ""
             }
            },
            "type": "scattermapbox"
           }
          ],
          "scatterpolar": [
           {
            "marker": {
             "colorbar": {
              "outlinewidth": 0,
              "ticks": ""
             }
            },
            "type": "scatterpolar"
           }
          ],
          "scatterpolargl": [
           {
            "marker": {
             "colorbar": {
              "outlinewidth": 0,
              "ticks": ""
             }
            },
            "type": "scatterpolargl"
           }
          ],
          "scatterternary": [
           {
            "marker": {
             "colorbar": {
              "outlinewidth": 0,
              "ticks": ""
             }
            },
            "type": "scatterternary"
           }
          ],
          "surface": [
           {
            "colorbar": {
             "outlinewidth": 0,
             "ticks": ""
            },
            "colorscale": [
             [
              0,
              "#0d0887"
             ],
             [
              0.1111111111111111,
              "#46039f"
             ],
             [
              0.2222222222222222,
              "#7201a8"
             ],
             [
              0.3333333333333333,
              "#9c179e"
             ],
             [
              0.4444444444444444,
              "#bd3786"
             ],
             [
              0.5555555555555556,
              "#d8576b"
             ],
             [
              0.6666666666666666,
              "#ed7953"
             ],
             [
              0.7777777777777778,
              "#fb9f3a"
             ],
             [
              0.8888888888888888,
              "#fdca26"
             ],
             [
              1,
              "#f0f921"
             ]
            ],
            "type": "surface"
           }
          ],
          "table": [
           {
            "cells": {
             "fill": {
              "color": "#EBF0F8"
             },
             "line": {
              "color": "white"
             }
            },
            "header": {
             "fill": {
              "color": "#C8D4E3"
             },
             "line": {
              "color": "white"
             }
            },
            "type": "table"
           }
          ]
         },
         "layout": {
          "annotationdefaults": {
           "arrowcolor": "#2a3f5f",
           "arrowhead": 0,
           "arrowwidth": 1
          },
          "autotypenumbers": "strict",
          "coloraxis": {
           "colorbar": {
            "outlinewidth": 0,
            "ticks": ""
           }
          },
          "colorscale": {
           "diverging": [
            [
             0,
             "#8e0152"
            ],
            [
             0.1,
             "#c51b7d"
            ],
            [
             0.2,
             "#de77ae"
            ],
            [
             0.3,
             "#f1b6da"
            ],
            [
             0.4,
             "#fde0ef"
            ],
            [
             0.5,
             "#f7f7f7"
            ],
            [
             0.6,
             "#e6f5d0"
            ],
            [
             0.7,
             "#b8e186"
            ],
            [
             0.8,
             "#7fbc41"
            ],
            [
             0.9,
             "#4d9221"
            ],
            [
             1,
             "#276419"
            ]
           ],
           "sequential": [
            [
             0,
             "#0d0887"
            ],
            [
             0.1111111111111111,
             "#46039f"
            ],
            [
             0.2222222222222222,
             "#7201a8"
            ],
            [
             0.3333333333333333,
             "#9c179e"
            ],
            [
             0.4444444444444444,
             "#bd3786"
            ],
            [
             0.5555555555555556,
             "#d8576b"
            ],
            [
             0.6666666666666666,
             "#ed7953"
            ],
            [
             0.7777777777777778,
             "#fb9f3a"
            ],
            [
             0.8888888888888888,
             "#fdca26"
            ],
            [
             1,
             "#f0f921"
            ]
           ],
           "sequentialminus": [
            [
             0,
             "#0d0887"
            ],
            [
             0.1111111111111111,
             "#46039f"
            ],
            [
             0.2222222222222222,
             "#7201a8"
            ],
            [
             0.3333333333333333,
             "#9c179e"
            ],
            [
             0.4444444444444444,
             "#bd3786"
            ],
            [
             0.5555555555555556,
             "#d8576b"
            ],
            [
             0.6666666666666666,
             "#ed7953"
            ],
            [
             0.7777777777777778,
             "#fb9f3a"
            ],
            [
             0.8888888888888888,
             "#fdca26"
            ],
            [
             1,
             "#f0f921"
            ]
           ]
          },
          "colorway": [
           "#636efa",
           "#EF553B",
           "#00cc96",
           "#ab63fa",
           "#FFA15A",
           "#19d3f3",
           "#FF6692",
           "#B6E880",
           "#FF97FF",
           "#FECB52"
          ],
          "font": {
           "color": "#2a3f5f"
          },
          "geo": {
           "bgcolor": "white",
           "lakecolor": "white",
           "landcolor": "#E5ECF6",
           "showlakes": true,
           "showland": true,
           "subunitcolor": "white"
          },
          "hoverlabel": {
           "align": "left"
          },
          "hovermode": "closest",
          "mapbox": {
           "style": "light"
          },
          "paper_bgcolor": "white",
          "plot_bgcolor": "#E5ECF6",
          "polar": {
           "angularaxis": {
            "gridcolor": "white",
            "linecolor": "white",
            "ticks": ""
           },
           "bgcolor": "#E5ECF6",
           "radialaxis": {
            "gridcolor": "white",
            "linecolor": "white",
            "ticks": ""
           }
          },
          "scene": {
           "xaxis": {
            "backgroundcolor": "#E5ECF6",
            "gridcolor": "white",
            "gridwidth": 2,
            "linecolor": "white",
            "showbackground": true,
            "ticks": "",
            "zerolinecolor": "white"
           },
           "yaxis": {
            "backgroundcolor": "#E5ECF6",
            "gridcolor": "white",
            "gridwidth": 2,
            "linecolor": "white",
            "showbackground": true,
            "ticks": "",
            "zerolinecolor": "white"
           },
           "zaxis": {
            "backgroundcolor": "#E5ECF6",
            "gridcolor": "white",
            "gridwidth": 2,
            "linecolor": "white",
            "showbackground": true,
            "ticks": "",
            "zerolinecolor": "white"
           }
          },
          "shapedefaults": {
           "line": {
            "color": "#2a3f5f"
           }
          },
          "ternary": {
           "aaxis": {
            "gridcolor": "white",
            "linecolor": "white",
            "ticks": ""
           },
           "baxis": {
            "gridcolor": "white",
            "linecolor": "white",
            "ticks": ""
           },
           "bgcolor": "#E5ECF6",
           "caxis": {
            "gridcolor": "white",
            "linecolor": "white",
            "ticks": ""
           }
          },
          "title": {
           "x": 0.05
          },
          "xaxis": {
           "automargin": true,
           "gridcolor": "white",
           "linecolor": "white",
           "ticks": "",
           "title": {
            "standoff": 15
           },
           "zerolinecolor": "white",
           "zerolinewidth": 2
          },
          "yaxis": {
           "automargin": true,
           "gridcolor": "white",
           "linecolor": "white",
           "ticks": "",
           "title": {
            "standoff": 15
           },
           "zerolinecolor": "white",
           "zerolinewidth": 2
          }
         }
        },
        "title": {
         "text": "Premium Price by Age and HistoryOfCancerInFamily",
         "x": 0.5
        },
        "xaxis": {
         "anchor": "y",
         "domain": [
          0,
          1
         ],
         "title": {
          "text": "Age"
         }
        },
        "yaxis": {
         "anchor": "x",
         "domain": [
          0,
          1
         ],
         "title": {
          "text": "PremiumPrice"
         }
        }
       }
      }
     },
     "metadata": {},
     "output_type": "display_data"
    }
   ],
   "source": [
    "cat_cols = ['Diabetes', 'BloodPressureProblems', 'AnyTransplants', 'AnyChronicDiseases', 'KnownAllergies', 'HistoryOfCancerInFamily']\n",
    "for cols in cat_cols:\n",
    "    df[cols] = df[cols].astype(str)\n",
    "    fig = px.scatter(df, x='Age', y='PremiumPrice', color=cols, title=f'Premium Price by Age and {cols}', \n",
    "                        color_discrete_map={\"0\": 'red', \"1\": 'green'})\n",
    "    fig.update_layout(title_x=0.5)\n",
    "    fig.show()"
   ]
  },
  {
   "cell_type": "markdown",
   "id": "d5e65950",
   "metadata": {},
   "source": [
    "* Those people have gone for the transplant, got the higher premium price."
   ]
  },
  {
   "cell_type": "code",
   "execution_count": 16,
   "id": "9f81cd6b",
   "metadata": {},
   "outputs": [
    {
     "data": {
      "application/vnd.plotly.v1+json": {
       "config": {
        "plotlyServerURL": "https://plot.ly"
       },
       "data": [
        {
         "hovertemplate": "Age=%{x}<br>PremiumPrice=%{y}<br>NumberOfMajorSurgeries=%{marker.color}<extra></extra>",
         "legendgroup": "",
         "marker": {
          "color": {
           "bdata": "AAABAgEBAAAAAAIAAQABAQAAAAACAAEBAQAAAgAAAQAAAAMCAAEBAAACAQEAAQAAAQAAAgIAAAAAAgAAAAAAAAIBAgEAAAEBAAACAgEAAgAAAAABAAEBAQEAAQMBAgIBAQAAAAEAAQAAAAABAQMBAAEAAQECAQABAgEAAAAAAAEBAQECAAABAAACAAABAgEBAgAAAAIAAgEBAAEAAAEAAAEBAAEAAAAAAAEAAAEBAQEBAQACAQEBAAAAAAABAAAAAgEBAAAAAQABAAEBAQABAQABAAEAAQIAAgIBAQIBAQABAAIBAAIBAAIBAQEAAQIAAQEAAgACAQABAAAAAAACAAAAAAEAAAEAAAEBAQABAQIBAQMAAAEBAAABAwECAQEBAQEBAAEAAAIBAQIAAAEAAQAAAAACAwAAAQABAAEAAAEAAAABAQAAAQIBAAICAQACAAIBAQABAQEAAAEAAQIAAAEBAQIAAAAAAQABAQACAQIAAAEAAAIAAAACAAACAAAAAAAAAQAAAAAAAAIBAQACAQEDAQACAQAAAAACAAIAAAABAAAAAQAAAQIAAAEAAQABAQAAAQEAAAEBAQEAAAEAAgACAQECAgEAAQEDAAABAAMAAAAAAQEAAAEAAAEBAgEBAAAAAQABAAAAAQEBAAECAQEAAgABAQICAAABAgEAAAEAAAAAAAEBAAEBAgAAAAIBAQAAAAEBAAACAAACAAAAAQEBAAAAAAICAQEBAAEBAQABAAAAAAIAAAECAgEBAQIAAAEAAQACAQEBAAEBAAEAAAAAAAABAQEAAAABAAADAQEAAAABAQEBAAEAAQIBAAEAAQAAAQEAAAAAAgEAAQABAAEAAQEAAQEAAgEAAQAAAAEBAQAAAQEBAQAAAgABAQAAAAEBAAAAAAIBAAEAAQEAAgEBAAAAAQABAAAAAQACAAABAAAAAAAAAAEBAgEAAgIAAAAAAQABAgAAAgAAAAIAAgICAQEAAAEAAQAAAQABAAABAQACAgAAAAAAAAAAAAECAAABAAAAAAIBAAABAQAAAQACAAEBAQABAAEAAAAAAgEAAQEAAQABAAABAAAAAAEBAAMDAQECAAIAAQIBAAEBAAABAAAAAgACAAIAAgAAAAABAAEBAQACAAAAAQADAAEAAQEBAQABAQEBAAEBAQACAAEBAAEBAQAAAQEAAAEAAQAAAgABAQAAAgABAgEAAQABAQAAAgECAQEAAAAAAAEAAQEAAQEBAQEBAQABAQEAAAEBAAAAAAECAQEDAwAAAQACAAEAAQABAQEAAAEAAQAAAAABAAAAAAMBAQE=",
           "dtype": "i1"
          },
          "coloraxis": "coloraxis",
          "size": {
           "bdata": "AAABAgEBAAAAAAIAAQABAQAAAAACAAEBAQAAAgAAAQAAAAMCAAEBAAACAQEAAQAAAQAAAgIAAAAAAgAAAAAAAAIBAgEAAAEBAAACAgEAAgAAAAABAAEBAQEAAQMBAgIBAQAAAAEAAQAAAAABAQMBAAEAAQECAQABAgEAAAAAAAEBAQECAAABAAACAAABAgEBAgAAAAIAAgEBAAEAAAEAAAEBAAEAAAAAAAEAAAEBAQEBAQACAQEBAAAAAAABAAAAAgEBAAAAAQABAAEBAQABAQABAAEAAQIAAgIBAQIBAQABAAIBAAIBAAIBAQEAAQIAAQEAAgACAQABAAAAAAACAAAAAAEAAAEAAAEBAQABAQIBAQMAAAEBAAABAwECAQEBAQEBAAEAAAIBAQIAAAEAAQAAAAACAwAAAQABAAEAAAEAAAABAQAAAQIBAAICAQACAAIBAQABAQEAAAEAAQIAAAEBAQIAAAAAAQABAQACAQIAAAEAAAIAAAACAAACAAAAAAAAAQAAAAAAAAIBAQACAQEDAQACAQAAAAACAAIAAAABAAAAAQAAAQIAAAEAAQABAQAAAQEAAAEBAQEAAAEAAgACAQECAgEAAQEDAAABAAMAAAAAAQEAAAEAAAEBAgEBAAAAAQABAAAAAQEBAAECAQEAAgABAQICAAABAgEAAAEAAAAAAAEBAAEBAgAAAAIBAQAAAAEBAAACAAACAAAAAQEBAAAAAAICAQEBAAEBAQABAAAAAAIAAAECAgEBAQIAAAEAAQACAQEBAAEBAAEAAAAAAAABAQEAAAABAAADAQEAAAABAQEBAAEAAQIBAAEAAQAAAQEAAAAAAgEAAQABAAEAAQEAAQEAAgEAAQAAAAEBAQAAAQEBAQAAAgABAQAAAAEBAAAAAAIBAAEAAQEAAgEBAAAAAQABAAAAAQACAAABAAAAAAAAAAEBAgEAAgIAAAAAAQABAgAAAgAAAAIAAgICAQEAAAEAAQAAAQABAAABAQACAgAAAAAAAAAAAAECAAABAAAAAAIBAAABAQAAAQACAAEBAQABAAEAAAAAAgEAAQEAAQABAAABAAAAAAEBAAMDAQECAAIAAQIBAAEBAAABAAAAAgACAAIAAgAAAAABAAEBAQACAAAAAQADAAEAAQEBAQABAQEBAAEBAQACAAEBAAEBAQAAAQEAAAEAAQAAAgABAQAAAgABAgEAAQABAQAAAgECAQEAAAAAAAEAAQEAAQEBAQEBAQABAQEAAAEBAAAAAAECAQEDAwAAAQACAAEAAQABAQEAAAEAAQAAAAABAAAAAAMBAQE=",
           "dtype": "i1"
          },
          "sizemode": "area",
          "sizeref": 0.0075,
          "symbol": "circle"
         },
         "mode": "markers",
         "name": "",
         "orientation": "v",
         "showlegend": false,
         "type": "scatter",
         "x": {
          "bdata": "LTwkNCYeIRcwJjxCGC4SJiomORUxFCMjNR8WPB4hFhocGkAyLDorGBRCGTQaLBk2QBQePz0rOik8MRcuJDcXH0AaMRMoIBs3Pxk1QhckMR4sPxsuLh8uFCMhLj80NjUVIh80KhgtOxUXITwfHEA3Ix0jLxk3O0IgNj8mFyEfKyc7Exw7JhciGyVCMzAoNiEhOzQjOzUyOC85KhU+PhQrLjoTIjUdIBIcLCowHh8vGDcqIyFCJiUeJB4uExkqIx4wMiErEyctMBQoIB4YGzwfEiAxKR08LjQWQkE+IzI9MRklOTwsFjg/JDUdIBIjIj42MRUUMS83HTQvExlBIDU8JRQWOSEwGTYkGBg3HigxLj4sJEAwFBwuNBIjQEIyMEI0MEAxHSstKEAoIDQjGhkZKBorOCZBQBcZJCg7IDQ1NyocISIYPR0wJjM9Hjk/Kx83EzItLy8rMBkiLxYiPzMwISoTKkEvKS0xKiIlKy42MDQjJD5AGT4dJSs9Nik+KxMmLTYdPjYtQCgjOjkcISBCKyBBIjdALCMmLSc7JD0hLB8SLSIlHSQWFD0xGzsXFTolGCwyJR0lGEEwQBYnExI7PBsyFCdAOiATExY9Oh04GEEYMCosGjEjOi85LikSMSAtGzgqQDo4Oi0tHiE7Gx5AIjMjPi4tGjJANCQ2MTNAFSMTPycrLz0qFBIyNCMVJTYqMx8cHDEuJi5BGRk+NjtAPz0vKTsSHEI6O0A/JRIdKhYkJSAzJz0bN0I6PCs2E0IzIiseKRIxMisbKx0fKh8pHy8bLDobNzMWHCwxLho+Gy08PRo6GzI5OysVKjsYIC0qIi0cJBgpKTApMxsjKCkVLCQtLDMUPzMWPx4oOxUeKyo/Jz9CLBwmNSsVMkIbMSQoHzsrMxY9QkE2IkI7GDMsMS4vNSMUMEIrGxY4OzwxHSsuMh0vOCEpJjs5PiA2Mjc0MyUSOCYwPC0XOSdBMjgbMkI1GhkbEzghExgYJSoUPxVBHiA1QCwuGysXEysSGTs7Hjs1KCkxL0EqKiktIiAYPzg8GxseLyQ6FCAhEh0iOSwhGBYkLB0bPiEwGSM+IS8wKkFBMihBEj4kIDQbQR80GigZFRUdMiw4MDgyPBIpIxgWFDASPSU2HRU3QRw9LDUZIUIcPhkSJxwqIzMwMxc1HywzJRYuFjQgLSs6Kj4tLxsSNyYlMxMiOSInNx4+GRMzHigVNj9CKy8dNSEVPikYHxMWKT0qNjYmEzAfKygjGTUrNy0dPB40GSw+PxUuGxJCFzsgMRsjQioSLS4aHxwvLBUtKBgoEkA4LxU=",
          "dtype": "i1"
         },
         "xaxis": "x",
         "y": {
          "bdata": "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",
          "dtype": "i4"
         },
         "yaxis": "y"
        }
       ],
       "layout": {
        "coloraxis": {
         "colorbar": {
          "title": {
           "text": "NumberOfMajorSurgeries"
          }
         },
         "colorscale": [
          [
           0,
           "#0d0887"
          ],
          [
           0.1111111111111111,
           "#46039f"
          ],
          [
           0.2222222222222222,
           "#7201a8"
          ],
          [
           0.3333333333333333,
           "#9c179e"
          ],
          [
           0.4444444444444444,
           "#bd3786"
          ],
          [
           0.5555555555555556,
           "#d8576b"
          ],
          [
           0.6666666666666666,
           "#ed7953"
          ],
          [
           0.7777777777777778,
           "#fb9f3a"
          ],
          [
           0.8888888888888888,
           "#fdca26"
          ],
          [
           1,
           "#f0f921"
          ]
         ]
        },
        "legend": {
         "itemsizing": "constant",
         "tracegroupgap": 0
        },
        "template": {
         "data": {
          "bar": [
           {
            "error_x": {
             "color": "#2a3f5f"
            },
            "error_y": {
             "color": "#2a3f5f"
            },
            "marker": {
             "line": {
              "color": "#E5ECF6",
              "width": 0.5
             },
             "pattern": {
              "fillmode": "overlay",
              "size": 10,
              "solidity": 0.2
             }
            },
            "type": "bar"
           }
          ],
          "barpolar": [
           {
            "marker": {
             "line": {
              "color": "#E5ECF6",
              "width": 0.5
             },
             "pattern": {
              "fillmode": "overlay",
              "size": 10,
              "solidity": 0.2
             }
            },
            "type": "barpolar"
           }
          ],
          "carpet": [
           {
            "aaxis": {
             "endlinecolor": "#2a3f5f",
             "gridcolor": "white",
             "linecolor": "white",
             "minorgridcolor": "white",
             "startlinecolor": "#2a3f5f"
            },
            "baxis": {
             "endlinecolor": "#2a3f5f",
             "gridcolor": "white",
             "linecolor": "white",
             "minorgridcolor": "white",
             "startlinecolor": "#2a3f5f"
            },
            "type": "carpet"
           }
          ],
          "choropleth": [
           {
            "colorbar": {
             "outlinewidth": 0,
             "ticks": ""
            },
            "type": "choropleth"
           }
          ],
          "contour": [
           {
            "colorbar": {
             "outlinewidth": 0,
             "ticks": ""
            },
            "colorscale": [
             [
              0,
              "#0d0887"
             ],
             [
              0.1111111111111111,
              "#46039f"
             ],
             [
              0.2222222222222222,
              "#7201a8"
             ],
             [
              0.3333333333333333,
              "#9c179e"
             ],
             [
              0.4444444444444444,
              "#bd3786"
             ],
             [
              0.5555555555555556,
              "#d8576b"
             ],
             [
              0.6666666666666666,
              "#ed7953"
             ],
             [
              0.7777777777777778,
              "#fb9f3a"
             ],
             [
              0.8888888888888888,
              "#fdca26"
             ],
             [
              1,
              "#f0f921"
             ]
            ],
            "type": "contour"
           }
          ],
          "contourcarpet": [
           {
            "colorbar": {
             "outlinewidth": 0,
             "ticks": ""
            },
            "type": "contourcarpet"
           }
          ],
          "heatmap": [
           {
            "colorbar": {
             "outlinewidth": 0,
             "ticks": ""
            },
            "colorscale": [
             [
              0,
              "#0d0887"
             ],
             [
              0.1111111111111111,
              "#46039f"
             ],
             [
              0.2222222222222222,
              "#7201a8"
             ],
             [
              0.3333333333333333,
              "#9c179e"
             ],
             [
              0.4444444444444444,
              "#bd3786"
             ],
             [
              0.5555555555555556,
              "#d8576b"
             ],
             [
              0.6666666666666666,
              "#ed7953"
             ],
             [
              0.7777777777777778,
              "#fb9f3a"
             ],
             [
              0.8888888888888888,
              "#fdca26"
             ],
             [
              1,
              "#f0f921"
             ]
            ],
            "type": "heatmap"
           }
          ],
          "histogram": [
           {
            "marker": {
             "pattern": {
              "fillmode": "overlay",
              "size": 10,
              "solidity": 0.2
             }
            },
            "type": "histogram"
           }
          ],
          "histogram2d": [
           {
            "colorbar": {
             "outlinewidth": 0,
             "ticks": ""
            },
            "colorscale": [
             [
              0,
              "#0d0887"
             ],
             [
              0.1111111111111111,
              "#46039f"
             ],
             [
              0.2222222222222222,
              "#7201a8"
             ],
             [
              0.3333333333333333,
              "#9c179e"
             ],
             [
              0.4444444444444444,
              "#bd3786"
             ],
             [
              0.5555555555555556,
              "#d8576b"
             ],
             [
              0.6666666666666666,
              "#ed7953"
             ],
             [
              0.7777777777777778,
              "#fb9f3a"
             ],
             [
              0.8888888888888888,
              "#fdca26"
             ],
             [
              1,
              "#f0f921"
             ]
            ],
            "type": "histogram2d"
           }
          ],
          "histogram2dcontour": [
           {
            "colorbar": {
             "outlinewidth": 0,
             "ticks": ""
            },
            "colorscale": [
             [
              0,
              "#0d0887"
             ],
             [
              0.1111111111111111,
              "#46039f"
             ],
             [
              0.2222222222222222,
              "#7201a8"
             ],
             [
              0.3333333333333333,
              "#9c179e"
             ],
             [
              0.4444444444444444,
              "#bd3786"
             ],
             [
              0.5555555555555556,
              "#d8576b"
             ],
             [
              0.6666666666666666,
              "#ed7953"
             ],
             [
              0.7777777777777778,
              "#fb9f3a"
             ],
             [
              0.8888888888888888,
              "#fdca26"
             ],
             [
              1,
              "#f0f921"
             ]
            ],
            "type": "histogram2dcontour"
           }
          ],
          "mesh3d": [
           {
            "colorbar": {
             "outlinewidth": 0,
             "ticks": ""
            },
            "type": "mesh3d"
           }
          ],
          "parcoords": [
           {
            "line": {
             "colorbar": {
              "outlinewidth": 0,
              "ticks": ""
             }
            },
            "type": "parcoords"
           }
          ],
          "pie": [
           {
            "automargin": true,
            "type": "pie"
           }
          ],
          "scatter": [
           {
            "fillpattern": {
             "fillmode": "overlay",
             "size": 10,
             "solidity": 0.2
            },
            "type": "scatter"
           }
          ],
          "scatter3d": [
           {
            "line": {
             "colorbar": {
              "outlinewidth": 0,
              "ticks": ""
             }
            },
            "marker": {
             "colorbar": {
              "outlinewidth": 0,
              "ticks": ""
             }
            },
            "type": "scatter3d"
           }
          ],
          "scattercarpet": [
           {
            "marker": {
             "colorbar": {
              "outlinewidth": 0,
              "ticks": ""
             }
            },
            "type": "scattercarpet"
           }
          ],
          "scattergeo": [
           {
            "marker": {
             "colorbar": {
              "outlinewidth": 0,
              "ticks": ""
             }
            },
            "type": "scattergeo"
           }
          ],
          "scattergl": [
           {
            "marker": {
             "colorbar": {
              "outlinewidth": 0,
              "ticks": ""
             }
            },
            "type": "scattergl"
           }
          ],
          "scattermap": [
           {
            "marker": {
             "colorbar": {
              "outlinewidth": 0,
              "ticks": ""
             }
            },
            "type": "scattermap"
           }
          ],
          "scattermapbox": [
           {
            "marker": {
             "colorbar": {
              "outlinewidth": 0,
              "ticks": ""
             }
            },
            "type": "scattermapbox"
           }
          ],
          "scatterpolar": [
           {
            "marker": {
             "colorbar": {
              "outlinewidth": 0,
              "ticks": ""
             }
            },
            "type": "scatterpolar"
           }
          ],
          "scatterpolargl": [
           {
            "marker": {
             "colorbar": {
              "outlinewidth": 0,
              "ticks": ""
             }
            },
            "type": "scatterpolargl"
           }
          ],
          "scatterternary": [
           {
            "marker": {
             "colorbar": {
              "outlinewidth": 0,
              "ticks": ""
             }
            },
            "type": "scatterternary"
           }
          ],
          "surface": [
           {
            "colorbar": {
             "outlinewidth": 0,
             "ticks": ""
            },
            "colorscale": [
             [
              0,
              "#0d0887"
             ],
             [
              0.1111111111111111,
              "#46039f"
             ],
             [
              0.2222222222222222,
              "#7201a8"
             ],
             [
              0.3333333333333333,
              "#9c179e"
             ],
             [
              0.4444444444444444,
              "#bd3786"
             ],
             [
              0.5555555555555556,
              "#d8576b"
             ],
             [
              0.6666666666666666,
              "#ed7953"
             ],
             [
              0.7777777777777778,
              "#fb9f3a"
             ],
             [
              0.8888888888888888,
              "#fdca26"
             ],
             [
              1,
              "#f0f921"
             ]
            ],
            "type": "surface"
           }
          ],
          "table": [
           {
            "cells": {
             "fill": {
              "color": "#EBF0F8"
             },
             "line": {
              "color": "white"
             }
            },
            "header": {
             "fill": {
              "color": "#C8D4E3"
             },
             "line": {
              "color": "white"
             }
            },
            "type": "table"
           }
          ]
         },
         "layout": {
          "annotationdefaults": {
           "arrowcolor": "#2a3f5f",
           "arrowhead": 0,
           "arrowwidth": 1
          },
          "autotypenumbers": "strict",
          "coloraxis": {
           "colorbar": {
            "outlinewidth": 0,
            "ticks": ""
           }
          },
          "colorscale": {
           "diverging": [
            [
             0,
             "#8e0152"
            ],
            [
             0.1,
             "#c51b7d"
            ],
            [
             0.2,
             "#de77ae"
            ],
            [
             0.3,
             "#f1b6da"
            ],
            [
             0.4,
             "#fde0ef"
            ],
            [
             0.5,
             "#f7f7f7"
            ],
            [
             0.6,
             "#e6f5d0"
            ],
            [
             0.7,
             "#b8e186"
            ],
            [
             0.8,
             "#7fbc41"
            ],
            [
             0.9,
             "#4d9221"
            ],
            [
             1,
             "#276419"
            ]
           ],
           "sequential": [
            [
             0,
             "#0d0887"
            ],
            [
             0.1111111111111111,
             "#46039f"
            ],
            [
             0.2222222222222222,
             "#7201a8"
            ],
            [
             0.3333333333333333,
             "#9c179e"
            ],
            [
             0.4444444444444444,
             "#bd3786"
            ],
            [
             0.5555555555555556,
             "#d8576b"
            ],
            [
             0.6666666666666666,
             "#ed7953"
            ],
            [
             0.7777777777777778,
             "#fb9f3a"
            ],
            [
             0.8888888888888888,
             "#fdca26"
            ],
            [
             1,
             "#f0f921"
            ]
           ],
           "sequentialminus": [
            [
             0,
             "#0d0887"
            ],
            [
             0.1111111111111111,
             "#46039f"
            ],
            [
             0.2222222222222222,
             "#7201a8"
            ],
            [
             0.3333333333333333,
             "#9c179e"
            ],
            [
             0.4444444444444444,
             "#bd3786"
            ],
            [
             0.5555555555555556,
             "#d8576b"
            ],
            [
             0.6666666666666666,
             "#ed7953"
            ],
            [
             0.7777777777777778,
             "#fb9f3a"
            ],
            [
             0.8888888888888888,
             "#fdca26"
            ],
            [
             1,
             "#f0f921"
            ]
           ]
          },
          "colorway": [
           "#636efa",
           "#EF553B",
           "#00cc96",
           "#ab63fa",
           "#FFA15A",
           "#19d3f3",
           "#FF6692",
           "#B6E880",
           "#FF97FF",
           "#FECB52"
          ],
          "font": {
           "color": "#2a3f5f"
          },
          "geo": {
           "bgcolor": "white",
           "lakecolor": "white",
           "landcolor": "#E5ECF6",
           "showlakes": true,
           "showland": true,
           "subunitcolor": "white"
          },
          "hoverlabel": {
           "align": "left"
          },
          "hovermode": "closest",
          "mapbox": {
           "style": "light"
          },
          "paper_bgcolor": "white",
          "plot_bgcolor": "#E5ECF6",
          "polar": {
           "angularaxis": {
            "gridcolor": "white",
            "linecolor": "white",
            "ticks": ""
           },
           "bgcolor": "#E5ECF6",
           "radialaxis": {
            "gridcolor": "white",
            "linecolor": "white",
            "ticks": ""
           }
          },
          "scene": {
           "xaxis": {
            "backgroundcolor": "#E5ECF6",
            "gridcolor": "white",
            "gridwidth": 2,
            "linecolor": "white",
            "showbackground": true,
            "ticks": "",
            "zerolinecolor": "white"
           },
           "yaxis": {
            "backgroundcolor": "#E5ECF6",
            "gridcolor": "white",
            "gridwidth": 2,
            "linecolor": "white",
            "showbackground": true,
            "ticks": "",
            "zerolinecolor": "white"
           },
           "zaxis": {
            "backgroundcolor": "#E5ECF6",
            "gridcolor": "white",
            "gridwidth": 2,
            "linecolor": "white",
            "showbackground": true,
            "ticks": "",
            "zerolinecolor": "white"
           }
          },
          "shapedefaults": {
           "line": {
            "color": "#2a3f5f"
           }
          },
          "ternary": {
           "aaxis": {
            "gridcolor": "white",
            "linecolor": "white",
            "ticks": ""
           },
           "baxis": {
            "gridcolor": "white",
            "linecolor": "white",
            "ticks": ""
           },
           "bgcolor": "#E5ECF6",
           "caxis": {
            "gridcolor": "white",
            "linecolor": "white",
            "ticks": ""
           }
          },
          "title": {
           "x": 0.05
          },
          "xaxis": {
           "automargin": true,
           "gridcolor": "white",
           "linecolor": "white",
           "ticks": "",
           "title": {
            "standoff": 15
           },
           "zerolinecolor": "white",
           "zerolinewidth": 2
          },
          "yaxis": {
           "automargin": true,
           "gridcolor": "white",
           "linecolor": "white",
           "ticks": "",
           "title": {
            "standoff": 15
           },
           "zerolinecolor": "white",
           "zerolinewidth": 2
          }
         }
        },
        "title": {
         "text": "Premium Price by Age and Number of Major Surgeries",
         "x": 0.5
        },
        "xaxis": {
         "anchor": "y",
         "domain": [
          0,
          1
         ],
         "title": {
          "text": "Age"
         }
        },
        "yaxis": {
         "anchor": "x",
         "domain": [
          0,
          1
         ],
         "title": {
          "text": "PremiumPrice"
         }
        }
       }
      }
     },
     "metadata": {},
     "output_type": "display_data"
    }
   ],
   "source": [
    "fig = px.scatter(df, x='Age', y='PremiumPrice', size=\"NumberOfMajorSurgeries\", color=\"NumberOfMajorSurgeries\", \n",
    "                 title='Premium Price by Age and Number of Major Surgeries', color_discrete_map={0: 'red', 1: 'green', 2: \"blue\", 3: \"yellow\"})\n",
    "fig.update_layout(title_x=0.5)\n",
    "fig.show()"
   ]
  },
  {
   "cell_type": "markdown",
   "id": "235838d6",
   "metadata": {},
   "source": [
    "* People who are more than 60years old have gone through 3 major surgeries. And their premium prices are same 28K.\n",
    "* For 2 major surgeries, around the age of 50 to 60 years old, their premium amount is also same 28K."
   ]
  },
  {
   "cell_type": "markdown",
   "id": "9aa9ac7e",
   "metadata": {},
   "source": [
    "## Statistical Analysis"
   ]
  },
  {
   "cell_type": "code",
   "execution_count": 17,
   "id": "059b3f09",
   "metadata": {},
   "outputs": [
    {
     "data": {
      "application/vnd.plotly.v1+json": {
       "config": {
        "plotlyServerURL": "https://plot.ly"
       },
       "data": [
        {
         "coloraxis": "coloraxis",
         "hovertemplate": "x: %{x}<br>y: %{y}<br>color: %{z}<extra></extra>",
         "name": "0",
         "texttemplate": "%{z:.2f}",
         "type": "heatmap",
         "x": [
          "Age",
          "PremiumPrice",
          "BMI",
          "NumberOfMajorSurgeries"
         ],
         "xaxis": "x",
         "y": [
          "Age",
          "PremiumPrice",
          "BMI",
          "NumberOfMajorSurgeries"
         ],
         "yaxis": "y",
         "z": {
          "bdata": "AAAAAAAA8D8xA3BVP1LmPw/en46MgqW/THReorV32z8xA3BVP1LmPwAAAAAAAPA/lXDqFiaTuj8+tKTbdunQPw/en46MgqW/lXDqFiaTuj8AAAAAAADwP9jXTcah5Zu/THReorV32z8+tKTbdunQP9jXTcah5Zu/AAAAAAAA8D8=",
          "dtype": "f8",
          "shape": "4, 4"
         }
        }
       ],
       "layout": {
        "coloraxis": {
         "colorscale": [
          [
           0,
           "rgb(49,54,149)"
          ],
          [
           0.1,
           "rgb(69,117,180)"
          ],
          [
           0.2,
           "rgb(116,173,209)"
          ],
          [
           0.3,
           "rgb(171,217,233)"
          ],
          [
           0.4,
           "rgb(224,243,248)"
          ],
          [
           0.5,
           "rgb(255,255,191)"
          ],
          [
           0.6,
           "rgb(254,224,144)"
          ],
          [
           0.7,
           "rgb(253,174,97)"
          ],
          [
           0.8,
           "rgb(244,109,67)"
          ],
          [
           0.9,
           "rgb(215,48,39)"
          ],
          [
           1,
           "rgb(165,0,38)"
          ]
         ]
        },
        "height": 600,
        "template": {
         "data": {
          "bar": [
           {
            "error_x": {
             "color": "#2a3f5f"
            },
            "error_y": {
             "color": "#2a3f5f"
            },
            "marker": {
             "line": {
              "color": "#E5ECF6",
              "width": 0.5
             },
             "pattern": {
              "fillmode": "overlay",
              "size": 10,
              "solidity": 0.2
             }
            },
            "type": "bar"
           }
          ],
          "barpolar": [
           {
            "marker": {
             "line": {
              "color": "#E5ECF6",
              "width": 0.5
             },
             "pattern": {
              "fillmode": "overlay",
              "size": 10,
              "solidity": 0.2
             }
            },
            "type": "barpolar"
           }
          ],
          "carpet": [
           {
            "aaxis": {
             "endlinecolor": "#2a3f5f",
             "gridcolor": "white",
             "linecolor": "white",
             "minorgridcolor": "white",
             "startlinecolor": "#2a3f5f"
            },
            "baxis": {
             "endlinecolor": "#2a3f5f",
             "gridcolor": "white",
             "linecolor": "white",
             "minorgridcolor": "white",
             "startlinecolor": "#2a3f5f"
            },
            "type": "carpet"
           }
          ],
          "choropleth": [
           {
            "colorbar": {
             "outlinewidth": 0,
             "ticks": ""
            },
            "type": "choropleth"
           }
          ],
          "contour": [
           {
            "colorbar": {
             "outlinewidth": 0,
             "ticks": ""
            },
            "colorscale": [
             [
              0,
              "#0d0887"
             ],
             [
              0.1111111111111111,
              "#46039f"
             ],
             [
              0.2222222222222222,
              "#7201a8"
             ],
             [
              0.3333333333333333,
              "#9c179e"
             ],
             [
              0.4444444444444444,
              "#bd3786"
             ],
             [
              0.5555555555555556,
              "#d8576b"
             ],
             [
              0.6666666666666666,
              "#ed7953"
             ],
             [
              0.7777777777777778,
              "#fb9f3a"
             ],
             [
              0.8888888888888888,
              "#fdca26"
             ],
             [
              1,
              "#f0f921"
             ]
            ],
            "type": "contour"
           }
          ],
          "contourcarpet": [
           {
            "colorbar": {
             "outlinewidth": 0,
             "ticks": ""
            },
            "type": "contourcarpet"
           }
          ],
          "heatmap": [
           {
            "colorbar": {
             "outlinewidth": 0,
             "ticks": ""
            },
            "colorscale": [
             [
              0,
              "#0d0887"
             ],
             [
              0.1111111111111111,
              "#46039f"
             ],
             [
              0.2222222222222222,
              "#7201a8"
             ],
             [
              0.3333333333333333,
              "#9c179e"
             ],
             [
              0.4444444444444444,
              "#bd3786"
             ],
             [
              0.5555555555555556,
              "#d8576b"
             ],
             [
              0.6666666666666666,
              "#ed7953"
             ],
             [
              0.7777777777777778,
              "#fb9f3a"
             ],
             [
              0.8888888888888888,
              "#fdca26"
             ],
             [
              1,
              "#f0f921"
             ]
            ],
            "type": "heatmap"
           }
          ],
          "histogram": [
           {
            "marker": {
             "pattern": {
              "fillmode": "overlay",
              "size": 10,
              "solidity": 0.2
             }
            },
            "type": "histogram"
           }
          ],
          "histogram2d": [
           {
            "colorbar": {
             "outlinewidth": 0,
             "ticks": ""
            },
            "colorscale": [
             [
              0,
              "#0d0887"
             ],
             [
              0.1111111111111111,
              "#46039f"
             ],
             [
              0.2222222222222222,
              "#7201a8"
             ],
             [
              0.3333333333333333,
              "#9c179e"
             ],
             [
              0.4444444444444444,
              "#bd3786"
             ],
             [
              0.5555555555555556,
              "#d8576b"
             ],
             [
              0.6666666666666666,
              "#ed7953"
             ],
             [
              0.7777777777777778,
              "#fb9f3a"
             ],
             [
              0.8888888888888888,
              "#fdca26"
             ],
             [
              1,
              "#f0f921"
             ]
            ],
            "type": "histogram2d"
           }
          ],
          "histogram2dcontour": [
           {
            "colorbar": {
             "outlinewidth": 0,
             "ticks": ""
            },
            "colorscale": [
             [
              0,
              "#0d0887"
             ],
             [
              0.1111111111111111,
              "#46039f"
             ],
             [
              0.2222222222222222,
              "#7201a8"
             ],
             [
              0.3333333333333333,
              "#9c179e"
             ],
             [
              0.4444444444444444,
              "#bd3786"
             ],
             [
              0.5555555555555556,
              "#d8576b"
             ],
             [
              0.6666666666666666,
              "#ed7953"
             ],
             [
              0.7777777777777778,
              "#fb9f3a"
             ],
             [
              0.8888888888888888,
              "#fdca26"
             ],
             [
              1,
              "#f0f921"
             ]
            ],
            "type": "histogram2dcontour"
           }
          ],
          "mesh3d": [
           {
            "colorbar": {
             "outlinewidth": 0,
             "ticks": ""
            },
            "type": "mesh3d"
           }
          ],
          "parcoords": [
           {
            "line": {
             "colorbar": {
              "outlinewidth": 0,
              "ticks": ""
             }
            },
            "type": "parcoords"
           }
          ],
          "pie": [
           {
            "automargin": true,
            "type": "pie"
           }
          ],
          "scatter": [
           {
            "fillpattern": {
             "fillmode": "overlay",
             "size": 10,
             "solidity": 0.2
            },
            "type": "scatter"
           }
          ],
          "scatter3d": [
           {
            "line": {
             "colorbar": {
              "outlinewidth": 0,
              "ticks": ""
             }
            },
            "marker": {
             "colorbar": {
              "outlinewidth": 0,
              "ticks": ""
             }
            },
            "type": "scatter3d"
           }
          ],
          "scattercarpet": [
           {
            "marker": {
             "colorbar": {
              "outlinewidth": 0,
              "ticks": ""
             }
            },
            "type": "scattercarpet"
           }
          ],
          "scattergeo": [
           {
            "marker": {
             "colorbar": {
              "outlinewidth": 0,
              "ticks": ""
             }
            },
            "type": "scattergeo"
           }
          ],
          "scattergl": [
           {
            "marker": {
             "colorbar": {
              "outlinewidth": 0,
              "ticks": ""
             }
            },
            "type": "scattergl"
           }
          ],
          "scattermap": [
           {
            "marker": {
             "colorbar": {
              "outlinewidth": 0,
              "ticks": ""
             }
            },
            "type": "scattermap"
           }
          ],
          "scattermapbox": [
           {
            "marker": {
             "colorbar": {
              "outlinewidth": 0,
              "ticks": ""
             }
            },
            "type": "scattermapbox"
           }
          ],
          "scatterpolar": [
           {
            "marker": {
             "colorbar": {
              "outlinewidth": 0,
              "ticks": ""
             }
            },
            "type": "scatterpolar"
           }
          ],
          "scatterpolargl": [
           {
            "marker": {
             "colorbar": {
              "outlinewidth": 0,
              "ticks": ""
             }
            },
            "type": "scatterpolargl"
           }
          ],
          "scatterternary": [
           {
            "marker": {
             "colorbar": {
              "outlinewidth": 0,
              "ticks": ""
             }
            },
            "type": "scatterternary"
           }
          ],
          "surface": [
           {
            "colorbar": {
             "outlinewidth": 0,
             "ticks": ""
            },
            "colorscale": [
             [
              0,
              "#0d0887"
             ],
             [
              0.1111111111111111,
              "#46039f"
             ],
             [
              0.2222222222222222,
              "#7201a8"
             ],
             [
              0.3333333333333333,
              "#9c179e"
             ],
             [
              0.4444444444444444,
              "#bd3786"
             ],
             [
              0.5555555555555556,
              "#d8576b"
             ],
             [
              0.6666666666666666,
              "#ed7953"
             ],
             [
              0.7777777777777778,
              "#fb9f3a"
             ],
             [
              0.8888888888888888,
              "#fdca26"
             ],
             [
              1,
              "#f0f921"
             ]
            ],
            "type": "surface"
           }
          ],
          "table": [
           {
            "cells": {
             "fill": {
              "color": "#EBF0F8"
             },
             "line": {
              "color": "white"
             }
            },
            "header": {
             "fill": {
              "color": "#C8D4E3"
             },
             "line": {
              "color": "white"
             }
            },
            "type": "table"
           }
          ]
         },
         "layout": {
          "annotationdefaults": {
           "arrowcolor": "#2a3f5f",
           "arrowhead": 0,
           "arrowwidth": 1
          },
          "autotypenumbers": "strict",
          "coloraxis": {
           "colorbar": {
            "outlinewidth": 0,
            "ticks": ""
           }
          },
          "colorscale": {
           "diverging": [
            [
             0,
             "#8e0152"
            ],
            [
             0.1,
             "#c51b7d"
            ],
            [
             0.2,
             "#de77ae"
            ],
            [
             0.3,
             "#f1b6da"
            ],
            [
             0.4,
             "#fde0ef"
            ],
            [
             0.5,
             "#f7f7f7"
            ],
            [
             0.6,
             "#e6f5d0"
            ],
            [
             0.7,
             "#b8e186"
            ],
            [
             0.8,
             "#7fbc41"
            ],
            [
             0.9,
             "#4d9221"
            ],
            [
             1,
             "#276419"
            ]
           ],
           "sequential": [
            [
             0,
             "#0d0887"
            ],
            [
             0.1111111111111111,
             "#46039f"
            ],
            [
             0.2222222222222222,
             "#7201a8"
            ],
            [
             0.3333333333333333,
             "#9c179e"
            ],
            [
             0.4444444444444444,
             "#bd3786"
            ],
            [
             0.5555555555555556,
             "#d8576b"
            ],
            [
             0.6666666666666666,
             "#ed7953"
            ],
            [
             0.7777777777777778,
             "#fb9f3a"
            ],
            [
             0.8888888888888888,
             "#fdca26"
            ],
            [
             1,
             "#f0f921"
            ]
           ],
           "sequentialminus": [
            [
             0,
             "#0d0887"
            ],
            [
             0.1111111111111111,
             "#46039f"
            ],
            [
             0.2222222222222222,
             "#7201a8"
            ],
            [
             0.3333333333333333,
             "#9c179e"
            ],
            [
             0.4444444444444444,
             "#bd3786"
            ],
            [
             0.5555555555555556,
             "#d8576b"
            ],
            [
             0.6666666666666666,
             "#ed7953"
            ],
            [
             0.7777777777777778,
             "#fb9f3a"
            ],
            [
             0.8888888888888888,
             "#fdca26"
            ],
            [
             1,
             "#f0f921"
            ]
           ]
          },
          "colorway": [
           "#636efa",
           "#EF553B",
           "#00cc96",
           "#ab63fa",
           "#FFA15A",
           "#19d3f3",
           "#FF6692",
           "#B6E880",
           "#FF97FF",
           "#FECB52"
          ],
          "font": {
           "color": "#2a3f5f"
          },
          "geo": {
           "bgcolor": "white",
           "lakecolor": "white",
           "landcolor": "#E5ECF6",
           "showlakes": true,
           "showland": true,
           "subunitcolor": "white"
          },
          "hoverlabel": {
           "align": "left"
          },
          "hovermode": "closest",
          "mapbox": {
           "style": "light"
          },
          "paper_bgcolor": "white",
          "plot_bgcolor": "#E5ECF6",
          "polar": {
           "angularaxis": {
            "gridcolor": "white",
            "linecolor": "white",
            "ticks": ""
           },
           "bgcolor": "#E5ECF6",
           "radialaxis": {
            "gridcolor": "white",
            "linecolor": "white",
            "ticks": ""
           }
          },
          "scene": {
           "xaxis": {
            "backgroundcolor": "#E5ECF6",
            "gridcolor": "white",
            "gridwidth": 2,
            "linecolor": "white",
            "showbackground": true,
            "ticks": "",
            "zerolinecolor": "white"
           },
           "yaxis": {
            "backgroundcolor": "#E5ECF6",
            "gridcolor": "white",
            "gridwidth": 2,
            "linecolor": "white",
            "showbackground": true,
            "ticks": "",
            "zerolinecolor": "white"
           },
           "zaxis": {
            "backgroundcolor": "#E5ECF6",
            "gridcolor": "white",
            "gridwidth": 2,
            "linecolor": "white",
            "showbackground": true,
            "ticks": "",
            "zerolinecolor": "white"
           }
          },
          "shapedefaults": {
           "line": {
            "color": "#2a3f5f"
           }
          },
          "ternary": {
           "aaxis": {
            "gridcolor": "white",
            "linecolor": "white",
            "ticks": ""
           },
           "baxis": {
            "gridcolor": "white",
            "linecolor": "white",
            "ticks": ""
           },
           "bgcolor": "#E5ECF6",
           "caxis": {
            "gridcolor": "white",
            "linecolor": "white",
            "ticks": ""
           }
          },
          "title": {
           "x": 0.05
          },
          "xaxis": {
           "automargin": true,
           "gridcolor": "white",
           "linecolor": "white",
           "ticks": "",
           "title": {
            "standoff": 15
           },
           "zerolinecolor": "white",
           "zerolinewidth": 2
          },
          "yaxis": {
           "automargin": true,
           "gridcolor": "white",
           "linecolor": "white",
           "ticks": "",
           "title": {
            "standoff": 15
           },
           "zerolinecolor": "white",
           "zerolinewidth": 2
          }
         }
        },
        "title": {
         "text": "Pearson Correlation Heatmap",
         "x": 0.5
        },
        "width": 800,
        "xaxis": {
         "anchor": "y",
         "domain": [
          0,
          1
         ]
        },
        "yaxis": {
         "anchor": "x",
         "autorange": "reversed",
         "domain": [
          0,
          1
         ]
        }
       }
      }
     },
     "metadata": {},
     "output_type": "display_data"
    },
    {
     "data": {
      "application/vnd.plotly.v1+json": {
       "config": {
        "plotlyServerURL": "https://plot.ly"
       },
       "data": [
        {
         "coloraxis": "coloraxis",
         "hovertemplate": "x: %{x}<br>y: %{y}<br>color: %{z}<extra></extra>",
         "name": "0",
         "texttemplate": "%{z:.2f}",
         "type": "heatmap",
         "x": [
          "Age",
          "PremiumPrice",
          "BMI",
          "NumberOfMajorSurgeries"
         ],
         "xaxis": "x",
         "y": [
          "Age",
          "PremiumPrice",
          "BMI",
          "NumberOfMajorSurgeries"
         ],
         "yaxis": "y",
         "z": {
          "bdata": "AAAAAAAA8D9PhK3dm6bnP2A6FKNfW6O/XD8oKLB22D9PhK3dm6bnPwAAAAAAAPA/c8eFT1sNuT+y55tD34bSP2A6FKNfW6O/c8eFT1sNuT8AAAAAAADwP/p16sPsUqO/XD8oKLB22D+y55tD34bSP/p16sPsUqO/AAAAAAAA8D8=",
          "dtype": "f8",
          "shape": "4, 4"
         }
        }
       ],
       "layout": {
        "coloraxis": {
         "colorscale": [
          [
           0,
           "rgb(49,54,149)"
          ],
          [
           0.1,
           "rgb(69,117,180)"
          ],
          [
           0.2,
           "rgb(116,173,209)"
          ],
          [
           0.3,
           "rgb(171,217,233)"
          ],
          [
           0.4,
           "rgb(224,243,248)"
          ],
          [
           0.5,
           "rgb(255,255,191)"
          ],
          [
           0.6,
           "rgb(254,224,144)"
          ],
          [
           0.7,
           "rgb(253,174,97)"
          ],
          [
           0.8,
           "rgb(244,109,67)"
          ],
          [
           0.9,
           "rgb(215,48,39)"
          ],
          [
           1,
           "rgb(165,0,38)"
          ]
         ]
        },
        "height": 600,
        "template": {
         "data": {
          "bar": [
           {
            "error_x": {
             "color": "#2a3f5f"
            },
            "error_y": {
             "color": "#2a3f5f"
            },
            "marker": {
             "line": {
              "color": "#E5ECF6",
              "width": 0.5
             },
             "pattern": {
              "fillmode": "overlay",
              "size": 10,
              "solidity": 0.2
             }
            },
            "type": "bar"
           }
          ],
          "barpolar": [
           {
            "marker": {
             "line": {
              "color": "#E5ECF6",
              "width": 0.5
             },
             "pattern": {
              "fillmode": "overlay",
              "size": 10,
              "solidity": 0.2
             }
            },
            "type": "barpolar"
           }
          ],
          "carpet": [
           {
            "aaxis": {
             "endlinecolor": "#2a3f5f",
             "gridcolor": "white",
             "linecolor": "white",
             "minorgridcolor": "white",
             "startlinecolor": "#2a3f5f"
            },
            "baxis": {
             "endlinecolor": "#2a3f5f",
             "gridcolor": "white",
             "linecolor": "white",
             "minorgridcolor": "white",
             "startlinecolor": "#2a3f5f"
            },
            "type": "carpet"
           }
          ],
          "choropleth": [
           {
            "colorbar": {
             "outlinewidth": 0,
             "ticks": ""
            },
            "type": "choropleth"
           }
          ],
          "contour": [
           {
            "colorbar": {
             "outlinewidth": 0,
             "ticks": ""
            },
            "colorscale": [
             [
              0,
              "#0d0887"
             ],
             [
              0.1111111111111111,
              "#46039f"
             ],
             [
              0.2222222222222222,
              "#7201a8"
             ],
             [
              0.3333333333333333,
              "#9c179e"
             ],
             [
              0.4444444444444444,
              "#bd3786"
             ],
             [
              0.5555555555555556,
              "#d8576b"
             ],
             [
              0.6666666666666666,
              "#ed7953"
             ],
             [
              0.7777777777777778,
              "#fb9f3a"
             ],
             [
              0.8888888888888888,
              "#fdca26"
             ],
             [
              1,
              "#f0f921"
             ]
            ],
            "type": "contour"
           }
          ],
          "contourcarpet": [
           {
            "colorbar": {
             "outlinewidth": 0,
             "ticks": ""
            },
            "type": "contourcarpet"
           }
          ],
          "heatmap": [
           {
            "colorbar": {
             "outlinewidth": 0,
             "ticks": ""
            },
            "colorscale": [
             [
              0,
              "#0d0887"
             ],
             [
              0.1111111111111111,
              "#46039f"
             ],
             [
              0.2222222222222222,
              "#7201a8"
             ],
             [
              0.3333333333333333,
              "#9c179e"
             ],
             [
              0.4444444444444444,
              "#bd3786"
             ],
             [
              0.5555555555555556,
              "#d8576b"
             ],
             [
              0.6666666666666666,
              "#ed7953"
             ],
             [
              0.7777777777777778,
              "#fb9f3a"
             ],
             [
              0.8888888888888888,
              "#fdca26"
             ],
             [
              1,
              "#f0f921"
             ]
            ],
            "type": "heatmap"
           }
          ],
          "histogram": [
           {
            "marker": {
             "pattern": {
              "fillmode": "overlay",
              "size": 10,
              "solidity": 0.2
             }
            },
            "type": "histogram"
           }
          ],
          "histogram2d": [
           {
            "colorbar": {
             "outlinewidth": 0,
             "ticks": ""
            },
            "colorscale": [
             [
              0,
              "#0d0887"
             ],
             [
              0.1111111111111111,
              "#46039f"
             ],
             [
              0.2222222222222222,
              "#7201a8"
             ],
             [
              0.3333333333333333,
              "#9c179e"
             ],
             [
              0.4444444444444444,
              "#bd3786"
             ],
             [
              0.5555555555555556,
              "#d8576b"
             ],
             [
              0.6666666666666666,
              "#ed7953"
             ],
             [
              0.7777777777777778,
              "#fb9f3a"
             ],
             [
              0.8888888888888888,
              "#fdca26"
             ],
             [
              1,
              "#f0f921"
             ]
            ],
            "type": "histogram2d"
           }
          ],
          "histogram2dcontour": [
           {
            "colorbar": {
             "outlinewidth": 0,
             "ticks": ""
            },
            "colorscale": [
             [
              0,
              "#0d0887"
             ],
             [
              0.1111111111111111,
              "#46039f"
             ],
             [
              0.2222222222222222,
              "#7201a8"
             ],
             [
              0.3333333333333333,
              "#9c179e"
             ],
             [
              0.4444444444444444,
              "#bd3786"
             ],
             [
              0.5555555555555556,
              "#d8576b"
             ],
             [
              0.6666666666666666,
              "#ed7953"
             ],
             [
              0.7777777777777778,
              "#fb9f3a"
             ],
             [
              0.8888888888888888,
              "#fdca26"
             ],
             [
              1,
              "#f0f921"
             ]
            ],
            "type": "histogram2dcontour"
           }
          ],
          "mesh3d": [
           {
            "colorbar": {
             "outlinewidth": 0,
             "ticks": ""
            },
            "type": "mesh3d"
           }
          ],
          "parcoords": [
           {
            "line": {
             "colorbar": {
              "outlinewidth": 0,
              "ticks": ""
             }
            },
            "type": "parcoords"
           }
          ],
          "pie": [
           {
            "automargin": true,
            "type": "pie"
           }
          ],
          "scatter": [
           {
            "fillpattern": {
             "fillmode": "overlay",
             "size": 10,
             "solidity": 0.2
            },
            "type": "scatter"
           }
          ],
          "scatter3d": [
           {
            "line": {
             "colorbar": {
              "outlinewidth": 0,
              "ticks": ""
             }
            },
            "marker": {
             "colorbar": {
              "outlinewidth": 0,
              "ticks": ""
             }
            },
            "type": "scatter3d"
           }
          ],
          "scattercarpet": [
           {
            "marker": {
             "colorbar": {
              "outlinewidth": 0,
              "ticks": ""
             }
            },
            "type": "scattercarpet"
           }
          ],
          "scattergeo": [
           {
            "marker": {
             "colorbar": {
              "outlinewidth": 0,
              "ticks": ""
             }
            },
            "type": "scattergeo"
           }
          ],
          "scattergl": [
           {
            "marker": {
             "colorbar": {
              "outlinewidth": 0,
              "ticks": ""
             }
            },
            "type": "scattergl"
           }
          ],
          "scattermap": [
           {
            "marker": {
             "colorbar": {
              "outlinewidth": 0,
              "ticks": ""
             }
            },
            "type": "scattermap"
           }
          ],
          "scattermapbox": [
           {
            "marker": {
             "colorbar": {
              "outlinewidth": 0,
              "ticks": ""
             }
            },
            "type": "scattermapbox"
           }
          ],
          "scatterpolar": [
           {
            "marker": {
             "colorbar": {
              "outlinewidth": 0,
              "ticks": ""
             }
            },
            "type": "scatterpolar"
           }
          ],
          "scatterpolargl": [
           {
            "marker": {
             "colorbar": {
              "outlinewidth": 0,
              "ticks": ""
             }
            },
            "type": "scatterpolargl"
           }
          ],
          "scatterternary": [
           {
            "marker": {
             "colorbar": {
              "outlinewidth": 0,
              "ticks": ""
             }
            },
            "type": "scatterternary"
           }
          ],
          "surface": [
           {
            "colorbar": {
             "outlinewidth": 0,
             "ticks": ""
            },
            "colorscale": [
             [
              0,
              "#0d0887"
             ],
             [
              0.1111111111111111,
              "#46039f"
             ],
             [
              0.2222222222222222,
              "#7201a8"
             ],
             [
              0.3333333333333333,
              "#9c179e"
             ],
             [
              0.4444444444444444,
              "#bd3786"
             ],
             [
              0.5555555555555556,
              "#d8576b"
             ],
             [
              0.6666666666666666,
              "#ed7953"
             ],
             [
              0.7777777777777778,
              "#fb9f3a"
             ],
             [
              0.8888888888888888,
              "#fdca26"
             ],
             [
              1,
              "#f0f921"
             ]
            ],
            "type": "surface"
           }
          ],
          "table": [
           {
            "cells": {
             "fill": {
              "color": "#EBF0F8"
             },
             "line": {
              "color": "white"
             }
            },
            "header": {
             "fill": {
              "color": "#C8D4E3"
             },
             "line": {
              "color": "white"
             }
            },
            "type": "table"
           }
          ]
         },
         "layout": {
          "annotationdefaults": {
           "arrowcolor": "#2a3f5f",
           "arrowhead": 0,
           "arrowwidth": 1
          },
          "autotypenumbers": "strict",
          "coloraxis": {
           "colorbar": {
            "outlinewidth": 0,
            "ticks": ""
           }
          },
          "colorscale": {
           "diverging": [
            [
             0,
             "#8e0152"
            ],
            [
             0.1,
             "#c51b7d"
            ],
            [
             0.2,
             "#de77ae"
            ],
            [
             0.3,
             "#f1b6da"
            ],
            [
             0.4,
             "#fde0ef"
            ],
            [
             0.5,
             "#f7f7f7"
            ],
            [
             0.6,
             "#e6f5d0"
            ],
            [
             0.7,
             "#b8e186"
            ],
            [
             0.8,
             "#7fbc41"
            ],
            [
             0.9,
             "#4d9221"
            ],
            [
             1,
             "#276419"
            ]
           ],
           "sequential": [
            [
             0,
             "#0d0887"
            ],
            [
             0.1111111111111111,
             "#46039f"
            ],
            [
             0.2222222222222222,
             "#7201a8"
            ],
            [
             0.3333333333333333,
             "#9c179e"
            ],
            [
             0.4444444444444444,
             "#bd3786"
            ],
            [
             0.5555555555555556,
             "#d8576b"
            ],
            [
             0.6666666666666666,
             "#ed7953"
            ],
            [
             0.7777777777777778,
             "#fb9f3a"
            ],
            [
             0.8888888888888888,
             "#fdca26"
            ],
            [
             1,
             "#f0f921"
            ]
           ],
           "sequentialminus": [
            [
             0,
             "#0d0887"
            ],
            [
             0.1111111111111111,
             "#46039f"
            ],
            [
             0.2222222222222222,
             "#7201a8"
            ],
            [
             0.3333333333333333,
             "#9c179e"
            ],
            [
             0.4444444444444444,
             "#bd3786"
            ],
            [
             0.5555555555555556,
             "#d8576b"
            ],
            [
             0.6666666666666666,
             "#ed7953"
            ],
            [
             0.7777777777777778,
             "#fb9f3a"
            ],
            [
             0.8888888888888888,
             "#fdca26"
            ],
            [
             1,
             "#f0f921"
            ]
           ]
          },
          "colorway": [
           "#636efa",
           "#EF553B",
           "#00cc96",
           "#ab63fa",
           "#FFA15A",
           "#19d3f3",
           "#FF6692",
           "#B6E880",
           "#FF97FF",
           "#FECB52"
          ],
          "font": {
           "color": "#2a3f5f"
          },
          "geo": {
           "bgcolor": "white",
           "lakecolor": "white",
           "landcolor": "#E5ECF6",
           "showlakes": true,
           "showland": true,
           "subunitcolor": "white"
          },
          "hoverlabel": {
           "align": "left"
          },
          "hovermode": "closest",
          "mapbox": {
           "style": "light"
          },
          "paper_bgcolor": "white",
          "plot_bgcolor": "#E5ECF6",
          "polar": {
           "angularaxis": {
            "gridcolor": "white",
            "linecolor": "white",
            "ticks": ""
           },
           "bgcolor": "#E5ECF6",
           "radialaxis": {
            "gridcolor": "white",
            "linecolor": "white",
            "ticks": ""
           }
          },
          "scene": {
           "xaxis": {
            "backgroundcolor": "#E5ECF6",
            "gridcolor": "white",
            "gridwidth": 2,
            "linecolor": "white",
            "showbackground": true,
            "ticks": "",
            "zerolinecolor": "white"
           },
           "yaxis": {
            "backgroundcolor": "#E5ECF6",
            "gridcolor": "white",
            "gridwidth": 2,
            "linecolor": "white",
            "showbackground": true,
            "ticks": "",
            "zerolinecolor": "white"
           },
           "zaxis": {
            "backgroundcolor": "#E5ECF6",
            "gridcolor": "white",
            "gridwidth": 2,
            "linecolor": "white",
            "showbackground": true,
            "ticks": "",
            "zerolinecolor": "white"
           }
          },
          "shapedefaults": {
           "line": {
            "color": "#2a3f5f"
           }
          },
          "ternary": {
           "aaxis": {
            "gridcolor": "white",
            "linecolor": "white",
            "ticks": ""
           },
           "baxis": {
            "gridcolor": "white",
            "linecolor": "white",
            "ticks": ""
           },
           "bgcolor": "#E5ECF6",
           "caxis": {
            "gridcolor": "white",
            "linecolor": "white",
            "ticks": ""
           }
          },
          "title": {
           "x": 0.05
          },
          "xaxis": {
           "automargin": true,
           "gridcolor": "white",
           "linecolor": "white",
           "ticks": "",
           "title": {
            "standoff": 15
           },
           "zerolinecolor": "white",
           "zerolinewidth": 2
          },
          "yaxis": {
           "automargin": true,
           "gridcolor": "white",
           "linecolor": "white",
           "ticks": "",
           "title": {
            "standoff": 15
           },
           "zerolinecolor": "white",
           "zerolinewidth": 2
          }
         }
        },
        "title": {
         "text": "Spearman Correlation Heatmap",
         "x": 0.5
        },
        "width": 800,
        "xaxis": {
         "anchor": "y",
         "domain": [
          0,
          1
         ]
        },
        "yaxis": {
         "anchor": "x",
         "autorange": "reversed",
         "domain": [
          0,
          1
         ]
        }
       }
      }
     },
     "metadata": {},
     "output_type": "display_data"
    }
   ],
   "source": [
    "Pearson = df[['Age', 'PremiumPrice', \"BMI\", \"NumberOfMajorSurgeries\"]].corr('pearson')\n",
    "Spearman = df[['Age', 'PremiumPrice', \"BMI\", \"NumberOfMajorSurgeries\"]].corr('spearman')\n",
    "\n",
    "fig = px.imshow(Pearson, \n",
    "            text_auto='.2f',  \n",
    "            color_continuous_scale='RdYlBu_r', \n",
    "            title='Pearson Correlation Heatmap',\n",
    "            aspect='auto')\n",
    "fig.update_layout(title_x=0.5, width=800, height=600)\n",
    "fig.show()  \n",
    "\n",
    "fig = px.imshow(Spearman, \n",
    "                text_auto='.2f',  \n",
    "                color_continuous_scale='RdYlBu_r', \n",
    "                title='Spearman Correlation Heatmap',\n",
    "                aspect='auto')\n",
    "fig.update_layout(title_x=0.5, width=800, height=600)\n",
    "fig.show()"
   ]
  },
  {
   "cell_type": "markdown",
   "id": "9c3c4640",
   "metadata": {},
   "source": [
    "* Age and premium price are highly co-related."
   ]
  },
  {
   "cell_type": "code",
   "execution_count": 18,
   "id": "e0380b27",
   "metadata": {},
   "outputs": [
    {
     "data": {
      "image/png": "[encoded data removed]",
      "text/plain": [
       "<Figure size 1500x1000 with 6 Axes>"
      ]
     },
     "metadata": {},
     "output_type": "display_data"
    }
   ],
   "source": [
    "num_cols = df.select_dtypes(include=['number']).columns.tolist()\n",
    "\n",
    "n_cols = len(num_cols)\n",
    "n_rows = (n_cols + 2) // 3 \n",
    "\n",
    "fig, axes = plt.subplots(n_rows, 3, figsize=(15, 5*n_rows))\n",
    "axes = axes.ravel()\n",
    "\n",
    "for i, col in enumerate(num_cols):\n",
    "    sm.qqplot(df[col], line='45', ax=axes[i])\n",
    "    axes[i].set_title(f'Q-Q Plot of {col}')\n",
    "\n",
    "for j in range(i+1, len(axes)):\n",
    "    axes[j].set_visible(False)\n",
    "\n",
    "plt.tight_layout()\n",
    "plt.show()"
   ]
  },
  {
   "cell_type": "code",
   "execution_count": 19,
   "id": "755b206c",
   "metadata": {},
   "outputs": [
    {
     "name": "stdout",
     "output_type": "stream",
     "text": [
      "Shapiro-Wilk Test for Age: Statistic=0.9589, p-value=0.0000\n",
      "Data does not appear to be normally distributed\n",
      "____________________________________________________________________________________________________\n",
      "Shapiro-Wilk Test for Height: Statistic=0.9800, p-value=0.0000\n",
      "Data does not appear to be normally distributed\n",
      "____________________________________________________________________________________________________\n",
      "Shapiro-Wilk Test for Weight: Statistic=0.9670, p-value=0.0000\n",
      "Data does not appear to be normally distributed\n",
      "____________________________________________________________________________________________________\n",
      "Shapiro-Wilk Test for NumberOfMajorSurgeries: Statistic=0.7731, p-value=0.0000\n",
      "Data does not appear to be normally distributed\n",
      "____________________________________________________________________________________________________\n",
      "Shapiro-Wilk Test for PremiumPrice: Statistic=0.9272, p-value=0.0000\n",
      "Data does not appear to be normally distributed\n",
      "____________________________________________________________________________________________________\n",
      "Shapiro-Wilk Test for BMI: Statistic=0.9730, p-value=0.0000\n",
      "Data does not appear to be normally distributed\n",
      "____________________________________________________________________________________________________\n"
     ]
    }
   ],
   "source": [
    "for cols in num_cols:\n",
    "    stat, p_value = shapiro(df[cols])\n",
    "    print(f'Shapiro-Wilk Test for {cols}: Statistic={stat:.4f}, p-value={p_value:.4f}')\n",
    "\n",
    "    if p_value > 0.05:\n",
    "        print('Data appears to be normally distributed')\n",
    "    else:\n",
    "        print('Data does not appear to be normally distributed')\n",
    "    print('_'*100)"
   ]
  },
  {
   "cell_type": "markdown",
   "id": "c29cf66d",
   "metadata": {},
   "source": [
    "* From the above 2 tests, the premium price, age, height, weight and BMI are not normally distributed."
   ]
  },
  {
   "cell_type": "code",
   "execution_count": 20,
   "id": "3a7a68ec",
   "metadata": {},
   "outputs": [
    {
     "name": "stdout",
     "output_type": "stream",
     "text": [
      "Shapiro-Wilk Test for PremiumPrice_log: Statistic=0.8962, p-value=0.0000\n",
      "Data does not appear to be normally distributed\n",
      "____________________________________________________________________________________________________\n",
      "Shapiro-Wilk Test for Age_log: Statistic=0.9451, p-value=0.0000\n",
      "Data does not appear to be normally distributed\n",
      "____________________________________________________________________________________________________\n",
      "Shapiro-Wilk Test for Height_log: Statistic=0.9766, p-value=0.0000\n",
      "Data does not appear to be normally distributed\n",
      "____________________________________________________________________________________________________\n",
      "Shapiro-Wilk Test for Weight_log: Statistic=0.9897, p-value=0.0000\n",
      "Data does not appear to be normally distributed\n",
      "____________________________________________________________________________________________________\n",
      "Shapiro-Wilk Test for BMI_log: Statistic=0.9956, p-value=0.0065\n",
      "Data does not appear to be normally distributed\n",
      "____________________________________________________________________________________________________\n"
     ]
    }
   ],
   "source": [
    "# Log transform\n",
    "for cols in num_cols:\n",
    "    df[f'{cols}_log'] = np.log(df[cols])\n",
    "\n",
    "num_cols_log = [\"PremiumPrice_log\", \"Age_log\", \"Height_log\", \"Weight_log\", \"BMI_log\"]\n",
    "\n",
    "for cols in num_cols_log:\n",
    "    stat, p_value = shapiro(df[cols])\n",
    "    print(f'Shapiro-Wilk Test for {cols}: Statistic={stat:.4f}, p-value={p_value:.4f}')\n",
    "\n",
    "    if p_value > 0.05:\n",
    "        print('Data appears to be normally distributed')\n",
    "    else:\n",
    "        print('Data does not appear to be normally distributed')\n",
    "    print('_'*100)"
   ]
  },
  {
   "cell_type": "markdown",
   "id": "b37baea7",
   "metadata": {},
   "source": [
    "* After the log transform the data are still not normally distributed. So we will use the original data without transformation."
   ]
  },
  {
   "cell_type": "code",
   "execution_count": 21,
   "id": "25a2c325",
   "metadata": {},
   "outputs": [
    {
     "name": "stdout",
     "output_type": "stream",
     "text": [
      "Diabetes vs Premium price\n",
      "  Mann-Whitney U Test: p-value = nan\n",
      "  No significant difference in Premium Price by Diabetes\n",
      "____________________________________________________________________________________________________\n",
      "BloodPressureProblems vs Premium price\n",
      "  Mann-Whitney U Test: p-value = nan\n",
      "  No significant difference in Premium Price by BloodPressureProblems\n",
      "____________________________________________________________________________________________________\n",
      "AnyTransplants vs Premium price\n",
      "  Mann-Whitney U Test: p-value = nan\n",
      "  No significant difference in Premium Price by AnyTransplants\n",
      "____________________________________________________________________________________________________\n",
      "AnyChronicDiseases vs Premium price\n",
      "  Mann-Whitney U Test: p-value = nan\n",
      "  No significant difference in Premium Price by AnyChronicDiseases\n",
      "____________________________________________________________________________________________________\n",
      "KnownAllergies vs Premium price\n",
      "  Mann-Whitney U Test: p-value = nan\n",
      "  No significant difference in Premium Price by KnownAllergies\n",
      "____________________________________________________________________________________________________\n",
      "HistoryOfCancerInFamily vs Premium price\n",
      "  Mann-Whitney U Test: p-value = nan\n",
      "  No significant difference in Premium Price by HistoryOfCancerInFamily\n",
      "____________________________________________________________________________________________________\n"
     ]
    }
   ],
   "source": [
    "# Since the data is not normally distributed, we will use non-parametric tests for the statistical Analysis\n",
    "\n",
    "# Instead of t-test, we use Mann-Whitney U test\n",
    "\n",
    "cols_grps = ['Diabetes', 'BloodPressureProblems', 'AnyTransplants', 'AnyChronicDiseases', 'KnownAllergies', 'HistoryOfCancerInFamily']\n",
    "\n",
    "for cols in cols_grps:\n",
    "    group1 = df[df[cols] == 0]['PremiumPrice']\n",
    "    group2 = df[df[cols] == 1]['PremiumPrice']\n",
    "\n",
    "    statistic, p_value = mannwhitneyu(group1, group2, alternative='two-sided')\n",
    "    print(f'{cols} vs Premium price')\n",
    "    print(f'  Mann-Whitney U Test: p-value = {p_value:.4f}')\n",
    "\n",
    "    if p_value < 0.05:\n",
    "        print(f'  Significant difference in Premium Price by {cols}')\n",
    "    else:\n",
    "        print(f'  No significant difference in Premium Price by {cols}')\n",
    "    print('_' * 100)\n"
   ]
  },
  {
   "cell_type": "markdown",
   "id": "eb881656",
   "metadata": {},
   "source": [
    "* From the statistical test, except the Known Allergies all other Diabetes, Blood pressure, Transplants, Chronic diseases and History of Cancer in Family have significant difference in Premium Price."
   ]
  },
  {
   "cell_type": "code",
   "execution_count": 22,
   "id": "4e3bedda",
   "metadata": {},
   "outputs": [
    {
     "name": "stdout",
     "output_type": "stream",
     "text": [
      "Kruskal-Wallis Test for AgeGroup: H-stat = 531.5472968196424  p-value = 3.766786977570815e-116\n",
      "Atleast one of the AgeGroup has a different Premium Median\n",
      "Kruskal-Wallis Test for BMI_Category: H-stat = 10.842646641302649  p-value = 0.012607896820871429\n",
      "Atleast one of the BMI_Category has a different Premium Median\n"
     ]
    }
   ],
   "source": [
    "df['AgeGroup'] = pd.cut(df['Age'], bins=[0,30,50,100], labels=['Young','Middle','Senior'])\n",
    "\n",
    "def grp (feature, df):\n",
    "    groups_age = [group['PremiumPrice'].values for name, group in df.groupby(feature)]\n",
    "    stat, p = stats.kruskal(*groups_age)\n",
    "    print(f\"Kruskal-Wallis Test for {feature}: H-stat =\", stat, \" p-value =\", p)\n",
    "\n",
    "    if p<0.05:\n",
    "        print(f'Atleast one of the {feature} has a different Premium Median')\n",
    "    else:\n",
    "        print('No difference')\n",
    "\n",
    "grp ('AgeGroup', df)\n",
    "grp ('BMI_Category', df)"
   ]
  },
  {
   "cell_type": "markdown",
   "id": "8b164688",
   "metadata": {},
   "source": [
    "* From the above analysis, both BMI and Age different groups have significant impact on the premium price."
   ]
  },
  {
   "cell_type": "code",
   "execution_count": 23,
   "id": "f4e800b9",
   "metadata": {},
   "outputs": [
    {
     "name": "stdout",
     "output_type": "stream",
     "text": [
      "Chi-Square Test: Diabetes vs Premium Price Category\n",
      "Chi2 statistic: 20.4125\n",
      "p-value: 0.0000\n",
      "Degrees of freedom: 2\n",
      "There is a significant association between Diabetes and Premium Price Category\n",
      "____________________________________________________________________________________________________\n",
      "Chi-Square Test: BloodPressureProblems vs Premium Price Category\n",
      "Chi2 statistic: 48.4761\n",
      "p-value: 0.0000\n",
      "Degrees of freedom: 2\n",
      "There is a significant association between BloodPressureProblems and Premium Price Category\n",
      "____________________________________________________________________________________________________\n",
      "Chi-Square Test: AnyTransplants vs Premium Price Category\n",
      "Chi2 statistic: 226.0377\n",
      "p-value: 0.0000\n",
      "Degrees of freedom: 2\n",
      "There is a significant association between AnyTransplants and Premium Price Category\n",
      "____________________________________________________________________________________________________\n",
      "Chi-Square Test: AnyChronicDiseases vs Premium Price Category\n",
      "Chi2 statistic: 32.3678\n",
      "p-value: 0.0000\n",
      "Degrees of freedom: 2\n",
      "There is a significant association between AnyChronicDiseases and Premium Price Category\n",
      "____________________________________________________________________________________________________\n",
      "Chi-Square Test: KnownAllergies vs Premium Price Category\n",
      "Chi2 statistic: 1.2943\n",
      "p-value: 0.5235\n",
      "Degrees of freedom: 2\n",
      "No significant association found\n",
      "____________________________________________________________________________________________________\n",
      "Chi-Square Test: HistoryOfCancerInFamily vs Premium Price Category\n",
      "Chi2 statistic: 28.4032\n",
      "p-value: 0.0000\n",
      "Degrees of freedom: 2\n",
      "There is a significant association between HistoryOfCancerInFamily and Premium Price Category\n",
      "____________________________________________________________________________________________________\n",
      "Chi-Square Test: BMI_Category vs Premium Price Category\n",
      "Chi2 statistic: 40.4440\n",
      "p-value: 0.0000\n",
      "Degrees of freedom: 6\n",
      "There is a significant association between BMI_Category and Premium Price Category\n",
      "____________________________________________________________________________________________________\n",
      "Chi-Square Test: AgeGroup vs Premium Price Category\n",
      "Chi2 statistic: 514.0678\n",
      "p-value: 0.0000\n",
      "Degrees of freedom: 4\n",
      "There is a significant association between AgeGroup and Premium Price Category\n",
      "____________________________________________________________________________________________________\n"
     ]
    }
   ],
   "source": [
    "df['PremiumPrice_Category'] = pd.cut(df['PremiumPrice'], \n",
    "                                    bins=3, \n",
    "                                    labels=['Low', 'Medium', 'High'])\n",
    "\n",
    "cat_cols = ['Diabetes', 'BloodPressureProblems', 'AnyTransplants', 'AnyChronicDiseases', 'KnownAllergies',\n",
    "                'HistoryOfCancerInFamily', 'BMI_Category', 'AgeGroup']\n",
    "\n",
    "for cols in cat_cols:\n",
    "    contingency_table = pd.crosstab(df[cols], df['PremiumPrice_Category'])\n",
    "    chi2, p_value, dof, expected = chi2_contingency(contingency_table)\n",
    "\n",
    "    print(f'Chi-Square Test: {cols} vs Premium Price Category')\n",
    "    print(f'Chi2 statistic: {chi2:.4f}')\n",
    "    print(f'p-value: {p_value:.4f}')\n",
    "    print(f'Degrees of freedom: {dof}')\n",
    "\n",
    "    if p_value < 0.05:\n",
    "        print(f'There is a significant association between {cols} and Premium Price Category')\n",
    "    else:\n",
    "        print('No significant association found')\n",
    "    \n",
    "    print('_'*100)"
   ]
  },
  {
   "cell_type": "markdown",
   "id": "173fc655",
   "metadata": {},
   "source": [
    "* Except the known allergies, then the rest are have significant association with the Premium price."
   ]
  },
  {
   "cell_type": "code",
   "execution_count": 24,
   "id": "0a27298f",
   "metadata": {},
   "outputs": [],
   "source": [
    "# We can drop the unnecessary columns created during the analysis, before the ML model development.\n",
    "df.drop(df.columns[12:], axis=1, inplace = True)"
   ]
  },
  {
   "cell_type": "markdown",
   "id": "6336bb49",
   "metadata": {},
   "source": [
    "## ML Model"
   ]
  },
  {
   "cell_type": "markdown",
   "id": "f2274541",
   "metadata": {},
   "source": [
    "### ML preprocessing"
   ]
  },
  {
   "cell_type": "code",
   "execution_count": 25,
   "id": "4cf357f3",
   "metadata": {},
   "outputs": [],
   "source": [
    "X = df.drop(columns=['PremiumPrice'], axis=1)\n",
    "Y = df['PremiumPrice']\n",
    "X_train, X_test, y_train, y_test = train_test_split(X, Y, test_size=0.2, random_state=42)"
   ]
  },
  {
   "cell_type": "code",
   "execution_count": 26,
   "id": "22f5b466",
   "metadata": {},
   "outputs": [],
   "source": [
    "scaler = StandardScaler()\n",
    "X_train_scaled = scaler.fit_transform(X_train)\n",
    "X_test_scaled = scaler.transform(X_test)"
   ]
  },
  {
   "cell_type": "markdown",
   "id": "69efc7ae",
   "metadata": {},
   "source": [
    "### Training & Evaluation"
   ]
  },
  {
   "cell_type": "code",
   "execution_count": 27,
   "id": "6d48ee2a",
   "metadata": {},
   "outputs": [
    {
     "name": "stdout",
     "output_type": "stream",
     "text": [
      "\n",
      "📊 Model Performance:\n",
      "                        R2  Adj_R2       RMSE        MAE\n",
      "Linear Regression  0.7136  0.7104  3494.4047  2586.1486\n",
      "Ridge              0.7134  0.7102  3495.6605  2587.1945\n",
      "Lasso              0.7136  0.7104  3494.4117  2586.1526\n",
      "Random Forest      0.8948  0.8936  2118.2476  1002.6768\n"
     ]
    }
   ],
   "source": [
    "models = {\n",
    "    \"Linear Regression\": LinearRegression(),\n",
    "    \"Ridge\": Ridge(alpha=1.0),\n",
    "    \"Lasso\": Lasso(alpha=0.01),\n",
    "    \"Random Forest\": RandomForestRegressor(n_estimators=200, random_state=42)\n",
    "}\n",
    "\n",
    "results = {}\n",
    "\n",
    "for name, model in models.items():\n",
    "    if name in [\"LinearRegression\", \"Ridge\", \"Lasso\"]:\n",
    "        model.fit(X_train_scaled, y_train)\n",
    "        y_pred = model.predict(X_test_scaled)\n",
    "    else:\n",
    "        model.fit(X_train, y_train)\n",
    "        y_pred = model.predict(X_test)\n",
    "\n",
    "    r2 = round(r2_score(y_test, y_pred), 4)\n",
    "    rmse = round(np.sqrt(mean_squared_error(y_test, y_pred)), 4)\n",
    "    mae = round(mean_absolute_error(y_test, y_pred), 4)\n",
    "    n = len(Y)\n",
    "    k = X.shape[1]\n",
    "    adj_r2 = round(1 - ((1 - r2) * (n - 1) / (n - k - 1)), 4)\n",
    "    results[name] = {\"R2\": r2, \"Adj_R2\":adj_r2, \"RMSE\": rmse, \"MAE\": mae}\n",
    "\n",
    "results_df = pd.DataFrame(results).T\n",
    "print(\"\\n📊 Model Performance:\\n\", results_df)"
   ]
  },
  {
   "cell_type": "code",
   "execution_count": 31,
   "id": "2891e428",
   "metadata": {},
   "outputs": [
    {
     "name": "stdout",
     "output_type": "stream",
     "text": [
      "Coefficients: [ 319.73200523 -313.54682517  177.36472489 7185.68555128 2436.2806527\n",
      "  -40.2033987   102.75248781  178.53092951 2075.44990058 -631.07811845\n",
      "  -96.76452111]\n",
      "Intercept: 11794.419215082264\n",
      "Index(['Age', 'Diabetes', 'BloodPressureProblems', 'AnyTransplants',\n",
      "       'AnyChronicDiseases', 'Height', 'Weight', 'KnownAllergies',\n",
      "       'HistoryOfCancerInFamily', 'NumberOfMajorSurgeries', 'BMI'],\n",
      "      dtype='object')\n"
     ]
    }
   ],
   "source": [
    "# For Tableau\n",
    "surrogate = LinearRegression()\n",
    "surrogate.fit(X_train, model.predict(X_train))\n",
    "\n",
    "print(\"Coefficients:\", surrogate.coef_)\n",
    "print(\"Intercept:\", surrogate.intercept_)\n",
    "print(X_train.columns)"
   ]
  },
  {
   "cell_type": "code",
   "execution_count": 29,
   "id": "8659a35c",
   "metadata": {},
   "outputs": [
    {
     "data": {
      "image/png": "[encoded data removed]",
      "text/plain": [
       "<Figure size 640x480 with 1 Axes>"
      ]
     },
     "metadata": {},
     "output_type": "display_data"
    },
    {
     "data": {
      "image/png": "[encoded data removed]",
      "text/plain": [
       "<Figure size 640x480 with 1 Axes>"
      ]
     },
     "metadata": {},
     "output_type": "display_data"
    }
   ],
   "source": [
    "results_df.reset_index(inplace = True)\n",
    "\n",
    "sns.lineplot(data=results_df, x=\"index\", y=\"R2\", marker='o', label=\"R2\")\n",
    "sns.lineplot(data=results_df, x=\"index\", y=\"Adj_R2\", marker='o', label=\"Adj_R2\")\n",
    "\n",
    "plt.xticks(rotation=45)\n",
    "plt.title(\"Model vs R2 & Adjusted R2\")\n",
    "plt.ylabel(\"Score\")\n",
    "plt.tight_layout()\n",
    "plt.show()\n",
    "\n",
    "sns.lineplot(data=results_df, x=\"index\", y=\"MAE\", marker='o', label=\"MAE\")\n",
    "sns.lineplot(data=results_df, x=\"index\", y=\"RMSE\", marker='o', label=\"RMSE\")\n",
    "\n",
    "plt.xticks(rotation=45)\n",
    "plt.title(\"Model vs MAE & RMSE\")\n",
    "plt.ylabel(\"Score\")\n",
    "plt.tight_layout()\n",
    "plt.show()"
   ]
  },
  {
   "cell_type": "markdown",
   "id": "0945cabe",
   "metadata": {},
   "source": [
    "* From the above analysis, Random Forest gives the best R2 and Adj_R2 score. So we will use this model for deployment."
   ]
  },
  {
   "cell_type": "code",
   "execution_count": 30,
   "id": "bd6caf81",
   "metadata": {},
   "outputs": [
    {
     "data": {
      "text/plain": [
       "['premium_model.pkl']"
      ]
     },
     "execution_count": 30,
     "metadata": {},
     "output_type": "execute_result"
    }
   ],
   "source": [
    "import joblib\n",
    "\n",
    "final_model = RandomForestRegressor(random_state=42)\n",
    "final_model.fit(X_train, y_train)\n",
    "\n",
    "joblib.dump(final_model, \"premium_model.pkl\")"
   ]
  },
  {
   "cell_type": "markdown",
   "id": "a48aceef",
   "metadata": {},
   "source": [
    "## Overall Insights 💡"
   ]
  },
  {
   "cell_type": "markdown",
   "id": "fb437136",
   "metadata": {},
   "source": [
    "\n",
    "👉 Older - Obese and overweight people are got higher premium price. \n",
    "\n",
    "👉 Younger - Normal and underweight people are got lower premium price.\n",
    "\n",
    "👉 Those people have gone for any transplants surgery, got the higher premium price.\n",
    "\n",
    "👉 People who are more than 60years old have gone through 3 major surgeries. And their premium prices are same 28K.\n",
    "\n",
    "👉 For 2 major surgeries, around the age of 50 to 60 years old, their premium amount is also same 28K.\n",
    "\n",
    "👉 Age and premium price are highly co-related.\n",
    "\n",
    "👉 From the statistical test, except the Known Allergies all other Diabetes, Blood pressure, Transplants, Chronic diseases and History of Cancer in Family have significant difference in Premium Price, which means they are the factors impacting the premium price.\n",
    "\n",
    "👉 Both BMI and Age groups have significant impact on the premium price.\n",
    "\n",
    "👉 Except the known allergies, then the rest are have significant association with the Premium price."
   ]
  }
 ],
 "metadata": {
  "kernelspec": {
   "display_name": "Python 3",
   "language": "python",
   "name": "python3"
  },
  "language_info": {
   "codemirror_mode": {
    "name": "ipython",
    "version": 3
   },
   "file_extension": ".py",
   "mimetype": "text/x-python",
   "name": "python",
   "nbconvert_exporter": "python",
   "pygments_lexer": "ipython3",
   "version": "3.11.9"
  }
 },
 "nbformat": 4,
 "nbformat_minor": 5
}
